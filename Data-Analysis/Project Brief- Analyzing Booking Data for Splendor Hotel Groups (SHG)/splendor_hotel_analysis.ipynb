{
 "cells": [
  {
   "cell_type": "markdown",
   "id": "46acf975",
   "metadata": {},
   "source": [
    "##### Analyzing Booking Data for Splendor Hotel Groups (SHG)"
   ]
  },
  {
   "cell_type": "code",
   "execution_count": 1,
   "id": "e7dc9809",
   "metadata": {},
   "outputs": [],
   "source": [
    "#Importing Libraries\n",
    "import pandas as pd\n",
    "import numpy as np\n",
    "import matplotlib.pyplot as plt\n",
    "%matplotlib inline"
   ]
  },
  {
   "cell_type": "code",
   "execution_count": 2,
   "id": "099d6c9f",
   "metadata": {},
   "outputs": [],
   "source": [
    "#Reading the data\n",
    "file_path = r'C:\\Users\\user\\Documents\\Pandas\\SHG_Booking_Data.xlsx'\n",
    "df = pd.read_excel(file_path)"
   ]
  },
  {
   "cell_type": "code",
   "execution_count": 3,
   "id": "fcd2e52c",
   "metadata": {},
   "outputs": [
    {
     "data": {
      "text/html": [
       "<div><div id=ceeff451-9749-40f7-9aa3-fda896bc2a8a style=\"display:none; background-color:#9D6CFF; color:white; width:200px; height:30px; padding-left:5px; border-radius:4px; flex-direction:row; justify-content:space-around; align-items:center;\" onmouseover=\"this.style.backgroundColor='#BA9BF8'\" onmouseout=\"this.style.backgroundColor='#9D6CFF'\" onclick=\"window.commands?.execute('create-mitosheet-from-dataframe-output');\">See Full Dataframe in Mito</div> <script> if (window.commands.hasCommand('create-mitosheet-from-dataframe-output')) document.getElementById('ceeff451-9749-40f7-9aa3-fda896bc2a8a').style.display = 'flex' </script> <table border=\"1\" class=\"dataframe\">\n",
       "  <thead>\n",
       "    <tr style=\"text-align: right;\">\n",
       "      <th></th>\n",
       "      <th>Booking ID</th>\n",
       "      <th>Hotel</th>\n",
       "      <th>Booking Date</th>\n",
       "      <th>Arrival Date</th>\n",
       "      <th>Lead Time</th>\n",
       "      <th>Nights</th>\n",
       "      <th>Guests</th>\n",
       "      <th>Distribution Channel</th>\n",
       "      <th>Customer Type</th>\n",
       "      <th>Country</th>\n",
       "      <th>Deposit Type</th>\n",
       "      <th>Avg Daily Rate</th>\n",
       "      <th>Status</th>\n",
       "      <th>Status Update</th>\n",
       "      <th>Cancelled (0/1)</th>\n",
       "      <th>Revenue</th>\n",
       "      <th>Revenue Loss</th>\n",
       "    </tr>\n",
       "  </thead>\n",
       "  <tbody>\n",
       "    <tr>\n",
       "      <th>0</th>\n",
       "      <td>1.0</td>\n",
       "      <td>Resort</td>\n",
       "      <td>2014-07-24</td>\n",
       "      <td>2015-07-01</td>\n",
       "      <td>342.0</td>\n",
       "      <td>0.0</td>\n",
       "      <td>2.0</td>\n",
       "      <td>Direct</td>\n",
       "      <td>Transient</td>\n",
       "      <td>Portugal</td>\n",
       "      <td>No Deposit</td>\n",
       "      <td>0.0</td>\n",
       "      <td>Check-Out</td>\n",
       "      <td>2015-07-01</td>\n",
       "      <td>0.0</td>\n",
       "      <td>0.0</td>\n",
       "      <td>0.0</td>\n",
       "    </tr>\n",
       "    <tr>\n",
       "      <th>1</th>\n",
       "      <td>2.0</td>\n",
       "      <td>Resort</td>\n",
       "      <td>2013-06-24</td>\n",
       "      <td>2015-07-01</td>\n",
       "      <td>737.0</td>\n",
       "      <td>0.0</td>\n",
       "      <td>2.0</td>\n",
       "      <td>Direct</td>\n",
       "      <td>Transient</td>\n",
       "      <td>Portugal</td>\n",
       "      <td>No Deposit</td>\n",
       "      <td>0.0</td>\n",
       "      <td>Check-Out</td>\n",
       "      <td>2015-07-01</td>\n",
       "      <td>0.0</td>\n",
       "      <td>0.0</td>\n",
       "      <td>0.0</td>\n",
       "    </tr>\n",
       "    <tr>\n",
       "      <th>2</th>\n",
       "      <td>3.0</td>\n",
       "      <td>Resort</td>\n",
       "      <td>2015-06-24</td>\n",
       "      <td>2015-07-01</td>\n",
       "      <td>7.0</td>\n",
       "      <td>1.0</td>\n",
       "      <td>1.0</td>\n",
       "      <td>Direct</td>\n",
       "      <td>Transient</td>\n",
       "      <td>United Kingdom</td>\n",
       "      <td>No Deposit</td>\n",
       "      <td>75.0</td>\n",
       "      <td>Check-Out</td>\n",
       "      <td>2015-07-02</td>\n",
       "      <td>0.0</td>\n",
       "      <td>75.0</td>\n",
       "      <td>0.0</td>\n",
       "    </tr>\n",
       "    <tr>\n",
       "      <th>3</th>\n",
       "      <td>4.0</td>\n",
       "      <td>Resort</td>\n",
       "      <td>2015-06-18</td>\n",
       "      <td>2015-07-01</td>\n",
       "      <td>13.0</td>\n",
       "      <td>1.0</td>\n",
       "      <td>1.0</td>\n",
       "      <td>Corporate</td>\n",
       "      <td>Transient</td>\n",
       "      <td>United Kingdom</td>\n",
       "      <td>No Deposit</td>\n",
       "      <td>75.0</td>\n",
       "      <td>Check-Out</td>\n",
       "      <td>2015-07-02</td>\n",
       "      <td>0.0</td>\n",
       "      <td>75.0</td>\n",
       "      <td>0.0</td>\n",
       "    </tr>\n",
       "    <tr>\n",
       "      <th>4</th>\n",
       "      <td>5.0</td>\n",
       "      <td>Resort</td>\n",
       "      <td>2015-06-17</td>\n",
       "      <td>2015-07-01</td>\n",
       "      <td>14.0</td>\n",
       "      <td>2.0</td>\n",
       "      <td>2.0</td>\n",
       "      <td>Online Travel Agent</td>\n",
       "      <td>Transient</td>\n",
       "      <td>United Kingdom</td>\n",
       "      <td>No Deposit</td>\n",
       "      <td>98.0</td>\n",
       "      <td>Check-Out</td>\n",
       "      <td>2015-07-03</td>\n",
       "      <td>0.0</td>\n",
       "      <td>196.0</td>\n",
       "      <td>0.0</td>\n",
       "    </tr>\n",
       "  </tbody>\n",
       "</table></div>"
      ],
      "text/plain": [
       "   Booking ID   Hotel Booking Date Arrival Date  Lead Time  Nights  Guests  \\\n",
       "0         1.0  Resort   2014-07-24   2015-07-01      342.0     0.0     2.0   \n",
       "1         2.0  Resort   2013-06-24   2015-07-01      737.0     0.0     2.0   \n",
       "2         3.0  Resort   2015-06-24   2015-07-01        7.0     1.0     1.0   \n",
       "3         4.0  Resort   2015-06-18   2015-07-01       13.0     1.0     1.0   \n",
       "4         5.0  Resort   2015-06-17   2015-07-01       14.0     2.0     2.0   \n",
       "\n",
       "  Distribution Channel Customer Type         Country Deposit Type  \\\n",
       "0               Direct     Transient        Portugal   No Deposit   \n",
       "1               Direct     Transient        Portugal   No Deposit   \n",
       "2               Direct     Transient  United Kingdom   No Deposit   \n",
       "3            Corporate     Transient  United Kingdom   No Deposit   \n",
       "4  Online Travel Agent     Transient  United Kingdom   No Deposit   \n",
       "\n",
       "   Avg Daily Rate     Status Status Update  Cancelled (0/1)  Revenue  \\\n",
       "0             0.0  Check-Out    2015-07-01              0.0      0.0   \n",
       "1             0.0  Check-Out    2015-07-01              0.0      0.0   \n",
       "2            75.0  Check-Out    2015-07-02              0.0     75.0   \n",
       "3            75.0  Check-Out    2015-07-02              0.0     75.0   \n",
       "4            98.0  Check-Out    2015-07-03              0.0    196.0   \n",
       "\n",
       "   Revenue Loss  \n",
       "0           0.0  \n",
       "1           0.0  \n",
       "2           0.0  \n",
       "3           0.0  \n",
       "4           0.0  "
      ]
     },
     "execution_count": 3,
     "metadata": {},
     "output_type": "execute_result"
    }
   ],
   "source": [
    "#Viewing the dataframe\n",
    "df.head(5)"
   ]
  },
  {
   "cell_type": "code",
   "execution_count": 4,
   "id": "c71bef31",
   "metadata": {},
   "outputs": [
    {
     "data": {
      "text/html": [
       "<div><div id=8e9f46b8-38bf-47d1-8267-be438d371d94 style=\"display:none; background-color:#9D6CFF; color:white; width:200px; height:30px; padding-left:5px; border-radius:4px; flex-direction:row; justify-content:space-around; align-items:center;\" onmouseover=\"this.style.backgroundColor='#BA9BF8'\" onmouseout=\"this.style.backgroundColor='#9D6CFF'\" onclick=\"window.commands?.execute('create-mitosheet-from-dataframe-output');\">See Full Dataframe in Mito</div> <script> if (window.commands.hasCommand('create-mitosheet-from-dataframe-output')) document.getElementById('8e9f46b8-38bf-47d1-8267-be438d371d94').style.display = 'flex' </script> <table border=\"1\" class=\"dataframe\">\n",
       "  <thead>\n",
       "    <tr style=\"text-align: right;\">\n",
       "      <th></th>\n",
       "      <th>Booking ID</th>\n",
       "      <th>Hotel</th>\n",
       "      <th>Booking Date</th>\n",
       "      <th>Arrival Date</th>\n",
       "      <th>Lead Time</th>\n",
       "      <th>Nights</th>\n",
       "      <th>Guests</th>\n",
       "      <th>Distribution Channel</th>\n",
       "      <th>Customer Type</th>\n",
       "      <th>Country</th>\n",
       "      <th>Deposit Type</th>\n",
       "      <th>Avg Daily Rate</th>\n",
       "      <th>Status</th>\n",
       "      <th>Status Update</th>\n",
       "      <th>Cancelled (0/1)</th>\n",
       "      <th>Revenue</th>\n",
       "      <th>Revenue Loss</th>\n",
       "    </tr>\n",
       "  </thead>\n",
       "  <tbody>\n",
       "    <tr>\n",
       "      <th>0</th>\n",
       "      <td>False</td>\n",
       "      <td>False</td>\n",
       "      <td>False</td>\n",
       "      <td>False</td>\n",
       "      <td>False</td>\n",
       "      <td>False</td>\n",
       "      <td>False</td>\n",
       "      <td>False</td>\n",
       "      <td>False</td>\n",
       "      <td>False</td>\n",
       "      <td>False</td>\n",
       "      <td>False</td>\n",
       "      <td>False</td>\n",
       "      <td>False</td>\n",
       "      <td>False</td>\n",
       "      <td>False</td>\n",
       "      <td>False</td>\n",
       "    </tr>\n",
       "    <tr>\n",
       "      <th>1</th>\n",
       "      <td>False</td>\n",
       "      <td>False</td>\n",
       "      <td>False</td>\n",
       "      <td>False</td>\n",
       "      <td>False</td>\n",
       "      <td>False</td>\n",
       "      <td>False</td>\n",
       "      <td>False</td>\n",
       "      <td>False</td>\n",
       "      <td>False</td>\n",
       "      <td>False</td>\n",
       "      <td>False</td>\n",
       "      <td>False</td>\n",
       "      <td>False</td>\n",
       "      <td>False</td>\n",
       "      <td>False</td>\n",
       "      <td>False</td>\n",
       "    </tr>\n",
       "    <tr>\n",
       "      <th>2</th>\n",
       "      <td>False</td>\n",
       "      <td>False</td>\n",
       "      <td>False</td>\n",
       "      <td>False</td>\n",
       "      <td>False</td>\n",
       "      <td>False</td>\n",
       "      <td>False</td>\n",
       "      <td>False</td>\n",
       "      <td>False</td>\n",
       "      <td>False</td>\n",
       "      <td>False</td>\n",
       "      <td>False</td>\n",
       "      <td>False</td>\n",
       "      <td>False</td>\n",
       "      <td>False</td>\n",
       "      <td>False</td>\n",
       "      <td>False</td>\n",
       "    </tr>\n",
       "    <tr>\n",
       "      <th>3</th>\n",
       "      <td>False</td>\n",
       "      <td>False</td>\n",
       "      <td>False</td>\n",
       "      <td>False</td>\n",
       "      <td>False</td>\n",
       "      <td>False</td>\n",
       "      <td>False</td>\n",
       "      <td>False</td>\n",
       "      <td>False</td>\n",
       "      <td>False</td>\n",
       "      <td>False</td>\n",
       "      <td>False</td>\n",
       "      <td>False</td>\n",
       "      <td>False</td>\n",
       "      <td>False</td>\n",
       "      <td>False</td>\n",
       "      <td>False</td>\n",
       "    </tr>\n",
       "    <tr>\n",
       "      <th>4</th>\n",
       "      <td>False</td>\n",
       "      <td>False</td>\n",
       "      <td>False</td>\n",
       "      <td>False</td>\n",
       "      <td>False</td>\n",
       "      <td>False</td>\n",
       "      <td>False</td>\n",
       "      <td>False</td>\n",
       "      <td>False</td>\n",
       "      <td>False</td>\n",
       "      <td>False</td>\n",
       "      <td>False</td>\n",
       "      <td>False</td>\n",
       "      <td>False</td>\n",
       "      <td>False</td>\n",
       "      <td>False</td>\n",
       "      <td>False</td>\n",
       "    </tr>\n",
       "    <tr>\n",
       "      <th>...</th>\n",
       "      <td>...</td>\n",
       "      <td>...</td>\n",
       "      <td>...</td>\n",
       "      <td>...</td>\n",
       "      <td>...</td>\n",
       "      <td>...</td>\n",
       "      <td>...</td>\n",
       "      <td>...</td>\n",
       "      <td>...</td>\n",
       "      <td>...</td>\n",
       "      <td>...</td>\n",
       "      <td>...</td>\n",
       "      <td>...</td>\n",
       "      <td>...</td>\n",
       "      <td>...</td>\n",
       "      <td>...</td>\n",
       "      <td>...</td>\n",
       "    </tr>\n",
       "    <tr>\n",
       "      <th>119385</th>\n",
       "      <td>False</td>\n",
       "      <td>False</td>\n",
       "      <td>False</td>\n",
       "      <td>False</td>\n",
       "      <td>False</td>\n",
       "      <td>False</td>\n",
       "      <td>False</td>\n",
       "      <td>False</td>\n",
       "      <td>False</td>\n",
       "      <td>False</td>\n",
       "      <td>False</td>\n",
       "      <td>False</td>\n",
       "      <td>False</td>\n",
       "      <td>False</td>\n",
       "      <td>False</td>\n",
       "      <td>False</td>\n",
       "      <td>False</td>\n",
       "    </tr>\n",
       "    <tr>\n",
       "      <th>119386</th>\n",
       "      <td>False</td>\n",
       "      <td>False</td>\n",
       "      <td>False</td>\n",
       "      <td>False</td>\n",
       "      <td>False</td>\n",
       "      <td>False</td>\n",
       "      <td>False</td>\n",
       "      <td>False</td>\n",
       "      <td>False</td>\n",
       "      <td>False</td>\n",
       "      <td>False</td>\n",
       "      <td>False</td>\n",
       "      <td>False</td>\n",
       "      <td>False</td>\n",
       "      <td>False</td>\n",
       "      <td>False</td>\n",
       "      <td>False</td>\n",
       "    </tr>\n",
       "    <tr>\n",
       "      <th>119387</th>\n",
       "      <td>False</td>\n",
       "      <td>False</td>\n",
       "      <td>False</td>\n",
       "      <td>False</td>\n",
       "      <td>False</td>\n",
       "      <td>False</td>\n",
       "      <td>False</td>\n",
       "      <td>False</td>\n",
       "      <td>False</td>\n",
       "      <td>False</td>\n",
       "      <td>False</td>\n",
       "      <td>False</td>\n",
       "      <td>False</td>\n",
       "      <td>False</td>\n",
       "      <td>False</td>\n",
       "      <td>False</td>\n",
       "      <td>False</td>\n",
       "    </tr>\n",
       "    <tr>\n",
       "      <th>119388</th>\n",
       "      <td>False</td>\n",
       "      <td>False</td>\n",
       "      <td>False</td>\n",
       "      <td>False</td>\n",
       "      <td>False</td>\n",
       "      <td>False</td>\n",
       "      <td>False</td>\n",
       "      <td>False</td>\n",
       "      <td>False</td>\n",
       "      <td>False</td>\n",
       "      <td>False</td>\n",
       "      <td>False</td>\n",
       "      <td>False</td>\n",
       "      <td>False</td>\n",
       "      <td>False</td>\n",
       "      <td>False</td>\n",
       "      <td>False</td>\n",
       "    </tr>\n",
       "    <tr>\n",
       "      <th>119389</th>\n",
       "      <td>False</td>\n",
       "      <td>False</td>\n",
       "      <td>False</td>\n",
       "      <td>False</td>\n",
       "      <td>False</td>\n",
       "      <td>False</td>\n",
       "      <td>False</td>\n",
       "      <td>False</td>\n",
       "      <td>False</td>\n",
       "      <td>False</td>\n",
       "      <td>False</td>\n",
       "      <td>False</td>\n",
       "      <td>False</td>\n",
       "      <td>False</td>\n",
       "      <td>False</td>\n",
       "      <td>False</td>\n",
       "      <td>False</td>\n",
       "    </tr>\n",
       "  </tbody>\n",
       "</table></div>"
      ],
      "text/plain": [
       "        Booking ID  Hotel  Booking Date  Arrival Date  Lead Time  Nights  \\\n",
       "0            False  False         False         False      False   False   \n",
       "1            False  False         False         False      False   False   \n",
       "2            False  False         False         False      False   False   \n",
       "3            False  False         False         False      False   False   \n",
       "4            False  False         False         False      False   False   \n",
       "...            ...    ...           ...           ...        ...     ...   \n",
       "119385       False  False         False         False      False   False   \n",
       "119386       False  False         False         False      False   False   \n",
       "119387       False  False         False         False      False   False   \n",
       "119388       False  False         False         False      False   False   \n",
       "119389       False  False         False         False      False   False   \n",
       "\n",
       "        Guests  Distribution Channel  Customer Type  Country  Deposit Type  \\\n",
       "0        False                 False          False    False         False   \n",
       "1        False                 False          False    False         False   \n",
       "2        False                 False          False    False         False   \n",
       "3        False                 False          False    False         False   \n",
       "4        False                 False          False    False         False   \n",
       "...        ...                   ...            ...      ...           ...   \n",
       "119385   False                 False          False    False         False   \n",
       "119386   False                 False          False    False         False   \n",
       "119387   False                 False          False    False         False   \n",
       "119388   False                 False          False    False         False   \n",
       "119389   False                 False          False    False         False   \n",
       "\n",
       "        Avg Daily Rate  Status  Status Update  Cancelled (0/1)  Revenue  \\\n",
       "0                False   False          False            False    False   \n",
       "1                False   False          False            False    False   \n",
       "2                False   False          False            False    False   \n",
       "3                False   False          False            False    False   \n",
       "4                False   False          False            False    False   \n",
       "...                ...     ...            ...              ...      ...   \n",
       "119385           False   False          False            False    False   \n",
       "119386           False   False          False            False    False   \n",
       "119387           False   False          False            False    False   \n",
       "119388           False   False          False            False    False   \n",
       "119389           False   False          False            False    False   \n",
       "\n",
       "        Revenue Loss  \n",
       "0              False  \n",
       "1              False  \n",
       "2              False  \n",
       "3              False  \n",
       "4              False  \n",
       "...              ...  \n",
       "119385         False  \n",
       "119386         False  \n",
       "119387         False  \n",
       "119388         False  \n",
       "119389         False  \n",
       "\n",
       "[119390 rows x 17 columns]"
      ]
     },
     "execution_count": 4,
     "metadata": {},
     "output_type": "execute_result"
    }
   ],
   "source": [
    "#Checking for null value\n",
    "df.isnull()"
   ]
  },
  {
   "cell_type": "code",
   "execution_count": 5,
   "id": "e265b004",
   "metadata": {},
   "outputs": [
    {
     "data": {
      "text/plain": [
       "Booking ID                0\n",
       "Hotel                     0\n",
       "Booking Date              0\n",
       "Arrival Date              0\n",
       "Lead Time                 0\n",
       "Nights                    0\n",
       "Guests                    0\n",
       "Distribution Channel      0\n",
       "Customer Type             0\n",
       "Country                 488\n",
       "Deposit Type              0\n",
       "Avg Daily Rate            0\n",
       "Status                    0\n",
       "Status Update             0\n",
       "Cancelled (0/1)           0\n",
       "Revenue                   0\n",
       "Revenue Loss              0\n",
       "dtype: int64"
      ]
     },
     "execution_count": 5,
     "metadata": {},
     "output_type": "execute_result"
    }
   ],
   "source": [
    "#Checking for null value\n",
    "df.isnull().sum()"
   ]
  },
  {
   "cell_type": "markdown",
   "id": "439d9577",
   "metadata": {},
   "source": [
    "##### There are 488 data without country name"
   ]
  },
  {
   "cell_type": "code",
   "execution_count": 6,
   "id": "3f4000ae",
   "metadata": {},
   "outputs": [],
   "source": [
    "#drop null value\n",
    "df.dropna(inplace=True)"
   ]
  },
  {
   "cell_type": "code",
   "execution_count": 7,
   "id": "2f4b04b6",
   "metadata": {},
   "outputs": [
    {
     "data": {
      "text/html": [
       "<div><div id=ef3342a6-d17e-4fcf-b2f1-1258bb382575 style=\"display:none; background-color:#9D6CFF; color:white; width:200px; height:30px; padding-left:5px; border-radius:4px; flex-direction:row; justify-content:space-around; align-items:center;\" onmouseover=\"this.style.backgroundColor='#BA9BF8'\" onmouseout=\"this.style.backgroundColor='#9D6CFF'\" onclick=\"window.commands?.execute('create-mitosheet-from-dataframe-output');\">See Full Dataframe in Mito</div> <script> if (window.commands.hasCommand('create-mitosheet-from-dataframe-output')) document.getElementById('ef3342a6-d17e-4fcf-b2f1-1258bb382575').style.display = 'flex' </script> <table border=\"1\" class=\"dataframe\">\n",
       "  <thead>\n",
       "    <tr style=\"text-align: right;\">\n",
       "      <th></th>\n",
       "      <th>Booking ID</th>\n",
       "      <th>Hotel</th>\n",
       "      <th>Booking Date</th>\n",
       "      <th>Arrival Date</th>\n",
       "      <th>Lead Time</th>\n",
       "      <th>Nights</th>\n",
       "      <th>Guests</th>\n",
       "      <th>Distribution Channel</th>\n",
       "      <th>Customer Type</th>\n",
       "      <th>Country</th>\n",
       "      <th>Deposit Type</th>\n",
       "      <th>Avg Daily Rate</th>\n",
       "      <th>Status</th>\n",
       "      <th>Status Update</th>\n",
       "      <th>Cancelled (0/1)</th>\n",
       "      <th>Revenue</th>\n",
       "      <th>Revenue Loss</th>\n",
       "    </tr>\n",
       "  </thead>\n",
       "  <tbody>\n",
       "    <tr>\n",
       "      <th>0</th>\n",
       "      <td>False</td>\n",
       "      <td>False</td>\n",
       "      <td>False</td>\n",
       "      <td>False</td>\n",
       "      <td>False</td>\n",
       "      <td>False</td>\n",
       "      <td>False</td>\n",
       "      <td>False</td>\n",
       "      <td>False</td>\n",
       "      <td>False</td>\n",
       "      <td>False</td>\n",
       "      <td>False</td>\n",
       "      <td>False</td>\n",
       "      <td>False</td>\n",
       "      <td>False</td>\n",
       "      <td>False</td>\n",
       "      <td>False</td>\n",
       "    </tr>\n",
       "    <tr>\n",
       "      <th>1</th>\n",
       "      <td>False</td>\n",
       "      <td>False</td>\n",
       "      <td>False</td>\n",
       "      <td>False</td>\n",
       "      <td>False</td>\n",
       "      <td>False</td>\n",
       "      <td>False</td>\n",
       "      <td>False</td>\n",
       "      <td>False</td>\n",
       "      <td>False</td>\n",
       "      <td>False</td>\n",
       "      <td>False</td>\n",
       "      <td>False</td>\n",
       "      <td>False</td>\n",
       "      <td>False</td>\n",
       "      <td>False</td>\n",
       "      <td>False</td>\n",
       "    </tr>\n",
       "    <tr>\n",
       "      <th>2</th>\n",
       "      <td>False</td>\n",
       "      <td>False</td>\n",
       "      <td>False</td>\n",
       "      <td>False</td>\n",
       "      <td>False</td>\n",
       "      <td>False</td>\n",
       "      <td>False</td>\n",
       "      <td>False</td>\n",
       "      <td>False</td>\n",
       "      <td>False</td>\n",
       "      <td>False</td>\n",
       "      <td>False</td>\n",
       "      <td>False</td>\n",
       "      <td>False</td>\n",
       "      <td>False</td>\n",
       "      <td>False</td>\n",
       "      <td>False</td>\n",
       "    </tr>\n",
       "    <tr>\n",
       "      <th>3</th>\n",
       "      <td>False</td>\n",
       "      <td>False</td>\n",
       "      <td>False</td>\n",
       "      <td>False</td>\n",
       "      <td>False</td>\n",
       "      <td>False</td>\n",
       "      <td>False</td>\n",
       "      <td>False</td>\n",
       "      <td>False</td>\n",
       "      <td>False</td>\n",
       "      <td>False</td>\n",
       "      <td>False</td>\n",
       "      <td>False</td>\n",
       "      <td>False</td>\n",
       "      <td>False</td>\n",
       "      <td>False</td>\n",
       "      <td>False</td>\n",
       "    </tr>\n",
       "    <tr>\n",
       "      <th>4</th>\n",
       "      <td>False</td>\n",
       "      <td>False</td>\n",
       "      <td>False</td>\n",
       "      <td>False</td>\n",
       "      <td>False</td>\n",
       "      <td>False</td>\n",
       "      <td>False</td>\n",
       "      <td>False</td>\n",
       "      <td>False</td>\n",
       "      <td>False</td>\n",
       "      <td>False</td>\n",
       "      <td>False</td>\n",
       "      <td>False</td>\n",
       "      <td>False</td>\n",
       "      <td>False</td>\n",
       "      <td>False</td>\n",
       "      <td>False</td>\n",
       "    </tr>\n",
       "    <tr>\n",
       "      <th>...</th>\n",
       "      <td>...</td>\n",
       "      <td>...</td>\n",
       "      <td>...</td>\n",
       "      <td>...</td>\n",
       "      <td>...</td>\n",
       "      <td>...</td>\n",
       "      <td>...</td>\n",
       "      <td>...</td>\n",
       "      <td>...</td>\n",
       "      <td>...</td>\n",
       "      <td>...</td>\n",
       "      <td>...</td>\n",
       "      <td>...</td>\n",
       "      <td>...</td>\n",
       "      <td>...</td>\n",
       "      <td>...</td>\n",
       "      <td>...</td>\n",
       "    </tr>\n",
       "    <tr>\n",
       "      <th>119385</th>\n",
       "      <td>False</td>\n",
       "      <td>False</td>\n",
       "      <td>False</td>\n",
       "      <td>False</td>\n",
       "      <td>False</td>\n",
       "      <td>False</td>\n",
       "      <td>False</td>\n",
       "      <td>False</td>\n",
       "      <td>False</td>\n",
       "      <td>False</td>\n",
       "      <td>False</td>\n",
       "      <td>False</td>\n",
       "      <td>False</td>\n",
       "      <td>False</td>\n",
       "      <td>False</td>\n",
       "      <td>False</td>\n",
       "      <td>False</td>\n",
       "    </tr>\n",
       "    <tr>\n",
       "      <th>119386</th>\n",
       "      <td>False</td>\n",
       "      <td>False</td>\n",
       "      <td>False</td>\n",
       "      <td>False</td>\n",
       "      <td>False</td>\n",
       "      <td>False</td>\n",
       "      <td>False</td>\n",
       "      <td>False</td>\n",
       "      <td>False</td>\n",
       "      <td>False</td>\n",
       "      <td>False</td>\n",
       "      <td>False</td>\n",
       "      <td>False</td>\n",
       "      <td>False</td>\n",
       "      <td>False</td>\n",
       "      <td>False</td>\n",
       "      <td>False</td>\n",
       "    </tr>\n",
       "    <tr>\n",
       "      <th>119387</th>\n",
       "      <td>False</td>\n",
       "      <td>False</td>\n",
       "      <td>False</td>\n",
       "      <td>False</td>\n",
       "      <td>False</td>\n",
       "      <td>False</td>\n",
       "      <td>False</td>\n",
       "      <td>False</td>\n",
       "      <td>False</td>\n",
       "      <td>False</td>\n",
       "      <td>False</td>\n",
       "      <td>False</td>\n",
       "      <td>False</td>\n",
       "      <td>False</td>\n",
       "      <td>False</td>\n",
       "      <td>False</td>\n",
       "      <td>False</td>\n",
       "    </tr>\n",
       "    <tr>\n",
       "      <th>119388</th>\n",
       "      <td>False</td>\n",
       "      <td>False</td>\n",
       "      <td>False</td>\n",
       "      <td>False</td>\n",
       "      <td>False</td>\n",
       "      <td>False</td>\n",
       "      <td>False</td>\n",
       "      <td>False</td>\n",
       "      <td>False</td>\n",
       "      <td>False</td>\n",
       "      <td>False</td>\n",
       "      <td>False</td>\n",
       "      <td>False</td>\n",
       "      <td>False</td>\n",
       "      <td>False</td>\n",
       "      <td>False</td>\n",
       "      <td>False</td>\n",
       "    </tr>\n",
       "    <tr>\n",
       "      <th>119389</th>\n",
       "      <td>False</td>\n",
       "      <td>False</td>\n",
       "      <td>False</td>\n",
       "      <td>False</td>\n",
       "      <td>False</td>\n",
       "      <td>False</td>\n",
       "      <td>False</td>\n",
       "      <td>False</td>\n",
       "      <td>False</td>\n",
       "      <td>False</td>\n",
       "      <td>False</td>\n",
       "      <td>False</td>\n",
       "      <td>False</td>\n",
       "      <td>False</td>\n",
       "      <td>False</td>\n",
       "      <td>False</td>\n",
       "      <td>False</td>\n",
       "    </tr>\n",
       "  </tbody>\n",
       "</table></div>"
      ],
      "text/plain": [
       "        Booking ID  Hotel  Booking Date  Arrival Date  Lead Time  Nights  \\\n",
       "0            False  False         False         False      False   False   \n",
       "1            False  False         False         False      False   False   \n",
       "2            False  False         False         False      False   False   \n",
       "3            False  False         False         False      False   False   \n",
       "4            False  False         False         False      False   False   \n",
       "...            ...    ...           ...           ...        ...     ...   \n",
       "119385       False  False         False         False      False   False   \n",
       "119386       False  False         False         False      False   False   \n",
       "119387       False  False         False         False      False   False   \n",
       "119388       False  False         False         False      False   False   \n",
       "119389       False  False         False         False      False   False   \n",
       "\n",
       "        Guests  Distribution Channel  Customer Type  Country  Deposit Type  \\\n",
       "0        False                 False          False    False         False   \n",
       "1        False                 False          False    False         False   \n",
       "2        False                 False          False    False         False   \n",
       "3        False                 False          False    False         False   \n",
       "4        False                 False          False    False         False   \n",
       "...        ...                   ...            ...      ...           ...   \n",
       "119385   False                 False          False    False         False   \n",
       "119386   False                 False          False    False         False   \n",
       "119387   False                 False          False    False         False   \n",
       "119388   False                 False          False    False         False   \n",
       "119389   False                 False          False    False         False   \n",
       "\n",
       "        Avg Daily Rate  Status  Status Update  Cancelled (0/1)  Revenue  \\\n",
       "0                False   False          False            False    False   \n",
       "1                False   False          False            False    False   \n",
       "2                False   False          False            False    False   \n",
       "3                False   False          False            False    False   \n",
       "4                False   False          False            False    False   \n",
       "...                ...     ...            ...              ...      ...   \n",
       "119385           False   False          False            False    False   \n",
       "119386           False   False          False            False    False   \n",
       "119387           False   False          False            False    False   \n",
       "119388           False   False          False            False    False   \n",
       "119389           False   False          False            False    False   \n",
       "\n",
       "        Revenue Loss  \n",
       "0              False  \n",
       "1              False  \n",
       "2              False  \n",
       "3              False  \n",
       "4              False  \n",
       "...              ...  \n",
       "119385         False  \n",
       "119386         False  \n",
       "119387         False  \n",
       "119388         False  \n",
       "119389         False  \n",
       "\n",
       "[118902 rows x 17 columns]"
      ]
     },
     "execution_count": 7,
     "metadata": {},
     "output_type": "execute_result"
    }
   ],
   "source": [
    "#Confirming that null values has been dropped\n",
    "df.isnull()"
   ]
  },
  {
   "cell_type": "code",
   "execution_count": 8,
   "id": "d0cc6216",
   "metadata": {},
   "outputs": [
    {
     "data": {
      "text/plain": [
       "Booking ID              0\n",
       "Hotel                   0\n",
       "Booking Date            0\n",
       "Arrival Date            0\n",
       "Lead Time               0\n",
       "Nights                  0\n",
       "Guests                  0\n",
       "Distribution Channel    0\n",
       "Customer Type           0\n",
       "Country                 0\n",
       "Deposit Type            0\n",
       "Avg Daily Rate          0\n",
       "Status                  0\n",
       "Status Update           0\n",
       "Cancelled (0/1)         0\n",
       "Revenue                 0\n",
       "Revenue Loss            0\n",
       "dtype: int64"
      ]
     },
     "execution_count": 8,
     "metadata": {},
     "output_type": "execute_result"
    }
   ],
   "source": [
    "#Confirming that null values has been dropped\n",
    "df.isnull().sum()"
   ]
  },
  {
   "cell_type": "code",
   "execution_count": 9,
   "id": "d7bf019a",
   "metadata": {},
   "outputs": [],
   "source": [
    "# Convert float_column to int without decimal part\n",
    "df['Booking ID'] = df['Booking ID'].astype(int)\n",
    "df['Lead Time'] = df['Lead Time'].astype(int)\n",
    "df['Nights'] = df['Nights'].astype(int)\n",
    "df['Guests'] = df['Guests'].astype(int)\n",
    "df['Cancelled (0/1)'] = df['Cancelled (0/1)'].astype(int)"
   ]
  },
  {
   "cell_type": "code",
   "execution_count": 11,
   "id": "3b263999",
   "metadata": {},
   "outputs": [
    {
     "data": {
      "text/plain": [
       "Booking ID                       int32\n",
       "Hotel                           object\n",
       "Booking Date            datetime64[ns]\n",
       "Arrival Date            datetime64[ns]\n",
       "Lead Time                        int32\n",
       "Nights                           int32\n",
       "Guests                           int32\n",
       "Distribution Channel            object\n",
       "Customer Type                   object\n",
       "Country                         object\n",
       "Deposit Type                    object\n",
       "Avg Daily Rate                 float64\n",
       "Status                          object\n",
       "Status Update           datetime64[ns]\n",
       "Cancelled (0/1)                  int32\n",
       "Revenue                        float64\n",
       "Revenue Loss                   float64\n",
       "dtype: object"
      ]
     },
     "execution_count": 11,
     "metadata": {},
     "output_type": "execute_result"
    }
   ],
   "source": [
    "#Checking data types\n",
    "df.dtypes"
   ]
  },
  {
   "cell_type": "markdown",
   "id": "2678f05c",
   "metadata": {},
   "source": [
    "##### ●What is the trend in booking patterns over time, and are there specific seasons or months with increased booking activity?"
   ]
  },
  {
   "cell_type": "code",
   "execution_count": 14,
   "id": "2a39881e",
   "metadata": {},
   "outputs": [
    {
     "data": {
      "image/png": "[encoded data removed]",
      "text/plain": [
       "<Figure size 720x432 with 1 Axes>"
      ]
     },
     "metadata": {
      "needs_background": "light"
     },
     "output_type": "display_data"
    }
   ],
   "source": [
    "# Trend in booking patterns over time\n",
    "import seaborn as sns #import seaborn for plotting\n",
    "df['Booking Date'] = pd.to_datetime(df['Booking Date'])\n",
    "df['Month'] = df['Booking Date'].dt.month\n",
    "monthly_bookings = df.groupby('Month')['Booking ID'].count()\n",
    "# Plotting\n",
    "plt.figure(figsize=(10, 6))\n",
    "sns.lineplot(x=monthly_bookings.index, y=monthly_bookings.values)\n",
    "plt.title('Monthly Booking Patterns')\n",
    "plt.xlabel('Month')\n",
    "plt.ylabel('Number of Bookings')\n",
    "plt.show()"
   ]
  },
  {
   "cell_type": "code",
   "execution_count": 15,
   "id": "7c0b6036",
   "metadata": {},
   "outputs": [],
   "source": [
    "# The analysis shows that between January and March there's increased booking, while Booking is at its lowest in June"
   ]
  },
  {
   "cell_type": "markdown",
   "id": "da7f3d65",
   "metadata": {},
   "source": [
    "##### ●How does lead time vary across different booking channels, and is there a correlation between lead time and customer type?"
   ]
  },
  {
   "cell_type": "code",
   "execution_count": 16,
   "id": "da401c3a",
   "metadata": {},
   "outputs": [],
   "source": [
    "lead_time_by_channel = df.groupby('Distribution Channel')['Lead Time'].mean()\n",
    "lead_time_correlation = df.groupby('Customer Type')['Lead Time'].mean()"
   ]
  },
  {
   "cell_type": "code",
   "execution_count": 17,
   "id": "8a6d9791",
   "metadata": {},
   "outputs": [
    {
     "data": {
      "text/plain": [
       "Distribution Channel\n",
       "Corporate                46.054999\n",
       "Direct                   58.174342\n",
       "Offline Travel Agent    135.596273\n",
       "Online Travel Agent     108.334068\n",
       "Undefined                23.000000\n",
       "Name: Lead Time, dtype: float64"
      ]
     },
     "execution_count": 17,
     "metadata": {},
     "output_type": "execute_result"
    }
   ],
   "source": [
    "lead_time_by_channel"
   ]
  },
  {
   "cell_type": "code",
   "execution_count": 20,
   "id": "a39933fc",
   "metadata": {},
   "outputs": [],
   "source": [
    "# Analysis shows that Offline Booking is leading  booking channel, Splendor Hotel Groups (SHG) must improve their online services \n",
    "#to make more profit and attain more customers"
   ]
  },
  {
   "cell_type": "code",
   "execution_count": 19,
   "id": "2292c003",
   "metadata": {},
   "outputs": [
    {
     "data": {
      "text/plain": [
       "Customer Type\n",
       "Contract           142.969823\n",
       "Group               55.724561\n",
       "Transient           93.631574\n",
       "Transient-Party    137.087274\n",
       "Name: Lead Time, dtype: float64"
      ]
     },
     "execution_count": 19,
     "metadata": {},
     "output_type": "execute_result"
    }
   ],
   "source": [
    "lead_time_correlation"
   ]
  },
  {
   "cell_type": "code",
   "execution_count": 21,
   "id": "9941bece",
   "metadata": {},
   "outputs": [],
   "source": [
    "#Analysis show that most customers that made booking are contract customers followed by Transient-Party,\n",
    "#Transient-Party are more likely to make Online booking"
   ]
  },
  {
   "cell_type": "markdown",
   "id": "c9fe900e",
   "metadata": {},
   "source": [
    "# ●Which distribution channels contribute the most to bookings, and how does the average daily rate (ADR) differ across these channels?"
   ]
  },
  {
   "cell_type": "code",
   "execution_count": 22,
   "id": "e9d971e7",
   "metadata": {},
   "outputs": [],
   "source": [
    "channel_bookings = df['Distribution Channel'].value_counts()\n",
    "\n",
    "adr_by_channel = df.groupby('Distribution Channel')['Avg Daily Rate'].mean()"
   ]
  },
  {
   "cell_type": "code",
   "execution_count": 23,
   "id": "f5f6cd63",
   "metadata": {},
   "outputs": [
    {
     "data": {
      "text/plain": [
       "Online Travel Agent     73991\n",
       "Offline Travel Agent    23932\n",
       "Direct                  14483\n",
       "Corporate                6491\n",
       "Undefined                   5\n",
       "Name: Distribution Channel, dtype: int64"
      ]
     },
     "execution_count": 23,
     "metadata": {},
     "output_type": "execute_result"
    }
   ],
   "source": [
    "channel_bookings"
   ]
  },
  {
   "cell_type": "code",
   "execution_count": 25,
   "id": "8e8b95a4",
   "metadata": {},
   "outputs": [],
   "source": [
    "# Online Travel Agent distribution channels contribute the most to bookings with total of 73991 bookings equivalent to\n",
    "# 62.23% percent "
   ]
  },
  {
   "cell_type": "code",
   "execution_count": 26,
   "id": "8ac3be35",
   "metadata": {},
   "outputs": [
    {
     "data": {
      "text/plain": [
       "Distribution Channel\n",
       "Corporate                70.094622\n",
       "Direct                  106.995610\n",
       "Offline Travel Agent     87.223866\n",
       "Online Travel Agent     108.605447\n",
       "Undefined                46.240000\n",
       "Name: Avg Daily Rate, dtype: float64"
      ]
     },
     "execution_count": 26,
     "metadata": {},
     "output_type": "execute_result"
    }
   ],
   "source": [
    "adr_by_channel"
   ]
  },
  {
   "cell_type": "code",
   "execution_count": 27,
   "id": "9ebd10e3",
   "metadata": {},
   "outputs": [],
   "source": [
    "#Online travel Agent is also higher in avaerage daily rate"
   ]
  },
  {
   "cell_type": "markdown",
   "id": "668786af",
   "metadata": {},
   "source": [
    "# ●Can we identify any patterns in the distribution of guests based on their country of origin, and how does this impact revenue?"
   ]
  },
  {
   "cell_type": "code",
   "execution_count": 28,
   "id": "0ff56e6e",
   "metadata": {},
   "outputs": [],
   "source": [
    "country_bookings = df['Country'].value_counts()\n",
    "revenue_by_country = df.groupby('Country')['Revenue'].sum()"
   ]
  },
  {
   "cell_type": "code",
   "execution_count": 29,
   "id": "ee248d32",
   "metadata": {},
   "outputs": [
    {
     "data": {
      "text/plain": [
       "Portugal          48590\n",
       "United Kingdom    12129\n",
       "France            10415\n",
       "Spain              8568\n",
       "Germany            7287\n",
       "                  ...  \n",
       "Djibouti              1\n",
       "Botswana              1\n",
       "Honduras              1\n",
       "Virgin Islands        1\n",
       "Sierra Leone          1\n",
       "Name: Country, Length: 174, dtype: int64"
      ]
     },
     "execution_count": 29,
     "metadata": {},
     "output_type": "execute_result"
    }
   ],
   "source": [
    "country_bookings"
   ]
  },
  {
   "cell_type": "code",
   "execution_count": 30,
   "id": "32aa76e1",
   "metadata": {},
   "outputs": [
    {
     "data": {
      "text/plain": [
       "Country\n",
       "Albania            2577.03\n",
       "Algeria           30479.53\n",
       "American Samoa       72.07\n",
       "Andorra            2832.00\n",
       "Angola            69424.92\n",
       "                    ...   \n",
       "Venezuela          3949.48\n",
       "Viet Nam           2043.30\n",
       "Virgin Islands        0.00\n",
       "Zambia              580.02\n",
       "Zimbabwe            249.69\n",
       "Name: Revenue, Length: 174, dtype: float64"
      ]
     },
     "execution_count": 30,
     "metadata": {},
     "output_type": "execute_result"
    }
   ],
   "source": [
    "revenue_by_country"
   ]
  },
  {
   "cell_type": "code",
   "execution_count": 32,
   "id": "ceb7584b",
   "metadata": {},
   "outputs": [
    {
     "name": "stdout",
     "output_type": "stream",
     "text": [
      "Country with the most bookings is Portugal with total of 48590 bookings\n",
      "Country with the most Revenue is Portugal with total of amount of 9037388.37 \n"
     ]
    }
   ],
   "source": [
    "most_booked_country = country_bookings.idxmax()\n",
    "most_revenue_country = revenue_by_country.idxmax()\n",
    "\n",
    "print(f\"Country with the most bookings is {most_booked_country} with total of {max(country_bookings)} bookings\")\n",
    "print(f\"Country with the most Revenue is {most_revenue_country} with total of amount of {max(revenue_by_country)} \")"
   ]
  },
  {
   "cell_type": "code",
   "execution_count": 34,
   "id": "93402a71",
   "metadata": {},
   "outputs": [
    {
     "name": "stdout",
     "output_type": "stream",
     "text": [
      "Country with the least bookings is Dominica with total amount of 1\n"
     ]
    }
   ],
   "source": [
    "least_booked_country = country_bookings.idxmin()\n",
    "\n",
    "print(f\"Country with the least bookings is {least_booked_country} with total amount of {min(country_bookings)}\")"
   ]
  },
  {
   "cell_type": "markdown",
   "id": "7bbb6c43",
   "metadata": {},
   "source": [
    "# ●What factors are most strongly correlated with cancellations, and can we predict potential cancellations based on certain variables?"
   ]
  },
  {
   "cell_type": "code",
   "execution_count": 36,
   "id": "5c500c0a",
   "metadata": {},
   "outputs": [],
   "source": [
    "# Impact of deposit on cancellations and revenue\n",
    "deposit_cancellation_rate = df.groupby('Deposit Type')['Cancelled (0/1)'].mean()\n",
    "deposit_revenue_impact = df.groupby('Deposit Type')['Revenue'].sum()\n",
    "\n",
    "# Lead time effect on revenue and cancellations\n",
    "lead_time_revenue = df.groupby('Lead Time')['Revenue'].sum()\n",
    "lead_time_cancellation_rate = df.groupby('Lead Time')['Cancelled (0/1)'].mean()"
   ]
  },
  {
   "cell_type": "code",
   "execution_count": 37,
   "id": "e69bcce8",
   "metadata": {},
   "outputs": [
    {
     "data": {
      "text/plain": [
       "Deposit Type\n",
       "No Deposit        0.284553\n",
       "Non Refundable    0.993618\n",
       "Refundable        0.222222\n",
       "Name: Cancelled (0/1), dtype: float64"
      ]
     },
     "execution_count": 37,
     "metadata": {},
     "output_type": "execute_result"
    }
   ],
   "source": [
    "deposit_cancellation_rate"
   ]
  },
  {
   "cell_type": "code",
   "execution_count": 38,
   "id": "54841a26",
   "metadata": {},
   "outputs": [
    {
     "data": {
      "text/plain": [
       "Deposit Type\n",
       "No Deposit        25862867.74\n",
       "Non Refundable     3618716.90\n",
       "Refundable           28987.21\n",
       "Name: Revenue, dtype: float64"
      ]
     },
     "execution_count": 38,
     "metadata": {},
     "output_type": "execute_result"
    }
   ],
   "source": [
    "deposit_revenue_impact"
   ]
  },
  {
   "cell_type": "code",
   "execution_count": 39,
   "id": "e8c754ff",
   "metadata": {},
   "outputs": [
    {
     "data": {
      "text/plain": [
       "Lead Time\n",
       "0      794418.57\n",
       "1      527419.02\n",
       "2      358660.73\n",
       "3      359039.96\n",
       "4      348047.09\n",
       "         ...    \n",
       "622      1978.00\n",
       "626      5652.00\n",
       "629      1978.00\n",
       "709      1904.00\n",
       "737         0.00\n",
       "Name: Revenue, Length: 479, dtype: float64"
      ]
     },
     "execution_count": 39,
     "metadata": {},
     "output_type": "execute_result"
    }
   ],
   "source": [
    "lead_time_revenue"
   ]
  },
  {
   "cell_type": "code",
   "execution_count": 40,
   "id": "a9d9e827",
   "metadata": {},
   "outputs": [
    {
     "data": {
      "text/plain": [
       "Lead Time\n",
       "0      0.066849\n",
       "1      0.093962\n",
       "2      0.103736\n",
       "3      0.100444\n",
       "4      0.102005\n",
       "         ...   \n",
       "622    1.000000\n",
       "626    1.000000\n",
       "629    1.000000\n",
       "709    0.000000\n",
       "737    0.000000\n",
       "Name: Cancelled (0/1), Length: 479, dtype: float64"
      ]
     },
     "execution_count": 40,
     "metadata": {},
     "output_type": "execute_result"
    }
   ],
   "source": [
    "lead_time_cancellation_rate"
   ]
  },
  {
   "cell_type": "code",
   "execution_count": 41,
   "id": "5f8b4025",
   "metadata": {},
   "outputs": [],
   "source": [
    "#Most of cancellation are non refundable"
   ]
  },
  {
   "cell_type": "markdown",
   "id": "e0b35fc0",
   "metadata": {},
   "source": [
    "# ●How does the revenue loss from cancellations compare across different customer segments and distribution channels?"
   ]
  },
  {
   "cell_type": "code",
   "execution_count": 44,
   "id": "1b295877",
   "metadata": {},
   "outputs": [],
   "source": [
    "revenue_loss_by_CustomerType = df.groupby('Customer Type')['Cancelled (0/1)'].sum()\n",
    "\n",
    "revenue_loss_by_DistributionChannel = df.groupby('Distribution Channel')['Cancelled (0/1)'].sum()"
   ]
  },
  {
   "cell_type": "code",
   "execution_count": 45,
   "id": "1f672460",
   "metadata": {},
   "outputs": [
    {
     "data": {
      "text/plain": [
       "Customer Type\n",
       "Contract            1262\n",
       "Group                 58\n",
       "Transient          36460\n",
       "Transient-Party     6377\n",
       "Name: Cancelled (0/1), dtype: int32"
      ]
     },
     "execution_count": 45,
     "metadata": {},
     "output_type": "execute_result"
    }
   ],
   "source": [
    "revenue_loss_by_CustomerType"
   ]
  },
  {
   "cell_type": "code",
   "execution_count": 46,
   "id": "8773a0ef",
   "metadata": {},
   "outputs": [],
   "source": [
    "#Transient customer makes most loss due to cancellation\n"
   ]
  },
  {
   "cell_type": "code",
   "execution_count": 47,
   "id": "ce4825ef",
   "metadata": {},
   "outputs": [
    {
     "data": {
      "text/plain": [
       "Distribution Channel\n",
       "Corporate                1454\n",
       "Direct                   2543\n",
       "Offline Travel Agent     8172\n",
       "Online Travel Agent     31984\n",
       "Undefined                   4\n",
       "Name: Cancelled (0/1), dtype: int32"
      ]
     },
     "execution_count": 47,
     "metadata": {},
     "output_type": "execute_result"
    }
   ],
   "source": [
    "revenue_loss_by_DistributionChannel"
   ]
  },
  {
   "cell_type": "code",
   "execution_count": 48,
   "id": "0dbb5520",
   "metadata": {},
   "outputs": [],
   "source": [
    "#Online Travel Agent channel  makes most loss due to cancellation"
   ]
  },
  {
   "cell_type": "markdown",
   "id": "517e276a",
   "metadata": {},
   "source": [
    "# ●What is the overall revenue trend, and are there specific customer segments or countries contributing significantly to revenue?"
   ]
  },
  {
   "cell_type": "code",
   "execution_count": 49,
   "id": "4981097d",
   "metadata": {},
   "outputs": [
    {
     "data": {
      "image/png": "[encoded data removed]",
      "text/plain": [
       "<Figure size 720x432 with 1 Axes>"
      ]
     },
     "metadata": {
      "needs_background": "light"
     },
     "output_type": "display_data"
    }
   ],
   "source": [
    "# Overall revenue trend and significant contributors\n",
    "revenue_trend = df.groupby('Booking Date')['Revenue'].sum()\n",
    "# Plotting\n",
    "plt.figure(figsize=(10, 6))\n",
    "sns.lineplot(x=revenue_trend.index, y=revenue_trend.values)\n",
    "plt.title('Overall Revenue Trend')\n",
    "plt.xlabel('Booking Date')\n",
    "plt.ylabel('Total Revenue')\n",
    "plt.show()"
   ]
  },
  {
   "cell_type": "code",
   "execution_count": 50,
   "id": "9b9f9e4d",
   "metadata": {},
   "outputs": [],
   "source": [
    "#Revenue was high in year 2015"
   ]
  },
  {
   "cell_type": "code",
   "execution_count": 51,
   "id": "9069ec1a",
   "metadata": {},
   "outputs": [],
   "source": [
    "# Optimal pricing strategies based on ADR for different customer types and channels\n",
    "adr_by_type_channel = df.groupby(['Customer Type', 'Distribution Channel'])['Avg Daily Rate'].mean()"
   ]
  },
  {
   "cell_type": "code",
   "execution_count": 52,
   "id": "b5df4e24",
   "metadata": {},
   "outputs": [
    {
     "data": {
      "text/plain": [
       "Customer Type    Distribution Channel\n",
       "Contract         Corporate                45.962963\n",
       "                 Direct                   56.589474\n",
       "                 Offline Travel Agent     79.965435\n",
       "                 Online Travel Agent      94.543311\n",
       "Group            Corporate                80.135484\n",
       "                 Direct                   92.058772\n",
       "                 Offline Travel Agent     76.022163\n",
       "                 Online Travel Agent      88.026728\n",
       "Transient        Corporate                68.753384\n",
       "                 Direct                  109.933707\n",
       "                 Offline Travel Agent     85.720582\n",
       "                 Online Travel Agent     114.385608\n",
       "                 Undefined               112.700000\n",
       "Transient-Party  Corporate                72.409507\n",
       "                 Direct                   91.586670\n",
       "                 Offline Travel Agent     91.832772\n",
       "                 Online Travel Agent      84.254161\n",
       "                 Undefined                29.625000\n",
       "Name: Avg Daily Rate, dtype: float64"
      ]
     },
     "execution_count": 52,
     "metadata": {},
     "output_type": "execute_result"
    }
   ],
   "source": [
    "adr_by_type_channel"
   ]
  },
  {
   "cell_type": "code",
   "execution_count": 53,
   "id": "87480396",
   "metadata": {},
   "outputs": [],
   "source": [
    "guests_by_country = df.groupby('Country')['Guests'].sum()"
   ]
  },
  {
   "cell_type": "code",
   "execution_count": 54,
   "id": "ad430c27",
   "metadata": {},
   "outputs": [
    {
     "data": {
      "text/plain": [
       "Country\n",
       "Albania            22\n",
       "Algeria           179\n",
       "American Samoa      2\n",
       "Andorra            19\n",
       "Angola            652\n",
       "                 ... \n",
       "Venezuela          54\n",
       "Viet Nam           17\n",
       "Virgin Islands      2\n",
       "Zambia              6\n",
       "Zimbabwe            8\n",
       "Name: Guests, Length: 174, dtype: int32"
      ]
     },
     "execution_count": 54,
     "metadata": {},
     "output_type": "execute_result"
    }
   ],
   "source": [
    "guests_by_country"
   ]
  },
  {
   "cell_type": "code",
   "execution_count": 55,
   "id": "cf10b6ab",
   "metadata": {},
   "outputs": [],
   "source": [
    "guests_by_country_sorted = guests_by_country.sort_values(ascending=False)"
   ]
  },
  {
   "cell_type": "code",
   "execution_count": 56,
   "id": "44e66b8e",
   "metadata": {},
   "outputs": [
    {
     "data": {
      "text/plain": [
       "Country\n",
       "Portugal          90036\n",
       "United Kingdom    24568\n",
       "France            21579\n",
       "Spain             18153\n",
       "Germany           14198\n",
       "Name: Guests, dtype: int32"
      ]
     },
     "execution_count": 56,
     "metadata": {},
     "output_type": "execute_result"
    }
   ],
   "source": [
    "guests_by_country_sorted.head()"
   ]
  },
  {
   "cell_type": "code",
   "execution_count": 63,
   "id": "259cba24",
   "metadata": {},
   "outputs": [
    {
     "name": "stdout",
     "output_type": "stream",
     "text": [
      "countries contributing significantly to revenue are \n",
      "Index(['Portugal', 'United Kingdom', 'France', 'Spain', 'Germany'], dtype='object', name='Country')\n"
     ]
    }
   ],
   "source": [
    "top_5_countries = guests_by_country_sorted.head(5)\n",
    "top_5_country_names = top_5_countries.index\n",
    "print(f\"countries contributing significantly to revenue are \\n{top_5_country_names}\")"
   ]
  },
  {
   "cell_type": "code",
   "execution_count": 64,
   "id": "81c7ab50",
   "metadata": {},
   "outputs": [],
   "source": [
    "# Optimal pricing strategies based on ADR for different customer types and channels\n",
    "adr_by_type_channel = df.groupby(['Customer Type', 'Distribution Channel'])['Avg Daily Rate'].mean()"
   ]
  },
  {
   "cell_type": "code",
   "execution_count": 65,
   "id": "2392736f",
   "metadata": {},
   "outputs": [
    {
     "data": {
      "text/plain": [
       "Customer Type    Distribution Channel\n",
       "Contract         Corporate                45.962963\n",
       "                 Direct                   56.589474\n",
       "                 Offline Travel Agent     79.965435\n",
       "                 Online Travel Agent      94.543311\n",
       "Group            Corporate                80.135484\n",
       "                 Direct                   92.058772\n",
       "                 Offline Travel Agent     76.022163\n",
       "                 Online Travel Agent      88.026728\n",
       "Transient        Corporate                68.753384\n",
       "                 Direct                  109.933707\n",
       "                 Offline Travel Agent     85.720582\n",
       "                 Online Travel Agent     114.385608\n",
       "                 Undefined               112.700000\n",
       "Transient-Party  Corporate                72.409507\n",
       "                 Direct                   91.586670\n",
       "                 Offline Travel Agent     91.832772\n",
       "                 Online Travel Agent      84.254161\n",
       "                 Undefined                29.625000\n",
       "Name: Avg Daily Rate, dtype: float64"
      ]
     },
     "execution_count": 65,
     "metadata": {},
     "output_type": "execute_result"
    }
   ],
   "source": [
    "adr_by_type_channel"
   ]
  },
  {
   "cell_type": "code",
   "execution_count": 66,
   "id": "21ea208d",
   "metadata": {},
   "outputs": [],
   "source": [
    "guests_by_country = df.groupby('Country')['Guests'].sum()"
   ]
  },
  {
   "cell_type": "code",
   "execution_count": 68,
   "id": "3b197cb3",
   "metadata": {},
   "outputs": [],
   "source": [
    "guests_by_country_sorted2 = guests_by_country.sort_values(ascending=True)"
   ]
  },
  {
   "cell_type": "code",
   "execution_count": 69,
   "id": "71484ccf",
   "metadata": {},
   "outputs": [
    {
     "name": "stdout",
     "output_type": "stream",
     "text": [
      "countries contributing less to revenue are \n",
      "\n",
      "Index(['Guyana', 'Kiribati', 'Burkina Faso', 'French Southern Territories',\n",
      "       'Nepal'],\n",
      "      dtype='object', name='Country')\n"
     ]
    }
   ],
   "source": [
    "guests_by_country_sorted2.head()\n",
    "least_5_countries = guests_by_country_sorted2.head(5)\n",
    "least_5_country_names = least_5_countries.index\n",
    "print(f\"countries contributing less to revenue are \\n\\n{least_5_country_names}\")"
   ]
  },
  {
   "cell_type": "code",
   "execution_count": 70,
   "id": "4f6bcfa9",
   "metadata": {},
   "outputs": [],
   "source": [
    "# Guyana', 'Kiribati', 'Burkina Faso', 'French Southern Territories', and 'Nepal' should be targeted for marketing effort"
   ]
  },
  {
   "cell_type": "code",
   "execution_count": 72,
   "id": "a3163435",
   "metadata": {},
   "outputs": [],
   "source": [
    "# Correlation between country of origin and likelihood of cancellations or extended stays\n",
    "cancellation_by_country = df.groupby('Country')['Cancelled (0/1)'].mean()\n",
    "extended_stays_by_country = df.groupby('Country')['Nights'].mean()"
   ]
  },
  {
   "cell_type": "code",
   "execution_count": 73,
   "id": "b9d01f9c",
   "metadata": {},
   "outputs": [
    {
     "data": {
      "text/plain": [
       "Country\n",
       "Albania           0.166667\n",
       "Algeria           0.203883\n",
       "American Samoa    0.000000\n",
       "Andorra           0.714286\n",
       "Angola            0.566298\n",
       "                    ...   \n",
       "Venezuela         0.461538\n",
       "Viet Nam          0.250000\n",
       "Virgin Islands    1.000000\n",
       "Zambia            0.500000\n",
       "Zimbabwe          0.500000\n",
       "Name: Cancelled (0/1), Length: 174, dtype: float64"
      ]
     },
     "execution_count": 73,
     "metadata": {},
     "output_type": "execute_result"
    }
   ],
   "source": [
    "cancellation_by_country"
   ]
  },
  {
   "cell_type": "code",
   "execution_count": 74,
   "id": "0ae9a437",
   "metadata": {},
   "outputs": [
    {
     "data": {
      "text/plain": [
       "Country\n",
       "Albania           3.333333\n",
       "Algeria           4.087379\n",
       "American Samoa    1.000000\n",
       "Andorra           4.428571\n",
       "Angola            8.116022\n",
       "                    ...   \n",
       "Venezuela         3.423077\n",
       "Viet Nam          2.625000\n",
       "Virgin Islands    3.000000\n",
       "Zambia            4.000000\n",
       "Zimbabwe          2.500000\n",
       "Name: Nights, Length: 174, dtype: float64"
      ]
     },
     "execution_count": 74,
     "metadata": {},
     "output_type": "execute_result"
    }
   ],
   "source": [
    "extended_stays_by_country"
   ]
  },
  {
   "cell_type": "code",
   "execution_count": 75,
   "id": "62e90dd7",
   "metadata": {},
   "outputs": [],
   "source": [
    "cancellation_by_country_sorted = cancellation_by_country.sort_values(ascending=False)"
   ]
  },
  {
   "cell_type": "code",
   "execution_count": 76,
   "id": "f510ebb2",
   "metadata": {},
   "outputs": [
    {
     "data": {
      "text/plain": [
       "Country\n",
       "Cambodia                       1.0\n",
       "Nicaragua                      1.0\n",
       "Isle of Man                    1.0\n",
       "Honduras                       1.0\n",
       "Benin                          1.0\n",
       "                              ... \n",
       "Namibia                        0.0\n",
       "Sierra Leone                   0.0\n",
       "French Southern Territories    0.0\n",
       "French Polynesia               0.0\n",
       "Kiribati                       0.0\n",
       "Name: Cancelled (0/1), Length: 174, dtype: float64"
      ]
     },
     "execution_count": 76,
     "metadata": {},
     "output_type": "execute_result"
    }
   ],
   "source": [
    "cancellation_by_country_sorted"
   ]
  },
  {
   "cell_type": "code",
   "execution_count": 77,
   "id": "11094cee",
   "metadata": {},
   "outputs": [],
   "source": [
    "# Guests from Cambodia, Nicaragua, Isle of man, Honduras and Benini are more likely to cancell"
   ]
  },
  {
   "cell_type": "code",
   "execution_count": 78,
   "id": "1c0aec5a",
   "metadata": {},
   "outputs": [],
   "source": [
    "extended_stays_by_country_sorted = extended_stays_by_country.sort_values(ascending=False)"
   ]
  },
  {
   "cell_type": "code",
   "execution_count": 79,
   "id": "8eda286a",
   "metadata": {},
   "outputs": [
    {
     "data": {
      "text/plain": [
       "Country\n",
       "Faroe Islands     12.000000\n",
       "Senegal            8.818182\n",
       "Angola             8.116022\n",
       "Togo               8.000000\n",
       "Guinea-Bissau      7.111111\n",
       "                    ...    \n",
       "Djibouti           1.000000\n",
       "Comoros            1.000000\n",
       "Mali               1.000000\n",
       "Madagascar         1.000000\n",
       "American Samoa     1.000000\n",
       "Name: Nights, Length: 174, dtype: float64"
      ]
     },
     "execution_count": 79,
     "metadata": {},
     "output_type": "execute_result"
    }
   ],
   "source": [
    "extended_stays_by_country_sorted"
   ]
  },
  {
   "cell_type": "code",
   "execution_count": 80,
   "id": "0894efe4",
   "metadata": {},
   "outputs": [],
   "source": [
    "## Guests from faroe Islands, Senegal,Angola, Togo and Guinea-Bissau  are more likely to extend stay"
   ]
  },
  {
   "cell_type": "markdown",
   "id": "22b77755",
   "metadata": {},
   "source": [
    "# ●What is the average length of stay for guests, and how does it differ based on booking channels or customer types?"
   ]
  },
  {
   "cell_type": "code",
   "execution_count": 81,
   "id": "b89b2cc5",
   "metadata": {},
   "outputs": [],
   "source": [
    "# Average length of stay for guests and differences based on booking channels or customer types\n",
    "length_of_stay_by_channel = df.groupby('Distribution Channel')['Nights'].mean()\n",
    "length_of_stay_by_type = df.groupby('Customer Type')['Nights'].mean()"
   ]
  },
  {
   "cell_type": "code",
   "execution_count": 82,
   "id": "38e4c4ff",
   "metadata": {},
   "outputs": [
    {
     "data": {
      "text/plain": [
       "Distribution Channel\n",
       "Corporate               2.408874\n",
       "Direct                  3.188290\n",
       "Offline Travel Agent    3.922280\n",
       "Online Travel Agent     3.409320\n",
       "Undefined               3.400000\n",
       "Name: Nights, dtype: float64"
      ]
     },
     "execution_count": 82,
     "metadata": {},
     "output_type": "execute_result"
    }
   ],
   "source": [
    "length_of_stay_by_channel"
   ]
  },
  {
   "cell_type": "code",
   "execution_count": 83,
   "id": "ac7491d9",
   "metadata": {},
   "outputs": [
    {
     "data": {
      "text/plain": [
       "Customer Type\n",
       "Contract           5.320658\n",
       "Group              2.894737\n",
       "Transient          3.451544\n",
       "Transient-Party    3.063193\n",
       "Name: Nights, dtype: float64"
      ]
     },
     "execution_count": 83,
     "metadata": {},
     "output_type": "execute_result"
    }
   ],
   "source": [
    "length_of_stay_by_type"
   ]
  },
  {
   "cell_type": "code",
   "execution_count": 84,
   "id": "4a0701e1",
   "metadata": {},
   "outputs": [],
   "source": [
    "#Contract customer type are more likely to stay for more days compared to other customer type, likewise customer from offline travel agent are more likelyb to stay"
   ]
  },
  {
   "cell_type": "markdown",
   "id": "ebd5bd24",
   "metadata": {},
   "source": [
    "# ●Are there patterns in check-out dates that can inform staffing and resource allocation strategies?"
   ]
  },
  {
   "cell_type": "code",
   "execution_count": 85,
   "id": "1d2c0f4b",
   "metadata": {},
   "outputs": [
    {
     "data": {
      "image/png": "[encoded data removed]",
      "text/plain": [
       "<Figure size 720x432 with 1 Axes>"
      ]
     },
     "metadata": {
      "needs_background": "light"
     },
     "output_type": "display_data"
    }
   ],
   "source": [
    "# Patterns in check-out dates for staffing and resource allocation\n",
    "checkout_dates = df.groupby('Arrival Date')['Booking ID'].count()\n",
    "# Plotting\n",
    "plt.figure(figsize=(10, 6))\n",
    "sns.lineplot(x=checkout_dates.index, y=checkout_dates.values)\n",
    "plt.title('Check-Out Dates Pattern')\n",
    "plt.xlabel('Arrival Date')\n",
    "plt.ylabel('Number of Check-Outs')\n",
    "plt.show()"
   ]
  },
  {
   "cell_type": "markdown",
   "id": "bcef1485",
   "metadata": {},
   "source": [
    "# ●How does the presence or absence of a deposit impact the likelihood of cancellations and revenue generation?"
   ]
  },
  {
   "cell_type": "code",
   "execution_count": 87,
   "id": "2a437997",
   "metadata": {},
   "outputs": [],
   "source": [
    "deposit_cancellation_rate = df.groupby('Deposit Type')['Cancelled (0/1)'].mean()\n",
    "deposit_revenue_impact = df.groupby('Deposit Type')['Revenue'].sum()"
   ]
  },
  {
   "cell_type": "code",
   "execution_count": 88,
   "id": "65563ecd",
   "metadata": {},
   "outputs": [
    {
     "data": {
      "text/plain": [
       "Deposit Type\n",
       "No Deposit        0.284553\n",
       "Non Refundable    0.993618\n",
       "Refundable        0.222222\n",
       "Name: Cancelled (0/1), dtype: float64"
      ]
     },
     "execution_count": 88,
     "metadata": {},
     "output_type": "execute_result"
    }
   ],
   "source": [
    "deposit_cancellation_rate"
   ]
  },
  {
   "cell_type": "code",
   "execution_count": 89,
   "id": "245d4d96",
   "metadata": {},
   "outputs": [],
   "source": [
    "#Absence of deposit does not impact likelihood of cancellations"
   ]
  },
  {
   "cell_type": "code",
   "execution_count": 90,
   "id": "27313e73",
   "metadata": {},
   "outputs": [
    {
     "data": {
      "text/plain": [
       "Deposit Type\n",
       "No Deposit        25862867.74\n",
       "Non Refundable     3618716.90\n",
       "Refundable           28987.21\n",
       "Name: Revenue, dtype: float64"
      ]
     },
     "execution_count": 90,
     "metadata": {},
     "output_type": "execute_result"
    }
   ],
   "source": [
    "deposit_revenue_impact"
   ]
  },
  {
   "cell_type": "code",
   "execution_count": 91,
   "id": "5be4d0f7",
   "metadata": {},
   "outputs": [],
   "source": [
    "#Absence of deposits impacts alot in revenue generations"
   ]
  },
  {
   "cell_type": "markdown",
   "id": "b73ac4e9",
   "metadata": {},
   "source": [
    "# ●Can we identify any patterns in the use of deposit types across different customer segments?"
   ]
  },
  {
   "cell_type": "code",
   "execution_count": 92,
   "id": "5b1f6231",
   "metadata": {},
   "outputs": [],
   "source": [
    "# Patterns in deposit types across different customer segments\n",
    "deposit_by_customer_type = df.groupby('Customer Type')['Deposit Type'].value_counts()"
   ]
  },
  {
   "cell_type": "code",
   "execution_count": 93,
   "id": "4e6c9367",
   "metadata": {},
   "outputs": [
    {
     "data": {
      "text/plain": [
       "Customer Type    Deposit Type  \n",
       "Contract         No Deposit         3530\n",
       "                 Non Refundable      544\n",
       "                 Refundable            2\n",
       "Group            No Deposit          562\n",
       "                 Refundable            8\n",
       "Transient        No Deposit        76259\n",
       "                 Non Refundable    12895\n",
       "                 Refundable           20\n",
       "Transient-Party  No Deposit        23816\n",
       "                 Non Refundable     1134\n",
       "                 Refundable          132\n",
       "Name: Deposit Type, dtype: int64"
      ]
     },
     "execution_count": 93,
     "metadata": {},
     "output_type": "execute_result"
    }
   ],
   "source": [
    "deposit_by_customer_type"
   ]
  },
  {
   "cell_type": "code",
   "execution_count": 94,
   "id": "de972973",
   "metadata": {},
   "outputs": [],
   "source": [
    "#Customer with no deposits are large in many types of customer"
   ]
  },
  {
   "cell_type": "markdown",
   "id": "250ddb24",
   "metadata": {},
   "source": [
    "# ●What is the proportion of corporate bookings, and how does their Average Daily Rate (ADR) compare to other customer types?"
   ]
  },
  {
   "cell_type": "code",
   "execution_count": 95,
   "id": "d3020a38",
   "metadata": {},
   "outputs": [],
   "source": [
    "corporate_proportion = df[df['Customer Type'] == 'Corporate'].shape[0] / df.shape[0]\n",
    "adr_comparison = df.groupby('Customer Type')['Avg Daily Rate'].mean()"
   ]
  },
  {
   "cell_type": "code",
   "execution_count": 96,
   "id": "301d5aec",
   "metadata": {},
   "outputs": [
    {
     "data": {
      "text/plain": [
       "0.0"
      ]
     },
     "execution_count": 96,
     "metadata": {},
     "output_type": "execute_result"
    }
   ],
   "source": [
    "corporate_proportion"
   ]
  },
  {
   "cell_type": "code",
   "execution_count": 97,
   "id": "657930e0",
   "metadata": {},
   "outputs": [
    {
     "data": {
      "text/plain": [
       "Customer Type\n",
       "Contract            87.549637\n",
       "Group               84.023351\n",
       "Transient          107.245498\n",
       "Transient-Party     86.111330\n",
       "Name: Avg Daily Rate, dtype: float64"
      ]
     },
     "execution_count": 97,
     "metadata": {},
     "output_type": "execute_result"
    }
   ],
   "source": [
    "adr_comparison"
   ]
  },
  {
   "cell_type": "markdown",
   "id": "3138b25c",
   "metadata": {},
   "source": [
    "# ●Are there specific trends or patterns related to corporate bookings that can inform business strategies?"
   ]
  },
  {
   "cell_type": "code",
   "execution_count": 98,
   "id": "069c88ea",
   "metadata": {},
   "outputs": [
    {
     "data": {
      "image/png": "[encoded data removed]",
      "text/plain": [
       "<Figure size 720x432 with 1 Axes>"
      ]
     },
     "metadata": {
      "needs_background": "light"
     },
     "output_type": "display_data"
    }
   ],
   "source": [
    "# Trends and patterns related to corporate bookings for business strategies\n",
    "corporate_booking_trends = df[df['Customer Type'] == 'Corporate'].groupby('Booking Date')['Booking ID'].count()\n",
    "# Plotting\n",
    "plt.figure(figsize=(10, 6))\n",
    "sns.lineplot(x=corporate_booking_trends.index, y=corporate_booking_trends.values)\n",
    "plt.title('Corporate Booking Trends')\n",
    "plt.xlabel('Booking Date')\n",
    "plt.ylabel('Number of Corporate Bookings')\n",
    "plt.show()"
   ]
  },
  {
   "cell_type": "code",
   "execution_count": 99,
   "id": "e10715d5",
   "metadata": {},
   "outputs": [],
   "source": [
    "# There's no Trends and patterns related to corporate bookings for business strategies"
   ]
  },
  {
   "cell_type": "markdown",
   "id": "213c5ff9",
   "metadata": {},
   "source": [
    "# ●How does the time between booking and arrival date (lead time) affect revenue and the likelihood of cancellations?"
   ]
  },
  {
   "cell_type": "code",
   "execution_count": 101,
   "id": "6a827479",
   "metadata": {},
   "outputs": [],
   "source": [
    "lead_time_revenue = df.groupby('Lead Time')['Revenue'].sum()\n",
    "lead_time_cancellation_rate = df.groupby('Lead Time')['Cancelled (0/1)'].mean()"
   ]
  },
  {
   "cell_type": "code",
   "execution_count": 102,
   "id": "9ec7683b",
   "metadata": {},
   "outputs": [
    {
     "data": {
      "text/plain": [
       "Lead Time\n",
       "0      794418.57\n",
       "1      527419.02\n",
       "2      358660.73\n",
       "3      359039.96\n",
       "4      348047.09\n",
       "         ...    \n",
       "622      1978.00\n",
       "626      5652.00\n",
       "629      1978.00\n",
       "709      1904.00\n",
       "737         0.00\n",
       "Name: Revenue, Length: 479, dtype: float64"
      ]
     },
     "execution_count": 102,
     "metadata": {},
     "output_type": "execute_result"
    }
   ],
   "source": [
    "lead_time_revenue"
   ]
  },
  {
   "cell_type": "code",
   "execution_count": 103,
   "id": "724cf12f",
   "metadata": {},
   "outputs": [
    {
     "data": {
      "text/plain": [
       "Lead Time\n",
       "0      0.066849\n",
       "1      0.093962\n",
       "2      0.103736\n",
       "3      0.100444\n",
       "4      0.102005\n",
       "         ...   \n",
       "622    1.000000\n",
       "626    1.000000\n",
       "629    1.000000\n",
       "709    0.000000\n",
       "737    0.000000\n",
       "Name: Cancelled (0/1), Length: 479, dtype: float64"
      ]
     },
     "execution_count": 103,
     "metadata": {},
     "output_type": "execute_result"
    }
   ],
   "source": [
    "lead_time_cancellation_rate"
   ]
  },
  {
   "cell_type": "code",
   "execution_count": 104,
   "id": "981517ba",
   "metadata": {},
   "outputs": [],
   "source": [
    "#As time goes by cancellation rate decreases"
   ]
  },
  {
   "cell_type": "markdown",
   "id": "05f34a64",
   "metadata": {},
   "source": [
    "# ●Are there specific lead time ranges that are associated with higher customer satisfaction or revenue?"
   ]
  },
  {
   "cell_type": "code",
   "execution_count": 105,
   "id": "43d10560",
   "metadata": {},
   "outputs": [],
   "source": [
    "lead_time_cancellation_rate = df.groupby('Lead Time')['Cancelled (0/1)'].mean()"
   ]
  },
  {
   "cell_type": "code",
   "execution_count": 106,
   "id": "88d7741b",
   "metadata": {},
   "outputs": [
    {
     "data": {
      "text/plain": [
       "Lead Time\n",
       "0      0.066849\n",
       "1      0.093962\n",
       "2      0.103736\n",
       "3      0.100444\n",
       "4      0.102005\n",
       "         ...   \n",
       "622    1.000000\n",
       "626    1.000000\n",
       "629    1.000000\n",
       "709    0.000000\n",
       "737    0.000000\n",
       "Name: Cancelled (0/1), Length: 479, dtype: float64"
      ]
     },
     "execution_count": 106,
     "metadata": {},
     "output_type": "execute_result"
    }
   ],
   "source": [
    "lead_time_cancellation_rate"
   ]
  },
  {
   "cell_type": "markdown",
   "id": "151e6e10",
   "metadata": {},
   "source": [
    "# ●What is the revenue contribution of online travel agents compared to offline travel agents?"
   ]
  },
  {
   "cell_type": "code",
   "execution_count": 107,
   "id": "98ec0ec2",
   "metadata": {},
   "outputs": [],
   "source": [
    "ota_revenue = df[df['Distribution Channel'] == 'Online Travel Agent']['Revenue'].sum()\n",
    "offline_revenue = df[df['Distribution Channel'] == 'Offline Travel Agent']['Revenue'].sum()"
   ]
  },
  {
   "cell_type": "code",
   "execution_count": 108,
   "id": "dc37936b",
   "metadata": {},
   "outputs": [
    {
     "data": {
      "text/plain": [
       "17234914.559999995"
      ]
     },
     "execution_count": 108,
     "metadata": {},
     "output_type": "execute_result"
    }
   ],
   "source": [
    "ota_revenue"
   ]
  },
  {
   "cell_type": "code",
   "execution_count": 109,
   "id": "991a9a9d",
   "metadata": {},
   "outputs": [
    {
     "data": {
      "text/plain": [
       "6984958.98"
      ]
     },
     "execution_count": 109,
     "metadata": {},
     "output_type": "execute_result"
    }
   ],
   "source": [
    "offline_revenue"
   ]
  },
  {
   "cell_type": "code",
   "execution_count": 110,
   "id": "6a8cf595",
   "metadata": {},
   "outputs": [],
   "source": [
    "#revenue contribution from Online is higher than offline"
   ]
  },
  {
   "cell_type": "markdown",
   "id": "8f52aae4",
   "metadata": {},
   "source": [
    "# ●How do cancellation rates and revenue vary between bookings made through online and offline travel agents?"
   ]
  },
  {
   "cell_type": "code",
   "execution_count": 112,
   "id": "e2e66563",
   "metadata": {},
   "outputs": [],
   "source": [
    "# Cancellation rates and revenue differences between online and offline travel agents\n",
    "ota_cancellation_rate = df[df['Distribution Channel'] == 'Online Travel Agent']['Cancelled (0/1)'].mean()\n",
    "offline_cancellation_rate = df[df['Distribution Channel'] == 'Offline Travel Agent']['Cancelled (0/1)'].mean()"
   ]
  },
  {
   "cell_type": "code",
   "execution_count": 113,
   "id": "2a2b8eb6",
   "metadata": {},
   "outputs": [
    {
     "data": {
      "text/plain": [
       "0.43226878944736524"
      ]
     },
     "execution_count": 113,
     "metadata": {},
     "output_type": "execute_result"
    }
   ],
   "source": [
    "ota_cancellation_rate"
   ]
  },
  {
   "cell_type": "code",
   "execution_count": 114,
   "id": "c1865b7c",
   "metadata": {},
   "outputs": [
    {
     "data": {
      "text/plain": [
       "0.34146749122513786"
      ]
     },
     "execution_count": 114,
     "metadata": {},
     "output_type": "execute_result"
    }
   ],
   "source": [
    "offline_cancellation_rate"
   ]
  },
  {
   "cell_type": "code",
   "execution_count": 116,
   "id": "449c7e36",
   "metadata": {},
   "outputs": [],
   "source": [
    "#online can cellation rate is much higher"
   ]
  },
  {
   "cell_type": "code",
   "execution_count": null,
   "id": "8fc1f8dc",
   "metadata": {},
   "outputs": [],
   "source": []
  }
 ],
 "metadata": {
  "kernelspec": {
   "display_name": "Python 3 (ipykernel)",
   "language": "python",
   "name": "python3"
  },
  "language_info": {
   "codemirror_mode": {
    "name": "ipython",
    "version": 3
   },
   "file_extension": ".py",
   "mimetype": "text/x-python",
   "name": "python",
   "nbconvert_exporter": "python",
   "pygments_lexer": "ipython3",
   "version": "3.9.7"
  }
 },
 "nbformat": 4,
 "nbformat_minor": 5
}
