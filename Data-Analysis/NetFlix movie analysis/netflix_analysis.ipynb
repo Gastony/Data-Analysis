{
 "cells": [
  {
   "cell_type": "code",
   "execution_count": 1,
   "id": "44201714-8ff2-42c7-bb5d-187782418340",
   "metadata": {},
   "outputs": [],
   "source": [
    "import pandas as pd\n",
    "import numpy as np\n",
    "import matplotlib.pyplot as plt\n",
    "plt.style.use('classic')\n",
    "import seaborn as sns\n",
    "sns.set()\n",
    "%matplotlib inline"
   ]
  },
  {
   "cell_type": "markdown",
   "id": "01048f36-3446-4fcf-8bfa-11adeb9d3ba4",
   "metadata": {},
   "source": [
    "https://www.kaggle.com/datasets/victorsoeiro/netflix-tv-shows-and-movies\n",
    "\n",
    "This dataset has two files containing the titles (titles.csv) and the cast (credits.csv) for the title.\r\n",
    "\r\n",
    "This dataset contains +5k unique titles on Netflix with 15 columns containing their information, including:\r\n",
    "\r\n",
    "id: The title ID on JustWatch.\r\n",
    "title: The name of the title.\r\n",
    "show_type: TV show or movie.\r\n",
    "description: A brief description.\r\n",
    "release_year: The release year.\r\n",
    "age_certification: The age certification.\r\n",
    "runtime: The length of the episode (SHOW) or movie.\r\n",
    "genres: A list of genres.\r\n",
    "production_countries: A list of countries that produced the title.\r\n",
    "seasons: Number of seasons if it's a SHOW.\r\n",
    "imdb_id: The title ID on IMDB.\r\n",
    "imdb_score: Score on IMDB.\r\n",
    "imdb_votes: Votes on IMDB.\r\n",
    "tmdb_popularity: Popularity on TMDB.\r\n",
    "tmdb_score: Score on TMDB.\r\n",
    "And over +77k credits of actors and directors on Netflix titles with 5 columns containing their information, including:\r\n",
    "\r\n",
    "person_ID: The person ID on JustWatch.\r\n",
    "id: The title ID on JustWatch.\r\n",
    "name: The actor or director's name.\r\n",
    "character_name: The character name.\r\n",
    "role: ACTOR or DIRECTOR.\r\n"
   ]
  },
  {
   "cell_type": "code",
   "execution_count": 3,
   "id": "34ccfc21-0b53-4932-9605-f85fa4b709e0",
   "metadata": {},
   "outputs": [],
   "source": [
    "titles = pd.read_csv(r'netflix\\titles.csv')"
   ]
  },
  {
   "cell_type": "code",
   "execution_count": 4,
   "id": "897b71b8-3a74-4783-8a97-28963e03fe62",
   "metadata": {},
   "outputs": [],
   "source": [
    "credits = pd.read_csv(r'netflix\\credits.csv')"
   ]
  },
  {
   "cell_type": "code",
   "execution_count": 6,
   "id": "3aff75b2-6fae-45cd-ae3d-4a77b11cd516",
   "metadata": {},
   "outputs": [
    {
     "data": {
      "text/html": [
       "<div>\n",
       "<style scoped>\n",
       "    .dataframe tbody tr th:only-of-type {\n",
       "        vertical-align: middle;\n",
       "    }\n",
       "\n",
       "    .dataframe tbody tr th {\n",
       "        vertical-align: top;\n",
       "    }\n",
       "\n",
       "    .dataframe thead th {\n",
       "        text-align: right;\n",
       "    }\n",
       "</style>\n",
       "<table border=\"1\" class=\"dataframe\">\n",
       "  <thead>\n",
       "    <tr style=\"text-align: right;\">\n",
       "      <th></th>\n",
       "      <th>id</th>\n",
       "      <th>title</th>\n",
       "      <th>type</th>\n",
       "      <th>description</th>\n",
       "      <th>release_year</th>\n",
       "      <th>age_certification</th>\n",
       "      <th>runtime</th>\n",
       "      <th>genres</th>\n",
       "      <th>production_countries</th>\n",
       "      <th>seasons</th>\n",
       "      <th>imdb_id</th>\n",
       "      <th>imdb_score</th>\n",
       "      <th>imdb_votes</th>\n",
       "      <th>tmdb_popularity</th>\n",
       "      <th>tmdb_score</th>\n",
       "    </tr>\n",
       "  </thead>\n",
       "  <tbody>\n",
       "    <tr>\n",
       "      <th>0</th>\n",
       "      <td>ts300399</td>\n",
       "      <td>Five Came Back: The Reference Films</td>\n",
       "      <td>SHOW</td>\n",
       "      <td>This collection includes 12 World War II-era p...</td>\n",
       "      <td>1945</td>\n",
       "      <td>TV-MA</td>\n",
       "      <td>51</td>\n",
       "      <td>['documentation']</td>\n",
       "      <td>['US']</td>\n",
       "      <td>1.0</td>\n",
       "      <td>NaN</td>\n",
       "      <td>NaN</td>\n",
       "      <td>NaN</td>\n",
       "      <td>0.600</td>\n",
       "      <td>NaN</td>\n",
       "    </tr>\n",
       "    <tr>\n",
       "      <th>1</th>\n",
       "      <td>tm84618</td>\n",
       "      <td>Taxi Driver</td>\n",
       "      <td>MOVIE</td>\n",
       "      <td>A mentally unstable Vietnam War veteran works ...</td>\n",
       "      <td>1976</td>\n",
       "      <td>R</td>\n",
       "      <td>114</td>\n",
       "      <td>['drama', 'crime']</td>\n",
       "      <td>['US']</td>\n",
       "      <td>NaN</td>\n",
       "      <td>tt0075314</td>\n",
       "      <td>8.2</td>\n",
       "      <td>808582.0</td>\n",
       "      <td>40.965</td>\n",
       "      <td>8.179</td>\n",
       "    </tr>\n",
       "    <tr>\n",
       "      <th>2</th>\n",
       "      <td>tm154986</td>\n",
       "      <td>Deliverance</td>\n",
       "      <td>MOVIE</td>\n",
       "      <td>Intent on seeing the Cahulawassee River before...</td>\n",
       "      <td>1972</td>\n",
       "      <td>R</td>\n",
       "      <td>109</td>\n",
       "      <td>['drama', 'action', 'thriller', 'european']</td>\n",
       "      <td>['US']</td>\n",
       "      <td>NaN</td>\n",
       "      <td>tt0068473</td>\n",
       "      <td>7.7</td>\n",
       "      <td>107673.0</td>\n",
       "      <td>10.010</td>\n",
       "      <td>7.300</td>\n",
       "    </tr>\n",
       "    <tr>\n",
       "      <th>3</th>\n",
       "      <td>tm127384</td>\n",
       "      <td>Monty Python and the Holy Grail</td>\n",
       "      <td>MOVIE</td>\n",
       "      <td>King Arthur, accompanied by his squire, recrui...</td>\n",
       "      <td>1975</td>\n",
       "      <td>PG</td>\n",
       "      <td>91</td>\n",
       "      <td>['fantasy', 'action', 'comedy']</td>\n",
       "      <td>['GB']</td>\n",
       "      <td>NaN</td>\n",
       "      <td>tt0071853</td>\n",
       "      <td>8.2</td>\n",
       "      <td>534486.0</td>\n",
       "      <td>15.461</td>\n",
       "      <td>7.811</td>\n",
       "    </tr>\n",
       "    <tr>\n",
       "      <th>4</th>\n",
       "      <td>tm120801</td>\n",
       "      <td>The Dirty Dozen</td>\n",
       "      <td>MOVIE</td>\n",
       "      <td>12 American military prisoners in World War II...</td>\n",
       "      <td>1967</td>\n",
       "      <td>NaN</td>\n",
       "      <td>150</td>\n",
       "      <td>['war', 'action']</td>\n",
       "      <td>['GB', 'US']</td>\n",
       "      <td>NaN</td>\n",
       "      <td>tt0061578</td>\n",
       "      <td>7.7</td>\n",
       "      <td>72662.0</td>\n",
       "      <td>20.398</td>\n",
       "      <td>7.600</td>\n",
       "    </tr>\n",
       "  </tbody>\n",
       "</table>\n",
       "</div>"
      ],
      "text/plain": [
       "         id                                title   type  \\\n",
       "0  ts300399  Five Came Back: The Reference Films   SHOW   \n",
       "1   tm84618                          Taxi Driver  MOVIE   \n",
       "2  tm154986                          Deliverance  MOVIE   \n",
       "3  tm127384      Monty Python and the Holy Grail  MOVIE   \n",
       "4  tm120801                      The Dirty Dozen  MOVIE   \n",
       "\n",
       "                                         description  release_year  \\\n",
       "0  This collection includes 12 World War II-era p...          1945   \n",
       "1  A mentally unstable Vietnam War veteran works ...          1976   \n",
       "2  Intent on seeing the Cahulawassee River before...          1972   \n",
       "3  King Arthur, accompanied by his squire, recrui...          1975   \n",
       "4  12 American military prisoners in World War II...          1967   \n",
       "\n",
       "  age_certification  runtime                                       genres  \\\n",
       "0             TV-MA       51                            ['documentation']   \n",
       "1                 R      114                           ['drama', 'crime']   \n",
       "2                 R      109  ['drama', 'action', 'thriller', 'european']   \n",
       "3                PG       91              ['fantasy', 'action', 'comedy']   \n",
       "4               NaN      150                            ['war', 'action']   \n",
       "\n",
       "  production_countries  seasons    imdb_id  imdb_score  imdb_votes  \\\n",
       "0               ['US']      1.0        NaN         NaN         NaN   \n",
       "1               ['US']      NaN  tt0075314         8.2    808582.0   \n",
       "2               ['US']      NaN  tt0068473         7.7    107673.0   \n",
       "3               ['GB']      NaN  tt0071853         8.2    534486.0   \n",
       "4         ['GB', 'US']      NaN  tt0061578         7.7     72662.0   \n",
       "\n",
       "   tmdb_popularity  tmdb_score  \n",
       "0            0.600         NaN  \n",
       "1           40.965       8.179  \n",
       "2           10.010       7.300  \n",
       "3           15.461       7.811  \n",
       "4           20.398       7.600  "
      ]
     },
     "execution_count": 6,
     "metadata": {},
     "output_type": "execute_result"
    }
   ],
   "source": [
    "#View Five first rows of titles dataframe\n",
    "titles.head()"
   ]
  },
  {
   "cell_type": "code",
   "execution_count": 7,
   "id": "cc2d2d8f-ffbf-4e1b-8494-2fb110b67ecd",
   "metadata": {},
   "outputs": [
    {
     "data": {
      "text/html": [
       "<div>\n",
       "<style scoped>\n",
       "    .dataframe tbody tr th:only-of-type {\n",
       "        vertical-align: middle;\n",
       "    }\n",
       "\n",
       "    .dataframe tbody tr th {\n",
       "        vertical-align: top;\n",
       "    }\n",
       "\n",
       "    .dataframe thead th {\n",
       "        text-align: right;\n",
       "    }\n",
       "</style>\n",
       "<table border=\"1\" class=\"dataframe\">\n",
       "  <thead>\n",
       "    <tr style=\"text-align: right;\">\n",
       "      <th></th>\n",
       "      <th>person_id</th>\n",
       "      <th>id</th>\n",
       "      <th>name</th>\n",
       "      <th>character</th>\n",
       "      <th>role</th>\n",
       "    </tr>\n",
       "  </thead>\n",
       "  <tbody>\n",
       "    <tr>\n",
       "      <th>0</th>\n",
       "      <td>3748</td>\n",
       "      <td>tm84618</td>\n",
       "      <td>Robert De Niro</td>\n",
       "      <td>Travis Bickle</td>\n",
       "      <td>ACTOR</td>\n",
       "    </tr>\n",
       "    <tr>\n",
       "      <th>1</th>\n",
       "      <td>14658</td>\n",
       "      <td>tm84618</td>\n",
       "      <td>Jodie Foster</td>\n",
       "      <td>Iris Steensma</td>\n",
       "      <td>ACTOR</td>\n",
       "    </tr>\n",
       "    <tr>\n",
       "      <th>2</th>\n",
       "      <td>7064</td>\n",
       "      <td>tm84618</td>\n",
       "      <td>Albert Brooks</td>\n",
       "      <td>Tom</td>\n",
       "      <td>ACTOR</td>\n",
       "    </tr>\n",
       "    <tr>\n",
       "      <th>3</th>\n",
       "      <td>3739</td>\n",
       "      <td>tm84618</td>\n",
       "      <td>Harvey Keitel</td>\n",
       "      <td>Matthew 'Sport' Higgins</td>\n",
       "      <td>ACTOR</td>\n",
       "    </tr>\n",
       "    <tr>\n",
       "      <th>4</th>\n",
       "      <td>48933</td>\n",
       "      <td>tm84618</td>\n",
       "      <td>Cybill Shepherd</td>\n",
       "      <td>Betsy</td>\n",
       "      <td>ACTOR</td>\n",
       "    </tr>\n",
       "  </tbody>\n",
       "</table>\n",
       "</div>"
      ],
      "text/plain": [
       "   person_id       id             name                character   role\n",
       "0       3748  tm84618   Robert De Niro            Travis Bickle  ACTOR\n",
       "1      14658  tm84618     Jodie Foster            Iris Steensma  ACTOR\n",
       "2       7064  tm84618    Albert Brooks                      Tom  ACTOR\n",
       "3       3739  tm84618    Harvey Keitel  Matthew 'Sport' Higgins  ACTOR\n",
       "4      48933  tm84618  Cybill Shepherd                    Betsy  ACTOR"
      ]
     },
     "execution_count": 7,
     "metadata": {},
     "output_type": "execute_result"
    }
   ],
   "source": [
    "#View Five first rows of credits dataframe\n",
    "credits.head()"
   ]
  },
  {
   "cell_type": "code",
   "execution_count": 10,
   "id": "b62b979e-d9d9-4c54-bd6a-d75f69857e04",
   "metadata": {},
   "outputs": [
    {
     "name": "stdout",
     "output_type": "stream",
     "text": [
      "There are 5850 rows and 15 columns in the titles data set\n",
      "There are 77801 rows and 5 columns in the credits data set\n"
     ]
    }
   ],
   "source": [
    "#Finding number of rows and columns\n",
    "titles_rows=titles.shape[0]\n",
    "titles_columns = titles.shape[1]\n",
    "print(f\"There are {titles_rows} rows and {titles_columns} columns in the titles data set\")\n",
    "\n",
    "credits_rows=credits.shape[0]\n",
    "credits_columns = credits.shape[1]\n",
    "print(f\"There are {credits_rows} rows and {credits_columns} columns in the credits data set\")"
   ]
  },
  {
   "cell_type": "code",
   "execution_count": 105,
   "id": "bcdddc63-fb35-41dc-b370-2926c655cb6c",
   "metadata": {},
   "outputs": [
    {
     "name": "stdout",
     "output_type": "stream",
     "text": [
      "There are 2020 shows in the titles dataset\n"
     ]
    }
   ],
   "source": [
    "#Can you get all data about shows?\n",
    "shows = movies = titles[titles[\"type\"]==\"SHOW\"]\n",
    "show_count = len(shows)\n",
    "print(f\"There are {show_count} shows in the titles dataset\")"
   ]
  },
  {
   "cell_type": "code",
   "execution_count": 106,
   "id": "063e96f1-7a7a-4843-8221-d69b1931c14d",
   "metadata": {},
   "outputs": [
    {
     "name": "stdout",
     "output_type": "stream",
     "text": [
      "There are 3565 movies in the titles dataset\n"
     ]
    }
   ],
   "source": [
    "#Can you get all data about movies?\n",
    "movies = movies = titles[titles[\"type\"]==\"MOVIE\"]\n",
    "movie_count = len(movies)\n",
    "print(f\"There are {movie_count} movies in the titles dataset\")"
   ]
  },
  {
   "cell_type": "code",
   "execution_count": 107,
   "id": "4a9e72c7-5484-4b88-afcd-0a433b1f7b3a",
   "metadata": {},
   "outputs": [
    {
     "name": "stdout",
     "output_type": "stream",
     "text": [
      "<class 'pandas.core.frame.DataFrame'>\n",
      "Index: 5585 entries, 0 to 5847\n",
      "Data columns (total 15 columns):\n",
      " #   Column                Non-Null Count  Dtype  \n",
      "---  ------                --------------  -----  \n",
      " 0   id                    5585 non-null   object \n",
      " 1   title                 5585 non-null   object \n",
      " 2   type                  5585 non-null   object \n",
      " 3   description           5577 non-null   object \n",
      " 4   release_year          5585 non-null   int64  \n",
      " 5   age_certification     3140 non-null   object \n",
      " 6   runtime               5585 non-null   int64  \n",
      " 7   genres                5585 non-null   object \n",
      " 8   production_countries  5585 non-null   object \n",
      " 9   seasons               2020 non-null   float64\n",
      " 10  imdb_id               5247 non-null   object \n",
      " 11  imdb_score            5191 non-null   float64\n",
      " 12  imdb_votes            5177 non-null   float64\n",
      " 13  tmdb_popularity       5547 non-null   float64\n",
      " 14  tmdb_score            5375 non-null   float64\n",
      "dtypes: float64(5), int64(2), object(8)\n",
      "memory usage: 827.2+ KB\n"
     ]
    }
   ],
   "source": [
    "titles.info()"
   ]
  },
  {
   "cell_type": "raw",
   "id": "f4ed2278-3c92-4f6d-a678-bf238e191968",
   "metadata": {},
   "source": [
    "# Data Cleaning\n",
    "\r",
    "Data Cleaning\n",
    "Check for records with null values\n",
    "Drop records where title is null\n",
    "Drop records that do not have an entry for genres field\n",
    "Drop records that do not have an entry for production_countries fieldeld"
   ]
  },
  {
   "cell_type": "code",
   "execution_count": 108,
   "id": "d60f685c-1f96-46c7-8d16-700f5a965ea2",
   "metadata": {},
   "outputs": [
    {
     "name": "stdout",
     "output_type": "stream",
     "text": [
      "description has 8 null values\n",
      "age_certification has 2445 null values\n",
      "seasons has 3565 null values\n",
      "imdb_id has 338 null values\n",
      "imdb_score has 394 null values\n",
      "imdb_votes has 408 null values\n",
      "tmdb_popularity has 38 null values\n",
      "tmdb_score has 210 null values\n"
     ]
    }
   ],
   "source": [
    "#Check for records with null values\n",
    "for column in titles:\n",
    "    if titles[column].isnull().any():\n",
    "       print('{0} has {1} null values'.format(column, titles[column].isnull().sum()))"
   ]
  },
  {
   "cell_type": "code",
   "execution_count": 109,
   "id": "28154e52-a5b7-4f1e-8fa4-846ae3cbc505",
   "metadata": {},
   "outputs": [],
   "source": [
    "#drop records where title is null\n",
    "titles.dropna(subset=[\"title\"],inplace=True)"
   ]
  },
  {
   "cell_type": "code",
   "execution_count": 110,
   "id": "d153a1a7-f4cb-400c-9238-fe864f916035",
   "metadata": {},
   "outputs": [
    {
     "data": {
      "text/plain": [
       "0"
      ]
     },
     "execution_count": 110,
     "metadata": {},
     "output_type": "execute_result"
    }
   ],
   "source": [
    "titles[\"title\"].isnull().sum() #check for records where title is null"
   ]
  },
  {
   "cell_type": "code",
   "execution_count": 111,
   "id": "e8c183d0-6e1f-4c51-9197-a9841205e12d",
   "metadata": {},
   "outputs": [],
   "source": [
    "#drop records where genre is null\n",
    "mt_genres = titles[titles[\"genres\"] == \"[]\"]\n",
    "titles.drop(mt_genres.index, inplace=True)"
   ]
  },
  {
   "cell_type": "code",
   "execution_count": 112,
   "id": "c3bbd22d-31b6-45cc-a3a2-099dd11b0132",
   "metadata": {},
   "outputs": [
    {
     "data": {
      "text/plain": [
       "0"
      ]
     },
     "execution_count": 112,
     "metadata": {},
     "output_type": "execute_result"
    }
   ],
   "source": [
    "titles[titles[\"genres\"] == \"[]\"].shape[0] #check for records where genre is null"
   ]
  },
  {
   "cell_type": "code",
   "execution_count": 113,
   "id": "8ae22326-c535-4a12-9eb9-0338b1ab3ba7",
   "metadata": {},
   "outputs": [
    {
     "data": {
      "text/plain": [
       "0"
      ]
     },
     "execution_count": 113,
     "metadata": {},
     "output_type": "execute_result"
    }
   ],
   "source": [
    "titles.drop(titles[titles[\"production_countries\"] == \"[]\"].index, inplace = True)\n",
    "titles[titles[\"production_countries\"] == \"[]\"].shape[0]"
   ]
  },
  {
   "cell_type": "code",
   "execution_count": 114,
   "id": "20e88788-f3bb-43ac-98a4-ea4dc1be31ef",
   "metadata": {},
   "outputs": [
    {
     "name": "stdout",
     "output_type": "stream",
     "text": [
      "The movie with the highest votes is: Inception with 2294231.0 votes.\n"
     ]
    }
   ],
   "source": [
    "#Which movie got the highest votes?\n",
    "movie_with_highest_votes = movies.loc[movies['imdb_votes'].idxmax()]\n",
    "\n",
    "print(f\"The movie with the highest votes is: {movie_with_highest_votes['title']} with {movie_with_highest_votes['imdb_votes']} votes.\")\n"
   ]
  },
  {
   "cell_type": "code",
   "execution_count": 115,
   "id": "a19ed795-2163-4f37-a7ca-3089a798eaeb",
   "metadata": {},
   "outputs": [
    {
     "name": "stdout",
     "output_type": "stream",
     "text": [
      "There are 670 movies  in the top 1000 with runtime less than 2 hours\n"
     ]
    }
   ],
   "source": [
    "#How many movies are in the top 1000 that are less than 2 hours?\n",
    "movies = titles[titles[\"type\"]==\"MOVIE\"]\n",
    "movie_with_less_2Hour = len(movies.head(1000).loc[movies['runtime'] < 120])\n",
    "print(f\"There are {movie_with_less_2Hour} movies  in the top 1000 with runtime less than 2 hours\")"
   ]
  },
  {
   "cell_type": "code",
   "execution_count": 116,
   "id": "413a3058-0fb6-4ae9-b1d8-84eba792d2c2",
   "metadata": {},
   "outputs": [
    {
     "data": {
      "text/html": [
       "<div>\n",
       "<style scoped>\n",
       "    .dataframe tbody tr th:only-of-type {\n",
       "        vertical-align: middle;\n",
       "    }\n",
       "\n",
       "    .dataframe tbody tr th {\n",
       "        vertical-align: top;\n",
       "    }\n",
       "\n",
       "    .dataframe thead th {\n",
       "        text-align: right;\n",
       "    }\n",
       "</style>\n",
       "<table border=\"1\" class=\"dataframe\">\n",
       "  <thead>\n",
       "    <tr style=\"text-align: right;\">\n",
       "      <th></th>\n",
       "      <th>person_id</th>\n",
       "      <th>id</th>\n",
       "      <th>name</th>\n",
       "      <th>character</th>\n",
       "      <th>role</th>\n",
       "    </tr>\n",
       "  </thead>\n",
       "  <tbody>\n",
       "    <tr>\n",
       "      <th>36</th>\n",
       "      <td>3308</td>\n",
       "      <td>tm84618</td>\n",
       "      <td>Martin Scorsese</td>\n",
       "      <td>NaN</td>\n",
       "      <td>DIRECTOR</td>\n",
       "    </tr>\n",
       "    <tr>\n",
       "      <th>59</th>\n",
       "      <td>17727</td>\n",
       "      <td>tm154986</td>\n",
       "      <td>John Boorman</td>\n",
       "      <td>NaN</td>\n",
       "      <td>DIRECTOR</td>\n",
       "    </tr>\n",
       "    <tr>\n",
       "      <th>106</th>\n",
       "      <td>11475</td>\n",
       "      <td>tm127384</td>\n",
       "      <td>Terry Jones</td>\n",
       "      <td>NaN</td>\n",
       "      <td>DIRECTOR</td>\n",
       "    </tr>\n",
       "    <tr>\n",
       "      <th>107</th>\n",
       "      <td>11473</td>\n",
       "      <td>tm127384</td>\n",
       "      <td>Terry Gilliam</td>\n",
       "      <td>NaN</td>\n",
       "      <td>DIRECTOR</td>\n",
       "    </tr>\n",
       "    <tr>\n",
       "      <th>162</th>\n",
       "      <td>1063</td>\n",
       "      <td>tm120801</td>\n",
       "      <td>Robert Aldrich</td>\n",
       "      <td>NaN</td>\n",
       "      <td>DIRECTOR</td>\n",
       "    </tr>\n",
       "    <tr>\n",
       "      <th>...</th>\n",
       "      <td>...</td>\n",
       "      <td>...</td>\n",
       "      <td>...</td>\n",
       "      <td>...</td>\n",
       "      <td>...</td>\n",
       "    </tr>\n",
       "    <tr>\n",
       "      <th>77745</th>\n",
       "      <td>1785287</td>\n",
       "      <td>tm1216735</td>\n",
       "      <td>Joe Penney</td>\n",
       "      <td>NaN</td>\n",
       "      <td>DIRECTOR</td>\n",
       "    </tr>\n",
       "    <tr>\n",
       "      <th>77761</th>\n",
       "      <td>753271</td>\n",
       "      <td>tm985215</td>\n",
       "      <td>Barry Gonzalez</td>\n",
       "      <td>NaN</td>\n",
       "      <td>DIRECTOR</td>\n",
       "    </tr>\n",
       "    <tr>\n",
       "      <th>77777</th>\n",
       "      <td>1827884</td>\n",
       "      <td>tm1097142</td>\n",
       "      <td>Mohamed Bakir</td>\n",
       "      <td>NaN</td>\n",
       "      <td>DIRECTOR</td>\n",
       "    </tr>\n",
       "    <tr>\n",
       "      <th>77789</th>\n",
       "      <td>1962840</td>\n",
       "      <td>tm1014599</td>\n",
       "      <td>Seyi Babatope</td>\n",
       "      <td>NaN</td>\n",
       "      <td>DIRECTOR</td>\n",
       "    </tr>\n",
       "    <tr>\n",
       "      <th>77800</th>\n",
       "      <td>1950416</td>\n",
       "      <td>tm1059008</td>\n",
       "      <td>Julian Gaviria</td>\n",
       "      <td>NaN</td>\n",
       "      <td>DIRECTOR</td>\n",
       "    </tr>\n",
       "  </tbody>\n",
       "</table>\n",
       "<p>4550 rows × 5 columns</p>\n",
       "</div>"
      ],
      "text/plain": [
       "       person_id         id             name character      role\n",
       "36          3308    tm84618  Martin Scorsese       NaN  DIRECTOR\n",
       "59         17727   tm154986     John Boorman       NaN  DIRECTOR\n",
       "106        11475   tm127384      Terry Jones       NaN  DIRECTOR\n",
       "107        11473   tm127384    Terry Gilliam       NaN  DIRECTOR\n",
       "162         1063   tm120801   Robert Aldrich       NaN  DIRECTOR\n",
       "...          ...        ...              ...       ...       ...\n",
       "77745    1785287  tm1216735       Joe Penney       NaN  DIRECTOR\n",
       "77761     753271   tm985215   Barry Gonzalez       NaN  DIRECTOR\n",
       "77777    1827884  tm1097142    Mohamed Bakir       NaN  DIRECTOR\n",
       "77789    1962840  tm1014599    Seyi Babatope       NaN  DIRECTOR\n",
       "77800    1950416  tm1059008   Julian Gaviria       NaN  DIRECTOR\n",
       "\n",
       "[4550 rows x 5 columns]"
      ]
     },
     "execution_count": 116,
     "metadata": {},
     "output_type": "execute_result"
    }
   ],
   "source": [
    "#How do you get all data about directors?\n",
    "\n",
    "directors = credits[credits['role'] == 'DIRECTOR']\n",
    "directors"
   ]
  },
  {
   "cell_type": "code",
   "execution_count": 117,
   "id": "43c435d2-7c18-4835-b21f-b3e7cd8dbe61",
   "metadata": {},
   "outputs": [
    {
     "data": {
      "text/html": [
       "<div>\n",
       "<style scoped>\n",
       "    .dataframe tbody tr th:only-of-type {\n",
       "        vertical-align: middle;\n",
       "    }\n",
       "\n",
       "    .dataframe tbody tr th {\n",
       "        vertical-align: top;\n",
       "    }\n",
       "\n",
       "    .dataframe thead th {\n",
       "        text-align: right;\n",
       "    }\n",
       "</style>\n",
       "<table border=\"1\" class=\"dataframe\">\n",
       "  <thead>\n",
       "    <tr style=\"text-align: right;\">\n",
       "      <th></th>\n",
       "      <th>person_id</th>\n",
       "      <th>id</th>\n",
       "      <th>name</th>\n",
       "      <th>character</th>\n",
       "      <th>role</th>\n",
       "    </tr>\n",
       "  </thead>\n",
       "  <tbody>\n",
       "    <tr>\n",
       "      <th>2205</th>\n",
       "      <td>3156</td>\n",
       "      <td>tm191110</td>\n",
       "      <td>James Cameron</td>\n",
       "      <td>NaN</td>\n",
       "      <td>DIRECTOR</td>\n",
       "    </tr>\n",
       "    <tr>\n",
       "      <th>2309</th>\n",
       "      <td>8673</td>\n",
       "      <td>tm27395</td>\n",
       "      <td>John Woo</td>\n",
       "      <td>NaN</td>\n",
       "      <td>DIRECTOR</td>\n",
       "    </tr>\n",
       "    <tr>\n",
       "      <th>2486</th>\n",
       "      <td>977</td>\n",
       "      <td>tm116655</td>\n",
       "      <td>Luc Besson</td>\n",
       "      <td>NaN</td>\n",
       "      <td>DIRECTOR</td>\n",
       "    </tr>\n",
       "    <tr>\n",
       "      <th>36219</th>\n",
       "      <td>8673</td>\n",
       "      <td>tm311319</td>\n",
       "      <td>John Woo</td>\n",
       "      <td>NaN</td>\n",
       "      <td>DIRECTOR</td>\n",
       "    </tr>\n",
       "  </tbody>\n",
       "</table>\n",
       "</div>"
      ],
      "text/plain": [
       "       person_id        id           name character      role\n",
       "2205        3156  tm191110  James Cameron       NaN  DIRECTOR\n",
       "2309        8673   tm27395       John Woo       NaN  DIRECTOR\n",
       "2486         977  tm116655     Luc Besson       NaN  DIRECTOR\n",
       "36219       8673  tm311319       John Woo       NaN  DIRECTOR"
      ]
     },
     "execution_count": 117,
     "metadata": {},
     "output_type": "execute_result"
    }
   ],
   "source": [
    "#Find these 3 directors: James Cameron ; Luc Besson ; John Woo\n",
    "directors = credits[credits['role'] == 'DIRECTOR']\n",
    "three_directors = ['James Cameron','Luc Besson','John Woo']\n",
    "filtered_directors = directors[directors['name'].isin(three_directors)]\n",
    "filtered_directors"
   ]
  },
  {
   "cell_type": "code",
   "execution_count": 118,
   "id": "fe2fa12d-75a8-4f22-bfd1-6bd7507727a7",
   "metadata": {},
   "outputs": [
    {
     "data": {
      "text/html": [
       "<div>\n",
       "<style scoped>\n",
       "    .dataframe tbody tr th:only-of-type {\n",
       "        vertical-align: middle;\n",
       "    }\n",
       "\n",
       "    .dataframe tbody tr th {\n",
       "        vertical-align: top;\n",
       "    }\n",
       "\n",
       "    .dataframe thead th {\n",
       "        text-align: right;\n",
       "    }\n",
       "</style>\n",
       "<table border=\"1\" class=\"dataframe\">\n",
       "  <thead>\n",
       "    <tr style=\"text-align: right;\">\n",
       "      <th></th>\n",
       "      <th>person_id</th>\n",
       "      <th>id</th>\n",
       "      <th>name</th>\n",
       "      <th>character</th>\n",
       "      <th>role</th>\n",
       "    </tr>\n",
       "  </thead>\n",
       "  <tbody>\n",
       "    <tr>\n",
       "      <th>4765</th>\n",
       "      <td>2779</td>\n",
       "      <td>tm111828</td>\n",
       "      <td>Steven Spielberg</td>\n",
       "      <td>NaN</td>\n",
       "      <td>DIRECTOR</td>\n",
       "    </tr>\n",
       "    <tr>\n",
       "      <th>5192</th>\n",
       "      <td>2779</td>\n",
       "      <td>tm172683</td>\n",
       "      <td>Steven Spielberg</td>\n",
       "      <td>NaN</td>\n",
       "      <td>DIRECTOR</td>\n",
       "    </tr>\n",
       "    <tr>\n",
       "      <th>5353</th>\n",
       "      <td>2779</td>\n",
       "      <td>tm89677</td>\n",
       "      <td>Steven Spielberg</td>\n",
       "      <td>NaN</td>\n",
       "      <td>DIRECTOR</td>\n",
       "    </tr>\n",
       "    <tr>\n",
       "      <th>10095</th>\n",
       "      <td>375280</td>\n",
       "      <td>tm25842</td>\n",
       "      <td>Steven Bognar</td>\n",
       "      <td>NaN</td>\n",
       "      <td>DIRECTOR</td>\n",
       "    </tr>\n",
       "    <tr>\n",
       "      <th>11215</th>\n",
       "      <td>375280</td>\n",
       "      <td>ts19384</td>\n",
       "      <td>Steven Bognar</td>\n",
       "      <td>NaN</td>\n",
       "      <td>DIRECTOR</td>\n",
       "    </tr>\n",
       "    <tr>\n",
       "      <th>13466</th>\n",
       "      <td>6315</td>\n",
       "      <td>tm158304</td>\n",
       "      <td>Steven Soderbergh</td>\n",
       "      <td>NaN</td>\n",
       "      <td>DIRECTOR</td>\n",
       "    </tr>\n",
       "    <tr>\n",
       "      <th>17200</th>\n",
       "      <td>5397</td>\n",
       "      <td>tm165521</td>\n",
       "      <td>Steven Knight</td>\n",
       "      <td>NaN</td>\n",
       "      <td>DIRECTOR</td>\n",
       "    </tr>\n",
       "    <tr>\n",
       "      <th>17820</th>\n",
       "      <td>24221</td>\n",
       "      <td>tm136601</td>\n",
       "      <td>Steven Brill</td>\n",
       "      <td>NaN</td>\n",
       "      <td>DIRECTOR</td>\n",
       "    </tr>\n",
       "    <tr>\n",
       "      <th>23074</th>\n",
       "      <td>24221</td>\n",
       "      <td>tm239707</td>\n",
       "      <td>Steven Brill</td>\n",
       "      <td>NaN</td>\n",
       "      <td>DIRECTOR</td>\n",
       "    </tr>\n",
       "    <tr>\n",
       "      <th>23774</th>\n",
       "      <td>17162</td>\n",
       "      <td>tm244381</td>\n",
       "      <td>Steven C. Miller</td>\n",
       "      <td>NaN</td>\n",
       "      <td>DIRECTOR</td>\n",
       "    </tr>\n",
       "    <tr>\n",
       "      <th>33712</th>\n",
       "      <td>24221</td>\n",
       "      <td>tm437608</td>\n",
       "      <td>Steven Brill</td>\n",
       "      <td>NaN</td>\n",
       "      <td>DIRECTOR</td>\n",
       "    </tr>\n",
       "    <tr>\n",
       "      <th>34399</th>\n",
       "      <td>24221</td>\n",
       "      <td>tm266685</td>\n",
       "      <td>Steven Brill</td>\n",
       "      <td>NaN</td>\n",
       "      <td>DIRECTOR</td>\n",
       "    </tr>\n",
       "    <tr>\n",
       "      <th>41813</th>\n",
       "      <td>2219991</td>\n",
       "      <td>tm461349</td>\n",
       "      <td>Steven Rinella</td>\n",
       "      <td>NaN</td>\n",
       "      <td>DIRECTOR</td>\n",
       "    </tr>\n",
       "    <tr>\n",
       "      <th>47909</th>\n",
       "      <td>6315</td>\n",
       "      <td>tm428557</td>\n",
       "      <td>Steven Soderbergh</td>\n",
       "      <td>NaN</td>\n",
       "      <td>DIRECTOR</td>\n",
       "    </tr>\n",
       "    <tr>\n",
       "      <th>48726</th>\n",
       "      <td>6315</td>\n",
       "      <td>tm428558</td>\n",
       "      <td>Steven Soderbergh</td>\n",
       "      <td>NaN</td>\n",
       "      <td>DIRECTOR</td>\n",
       "    </tr>\n",
       "    <tr>\n",
       "      <th>49269</th>\n",
       "      <td>375280</td>\n",
       "      <td>tm446176</td>\n",
       "      <td>Steven Bognar</td>\n",
       "      <td>NaN</td>\n",
       "      <td>DIRECTOR</td>\n",
       "    </tr>\n",
       "    <tr>\n",
       "      <th>51417</th>\n",
       "      <td>375280</td>\n",
       "      <td>tm877456</td>\n",
       "      <td>Steven Bognar</td>\n",
       "      <td>NaN</td>\n",
       "      <td>DIRECTOR</td>\n",
       "    </tr>\n",
       "    <tr>\n",
       "      <th>51586</th>\n",
       "      <td>24221</td>\n",
       "      <td>tm847998</td>\n",
       "      <td>Steven Brill</td>\n",
       "      <td>NaN</td>\n",
       "      <td>DIRECTOR</td>\n",
       "    </tr>\n",
       "    <tr>\n",
       "      <th>74677</th>\n",
       "      <td>305471</td>\n",
       "      <td>tm1037704</td>\n",
       "      <td>Steven K. Tsuchida</td>\n",
       "      <td>NaN</td>\n",
       "      <td>DIRECTOR</td>\n",
       "    </tr>\n",
       "  </tbody>\n",
       "</table>\n",
       "</div>"
      ],
      "text/plain": [
       "       person_id         id                name character      role\n",
       "4765        2779   tm111828    Steven Spielberg       NaN  DIRECTOR\n",
       "5192        2779   tm172683    Steven Spielberg       NaN  DIRECTOR\n",
       "5353        2779    tm89677    Steven Spielberg       NaN  DIRECTOR\n",
       "10095     375280    tm25842       Steven Bognar       NaN  DIRECTOR\n",
       "11215     375280    ts19384       Steven Bognar       NaN  DIRECTOR\n",
       "13466       6315   tm158304   Steven Soderbergh       NaN  DIRECTOR\n",
       "17200       5397   tm165521       Steven Knight       NaN  DIRECTOR\n",
       "17820      24221   tm136601        Steven Brill       NaN  DIRECTOR\n",
       "23074      24221   tm239707        Steven Brill       NaN  DIRECTOR\n",
       "23774      17162   tm244381    Steven C. Miller       NaN  DIRECTOR\n",
       "33712      24221   tm437608        Steven Brill       NaN  DIRECTOR\n",
       "34399      24221   tm266685        Steven Brill       NaN  DIRECTOR\n",
       "41813    2219991   tm461349      Steven Rinella       NaN  DIRECTOR\n",
       "47909       6315   tm428557   Steven Soderbergh       NaN  DIRECTOR\n",
       "48726       6315   tm428558   Steven Soderbergh       NaN  DIRECTOR\n",
       "49269     375280   tm446176       Steven Bognar       NaN  DIRECTOR\n",
       "51417     375280   tm877456       Steven Bognar       NaN  DIRECTOR\n",
       "51586      24221   tm847998        Steven Brill       NaN  DIRECTOR\n",
       "74677     305471  tm1037704  Steven K. Tsuchida       NaN  DIRECTOR"
      ]
     },
     "execution_count": 118,
     "metadata": {},
     "output_type": "execute_result"
    }
   ],
   "source": [
    "#Find all directors with name starting with Steven.\n",
    "directors = credits[credits['role'] == 'DIRECTOR']\n",
    "names_start_with_Steven = directors[directors['name'].str.startswith('Steven')]\n",
    "names_start_with_Steven"
   ]
  },
  {
   "cell_type": "code",
   "execution_count": 120,
   "id": "95d711a1-1529-46c5-9bba-31c7f23d9cb9",
   "metadata": {},
   "outputs": [
    {
     "data": {
      "text/plain": [
       "4707           Incantation\n",
       "4702         The Sea Beast\n",
       "4714    Valley of the Dead\n",
       "Name: title, dtype: object"
      ]
     },
     "execution_count": 120,
     "metadata": {},
     "output_type": "execute_result"
    }
   ],
   "source": [
    "#What are the 3 most popular movies according to tmdb?\n",
    "top_3_popular_movies = movies.sort_values(by='tmdb_popularity', ascending=False).head(3)\n",
    "top_3_popular_movies['title']"
   ]
  },
  {
   "cell_type": "code",
   "execution_count": 121,
   "id": "e8e6a5c9-0c16-4632-9d69-a88b9230de32",
   "metadata": {},
   "outputs": [
    {
     "data": {
      "text/html": [
       "<div>\n",
       "<style scoped>\n",
       "    .dataframe tbody tr th:only-of-type {\n",
       "        vertical-align: middle;\n",
       "    }\n",
       "\n",
       "    .dataframe tbody tr th {\n",
       "        vertical-align: top;\n",
       "    }\n",
       "\n",
       "    .dataframe thead th {\n",
       "        text-align: right;\n",
       "    }\n",
       "</style>\n",
       "<table border=\"1\" class=\"dataframe\">\n",
       "  <thead>\n",
       "    <tr style=\"text-align: right;\">\n",
       "      <th></th>\n",
       "      <th>title</th>\n",
       "    </tr>\n",
       "  </thead>\n",
       "  <tbody>\n",
       "  </tbody>\n",
       "</table>\n",
       "</div>"
      ],
      "text/plain": [
       "Empty DataFrame\n",
       "Columns: [title]\n",
       "Index: []"
      ]
     },
     "execution_count": 121,
     "metadata": {},
     "output_type": "execute_result"
    }
   ],
   "source": [
    "#Which movie(s) were directed by Brenda Chapman?\n",
    "directors = credits[(credits['role'] == 'DIRECTOR') & (credits['name'] == 'Brenda Chapman')]\n",
    "merged_data = movies.merge(directors, on='id', how='inner')['title'].to_frame()\n",
    "merged_data"
   ]
  },
  {
   "cell_type": "code",
   "execution_count": 123,
   "id": "ef33fdd7-9ce4-4830-9ce7-9cfa48f3c61f",
   "metadata": {},
   "outputs": [
    {
     "data": {
      "text/plain": [
       "name\n",
       "Raúl Campos    20\n",
       "dtype: int64"
      ]
     },
     "execution_count": 123,
     "metadata": {},
     "output_type": "execute_result"
    }
   ],
   "source": [
    "#Whose director made the most movies?\n",
    "most_movies = credits[credits['role'] == 'DIRECTOR'].groupby('name').size().sort_values(ascending=False).head(1)\n",
    "most_movies"
   ]
  },
  {
   "cell_type": "code",
   "execution_count": 124,
   "id": "412afac8-6379-4f67-91a2-9381bad3bab6",
   "metadata": {},
   "outputs": [
    {
     "data": {
      "text/plain": [
       "4771                                       Major\n",
       "3271    David Attenborough: A Life on Our Planet\n",
       "2547                           C/o Kancharapalem\n",
       "97                                  Forrest Gump\n",
       "237                                    Inception\n",
       "4818                          Bo Burnham: Inside\n",
       "435                                   Anbe Sivam\n",
       "36                                    GoodFellas\n",
       "792         Chhota Bheem & Krishna in Mayanagari\n",
       "438                          A Lion in the House\n",
       "Name: title, dtype: object"
      ]
     },
     "execution_count": 124,
     "metadata": {},
     "output_type": "execute_result"
    }
   ],
   "source": [
    "#What were the top 10 movies according to IMDB score?\n",
    "top_10_high_score_movies = movies.sort_values(by='imdb_score', ascending=False).head(10)\n",
    "top_10_high_score_movies['title']"
   ]
  },
  {
   "cell_type": "code",
   "execution_count": 125,
   "id": "85e298e0-4e20-4e44-9f0e-7f1de2c8a437",
   "metadata": {},
   "outputs": [
    {
     "data": {
      "text/plain": [
       "216                                   Breaking Bad\n",
       "3147                                    Our Planet\n",
       "233                     Avatar: The Last Airbender\n",
       "1258                                    Reply 1988\n",
       "3068                                The Last Dance\n",
       "1886                                     My Mister\n",
       "3500                                  Kota Factory\n",
       "835                                Attack on Titan\n",
       "1158    Leah Remini: Scientology and the Aftermath\n",
       "165                                         Okupas\n",
       "Name: title, dtype: object"
      ]
     },
     "execution_count": 125,
     "metadata": {},
     "output_type": "execute_result"
    }
   ],
   "source": [
    "#What were the top 10 shows according to IMDB score?\n",
    "top_10_high_score_shows = shows.sort_values(by='imdb_score', ascending=False).head(10)\n",
    "top_10_high_score_shows['title']"
   ]
  },
  {
   "cell_type": "code",
   "execution_count": 131,
   "id": "059653f7-4e29-45b0-9e42-08c2b0a9188d",
   "metadata": {},
   "outputs": [
    {
     "data": {
      "text/plain": [
       "5646                                     Trese After Dark\n",
       "5652                          What Would Sophia Loren Do?\n",
       "5681                                        Maha Samudram\n",
       "5697                                                Aelay\n",
       "5719      The Last Kids on Earth: Happy Apocalypse to You\n",
       "5728                                            The Crime\n",
       "5729                                        Love or Money\n",
       "5765                                              Mughizh\n",
       "5772    Sam Smith: Love Goes – Live at Abbey Road Studios\n",
       "5790                               My Heroes Were Cowboys\n",
       "Name: title, dtype: object"
      ]
     },
     "execution_count": 131,
     "metadata": {},
     "output_type": "execute_result"
    }
   ],
   "source": [
    "#What were the bottom 10 movies according to IMDB score?\n",
    "bottom_10_movies = movies.sort_values(by='imdb_score', ascending=False).tail(10)\n",
    "bottom_10_movies['title']"
   ]
  },
  {
   "cell_type": "code",
   "execution_count": 132,
   "id": "c60700e0-02ab-44b8-bdd9-b961ba76078c",
   "metadata": {},
   "outputs": [
    {
     "data": {
      "text/plain": [
       "5433                                        Word of Honor\n",
       "5475             Transformers: War for Cybertron: Kingdom\n",
       "5488    Revelations: The Masters of the Universe: Reve...\n",
       "5497                                        The Houseboat\n",
       "5499                                    Reflection of You\n",
       "5540                                      So Not Worth It\n",
       "5549                                        The Fame Game\n",
       "5573                                           Till Death\n",
       "5657                                     Street Food: USA\n",
       "5833                                           HQ Barbers\n",
       "Name: title, dtype: object"
      ]
     },
     "execution_count": 132,
     "metadata": {},
     "output_type": "execute_result"
    }
   ],
   "source": [
    "#What were the bottom 10 shows according to IMDB score?\n",
    "bottom_10_shows = shows.sort_values(by='imdb_score', ascending=False).tail(10)\n",
    "bottom_10_shows['title']"
   ]
  },
  {
   "cell_type": "code",
   "execution_count": 135,
   "id": "fe120455-86df-4a88-98fe-48e76884f005",
   "metadata": {},
   "outputs": [
    {
     "data": {
      "text/html": [
       "<div>\n",
       "<style scoped>\n",
       "    .dataframe tbody tr th:only-of-type {\n",
       "        vertical-align: middle;\n",
       "    }\n",
       "\n",
       "    .dataframe tbody tr th {\n",
       "        vertical-align: top;\n",
       "    }\n",
       "\n",
       "    .dataframe thead th {\n",
       "        text-align: right;\n",
       "    }\n",
       "</style>\n",
       "<table border=\"1\" class=\"dataframe\">\n",
       "  <thead>\n",
       "    <tr style=\"text-align: right;\">\n",
       "      <th></th>\n",
       "      <th>imdb_score</th>\n",
       "      <th>tmdb_score</th>\n",
       "    </tr>\n",
       "    <tr>\n",
       "      <th>type</th>\n",
       "      <th></th>\n",
       "      <th></th>\n",
       "    </tr>\n",
       "  </thead>\n",
       "  <tbody>\n",
       "    <tr>\n",
       "      <th>MOVIE</th>\n",
       "      <td>6.251616</td>\n",
       "      <td>6.461039</td>\n",
       "    </tr>\n",
       "    <tr>\n",
       "      <th>SHOW</th>\n",
       "      <td>6.987926</td>\n",
       "      <td>7.486417</td>\n",
       "    </tr>\n",
       "  </tbody>\n",
       "</table>\n",
       "</div>"
      ],
      "text/plain": [
       "       imdb_score  tmdb_score\n",
       "type                         \n",
       "MOVIE    6.251616    6.461039\n",
       "SHOW     6.987926    7.486417"
      ]
     },
     "execution_count": 135,
     "metadata": {},
     "output_type": "execute_result"
    }
   ],
   "source": [
    "#What were the average IMDB and TMDB scores for shows and movies?\n",
    "average_scores = titles.groupby('type').agg({'imdb_score': 'mean', 'tmdb_score': 'mean'})\n",
    "average_scores"
   ]
  },
  {
   "cell_type": "code",
   "execution_count": 144,
   "id": "f66b6c19-a81e-4cc7-a11d-a6bfbbf8765d",
   "metadata": {},
   "outputs": [
    {
     "data": {
      "text/plain": [
       "age_certification\n",
       "R        550\n",
       "PG-13    444\n",
       "PG       231\n",
       "G        110\n",
       "NC-17     16\n",
       "Name: count, dtype: int64"
      ]
     },
     "execution_count": 144,
     "metadata": {},
     "output_type": "execute_result"
    }
   ],
   "source": [
    "#What were the 5 most common age certifications for movies?\n",
    "five_common_age_cert = movies['age_certification'].value_counts().head(5)\n",
    "five_common_age_cert"
   ]
  },
  {
   "cell_type": "code",
   "execution_count": 145,
   "id": "e2d7b87f-b39a-4942-955c-e39a2680c1a5",
   "metadata": {},
   "outputs": [
    {
     "name": "stdout",
     "output_type": "stream",
     "text": [
      "Top 3 genres in movies:\n",
      "['drama'     653\n",
      "['comedy'    548\n",
      "'drama'      510\n",
      "Name: count, dtype: int64\n",
      "\n",
      "Top 3 genres in shows:\n",
      "['drama'    434\n",
      "'drama'     367\n",
      "'comedy'    261\n",
      "Name: count, dtype: int64\n"
     ]
    }
   ],
   "source": [
    "#What were the top 3 most common genres in movies and shows?\n",
    "top_3_genres_movies = movies['genres'].str.split(', ', expand=True).stack().value_counts().head(3)\n",
    "top_3_genres_shows = shows['genres'].str.split(', ', expand=True).stack().value_counts().head(3)\n",
    "\n",
    "print(\"Top 3 genres in movies:\")\n",
    "print(top_3_genres_movies)\n",
    "\n",
    "print(\"\\nTop 3 genres in shows:\")\n",
    "print(top_3_genres_shows)"
   ]
  },
  {
   "cell_type": "code",
   "execution_count": 147,
   "id": "8281fcaf-8ee1-42ed-b890-d0dab678343b",
   "metadata": {},
   "outputs": [
    {
     "name": "stdout",
     "output_type": "stream",
     "text": [
      "Top 10 shows with most seasons:\n",
      "                        title  seasons\n",
      "91                   Survivor     42.0\n",
      "48           Wheel of Fortune     39.0\n",
      "101             The Challenge     37.0\n",
      "217                  Top Gear     32.0\n",
      "114             Power Rangers     29.0\n",
      "95                    Pokémon     25.0\n",
      "261  America's Next Top Model     24.0\n",
      "45           Thomas & Friends     24.0\n",
      "100                 One Piece     21.0\n",
      "232                      NCIS     20.0\n"
     ]
    }
   ],
   "source": [
    "#What are top 10 shows with most seasons? \n",
    "top_10_shows_most_seasons = shows.sort_values(by='seasons', ascending=False).head(10)\n",
    "\n",
    "print(\"Top 10 shows with most seasons:\")\n",
    "print(top_10_shows_most_seasons[['title', 'seasons']])"
   ]
  },
  {
   "cell_type": "code",
   "execution_count": 148,
   "id": "01e44523-627e-4c10-87bc-4e9088a10b52",
   "metadata": {},
   "outputs": [
    {
     "name": "stdout",
     "output_type": "stream",
     "text": [
      "Average runtime of movies and TV shows:\n",
      "type\n",
      "MOVIE    99.643478\n",
      "SHOW     39.266337\n",
      "Name: runtime, dtype: float64\n"
     ]
    }
   ],
   "source": [
    "#Calculating the average runtime of movies and TV shows \n",
    "average_runtime = titles.groupby('type')['runtime'].mean()\n",
    "\n",
    "print(\"Average runtime of movies and TV shows:\")\n",
    "print(average_runtime)"
   ]
  },
  {
   "cell_type": "code",
   "execution_count": 149,
   "id": "1b72af6a-043c-4a51-a442-8911bcf4428c",
   "metadata": {},
   "outputs": [
    {
     "name": "stdout",
     "output_type": "stream",
     "text": [
      "The oldest movie is:\n",
      "              title  release_year\n",
      "13  White Christmas          1954\n"
     ]
    }
   ],
   "source": [
    "#what is the oldest movie ?\n",
    "oldest_movie = movies.nsmallest(1, 'release_year')\n",
    "\n",
    "print(\"The oldest movie is:\")\n",
    "print(oldest_movie[['title', 'release_year']])"
   ]
  },
  {
   "cell_type": "code",
   "execution_count": 153,
   "id": "e513b2fb-21ec-462a-a12b-5ccb84a67f90",
   "metadata": {},
   "outputs": [
    {
     "name": "stdout",
     "output_type": "stream",
     "text": [
      "The number of shows with only 1 season is: 1152\n"
     ]
    }
   ],
   "source": [
    "#How many shows have only 1 season ?\n",
    "shows_with_one_season = shows[shows['seasons'] == 1]\n",
    "\n",
    "number_of_shows_with_one_season = len(shows_with_one_season)\n",
    "\n",
    "print(f\"The number of shows with only 1 season is: {number_of_shows_with_one_season}\")"
   ]
  },
  {
   "cell_type": "code",
   "execution_count": 155,
   "id": "7c70edff-efd2-4b59-9999-caab924c64e2",
   "metadata": {},
   "outputs": [
    {
     "name": "stdout",
     "output_type": "stream",
     "text": [
      "The number of shows with more than 1 season is: 868\n"
     ]
    }
   ],
   "source": [
    "#How many show have more than 1 season ?\n",
    "shows_with_more_season = shows[shows['seasons'] > 1]\n",
    "\n",
    "number_of_shows_with_more_season = len(shows_with_more_season)\n",
    "\n",
    "print(f\"The number of shows with more than 1 season is: {number_of_shows_with_more_season}\")"
   ]
  },
  {
   "cell_type": "code",
   "execution_count": 156,
   "id": "cee07ae1-7715-4116-938a-e5a343ade702",
   "metadata": {},
   "outputs": [
    {
     "name": "stdout",
     "output_type": "stream",
     "text": [
      "The show with the highest IMDb score is:\n",
      "            title  imdb_score\n",
      "216  Breaking Bad         9.5\n"
     ]
    }
   ],
   "source": [
    "#what show has the higest imdb score ?\n",
    "highest_imdb_show = shows.nlargest(1, 'imdb_score')\n",
    "\n",
    "print(\"The show with the highest IMDb score is:\")\n",
    "print(highest_imdb_show[['title', 'imdb_score']])"
   ]
  },
  {
   "cell_type": "code",
   "execution_count": 157,
   "id": "e1e80b0c-a4a5-4fb8-ae69-e56c9e3c9c21",
   "metadata": {},
   "outputs": [
    {
     "name": "stdout",
     "output_type": "stream",
     "text": [
      "Top 5 shows based on IMDb scores:\n",
      "                           title  imdb_score\n",
      "216                 Breaking Bad         9.5\n",
      "233   Avatar: The Last Airbender         9.3\n",
      "3147                  Our Planet         9.3\n",
      "1258                  Reply 1988         9.2\n",
      "1886                   My Mister         9.1\n"
     ]
    }
   ],
   "source": [
    "#Based on the imdb_scores, what are the top 5 shows ?\n",
    "top_5_shows = shows.nlargest(5, 'imdb_score')\n",
    "\n",
    "print(\"Top 5 shows based on IMDb scores:\")\n",
    "print(top_5_shows[['title', 'imdb_score']])"
   ]
  },
  {
   "cell_type": "code",
   "execution_count": 159,
   "id": "d25142e4-fe3f-4bb4-8f88-5e4d7d264bdd",
   "metadata": {},
   "outputs": [
    {
     "name": "stdout",
     "output_type": "stream",
     "text": [
      "Worst 5 shows based on IMDb scores:\n",
      "                                  title  imdb_score\n",
      "5298  Thomas & Friends: All Engines Go!         2.0\n",
      "5695                     He's Expecting         2.0\n",
      "5320                         Hype House         2.1\n",
      "2838                  A House of Blocks         2.3\n",
      "3598                         Until Dawn         2.4\n"
     ]
    }
   ],
   "source": [
    "#Based on the imdb_scores, what are the worst 5 shows ?\n",
    "worst_5_shows = shows.nsmallest(5, 'imdb_score')\n",
    "\n",
    "print(\"Worst 5 shows based on IMDb scores:\")\n",
    "print(worst_5_shows[['title', 'imdb_score']])"
   ]
  },
  {
   "cell_type": "code",
   "execution_count": 161,
   "id": "7369461e-e802-46dd-9baf-935fd87605db",
   "metadata": {},
   "outputs": [
    {
     "name": "stdout",
     "output_type": "stream",
     "text": [
      "Top 5 longest movies based on duration:\n",
      "                                 title  runtime\n",
      "923                     Bonnie & Clyde      240\n",
      "438                A Lion in the House      225\n",
      "347  Lagaan: Once Upon a Time in India      224\n",
      "412                       Jodhaa Akbar      214\n",
      "406           Kabhi Khushi Kabhie Gham      210\n"
     ]
    }
   ],
   "source": [
    "#Top 5 Longest Movies Name and Duration.\n",
    "top_5_longest_movies = movies.nlargest(5, 'runtime')\n",
    "\n",
    "print(\"Top 5 longest movies based on duration:\")\n",
    "print(top_5_longest_movies[['title', 'runtime']])"
   ]
  },
  {
   "cell_type": "code",
   "execution_count": 163,
   "id": "7a1ec4ac-704f-4725-a5ba-bf82363c0495",
   "metadata": {},
   "outputs": [
    {
     "name": "stdout",
     "output_type": "stream",
     "text": [
      "Top 5 longest movies based on duration:\n",
      "                      title  runtime\n",
      "5766          Time to Dance        2\n",
      "1014                 Silent        3\n",
      "4406            Sol Levante        4\n",
      "4581  Amsterdam to Anatolia        6\n",
      "4271       Cops and Robbers        8\n"
     ]
    }
   ],
   "source": [
    "#Top 5 Shortest Movies Name and Duration\n",
    "top_5_Shortest_movies = movies.nsmallest(5, 'runtime')\n",
    "\n",
    "print(\"Top 5 longest movies based on duration:\")\n",
    "print(top_5_Shortest_movies[['title', 'runtime']])"
   ]
  },
  {
   "cell_type": "code",
   "execution_count": 164,
   "id": "116a4c16-e24c-4ebd-bf53-332097f287cd",
   "metadata": {},
   "outputs": [
    {
     "name": "stdout",
     "output_type": "stream",
     "text": [
      "Top 5 TV shows with the maximum number of seasons:\n",
      "                title  seasons\n",
      "91           Survivor     42.0\n",
      "48   Wheel of Fortune     39.0\n",
      "101     The Challenge     37.0\n",
      "217          Top Gear     32.0\n",
      "114     Power Rangers     29.0\n"
     ]
    }
   ],
   "source": [
    "#Top 5 TV Show having Maximum Season.\n",
    "\n",
    "top_5_max_season_shows = shows.nlargest(5, 'seasons')\n",
    "\n",
    "print(\"Top 5 TV shows with the maximum number of seasons:\")\n",
    "print(top_5_max_season_shows[['title', 'seasons']])"
   ]
  },
  {
   "cell_type": "code",
   "execution_count": 165,
   "id": "705cc93c-e29d-44e9-98b4-492268ddfaa6",
   "metadata": {},
   "outputs": [
    {
     "name": "stdout",
     "output_type": "stream",
     "text": [
      "Top 5 categories with the most TV shows released:\n",
      "['drama'     434\n",
      "'drama'      367\n",
      "'comedy'     261\n",
      "['comedy'    239\n",
      "'action'     226\n",
      "Name: count, dtype: int64\n"
     ]
    }
   ],
   "source": [
    "#Top 5 best category in which Most TV Show Released.\n",
    "\n",
    "top_5_categories_tv_shows = shows['genres'].str.split(', ', expand=True).stack().value_counts().head(5)\n",
    "\n",
    "print(\"Top 5 categories with the most TV shows released:\")\n",
    "print(top_5_categories_tv_shows)"
   ]
  },
  {
   "cell_type": "code",
   "execution_count": 166,
   "id": "369fd2a2-d3ce-44c8-8d35-f14a64fa7362",
   "metadata": {},
   "outputs": [
    {
     "name": "stdout",
     "output_type": "stream",
     "text": [
      "Top 5 categories with the most movies released:\n",
      "['drama'      653\n",
      "['comedy'     548\n",
      "'drama'       510\n",
      "'drama']      474\n",
      "['comedy']    356\n",
      "Name: count, dtype: int64\n"
     ]
    }
   ],
   "source": [
    "#Top 5 best category in which Most Movies Released.\n",
    "top_5_categories_movies = movies['genres'].str.split(', ', expand=True).stack().value_counts().head(5)\n",
    "\n",
    "print(\"Top 5 categories with the most movies released:\")\n",
    "print(top_5_categories_movies)"
   ]
  },
  {
   "cell_type": "code",
   "execution_count": 167,
   "id": "f3524f53-c80e-4c47-8df5-e0fdf018e840",
   "metadata": {},
   "outputs": [
    {
     "name": "stdout",
     "output_type": "stream",
     "text": [
      "Top 5 years with the highest number of TV shows released:\n",
      "release_year\n",
      "2020    296\n",
      "2019    296\n",
      "2021    294\n",
      "2018    280\n",
      "2017    175\n",
      "Name: count, dtype: int64\n"
     ]
    }
   ],
   "source": [
    "#Top 5 Highest number of TV Show Released By Year.\n",
    "top_5_years_tv_shows = shows['release_year'].value_counts().head(5)\n",
    "\n",
    "print(\"Top 5 years with the highest number of TV shows released:\")\n",
    "print(top_5_years_tv_shows)"
   ]
  },
  {
   "cell_type": "code",
   "execution_count": 168,
   "id": "ae80cca4-4bff-4cb6-9631-b5e093369d36",
   "metadata": {},
   "outputs": [
    {
     "name": "stdout",
     "output_type": "stream",
     "text": [
      "Top 5 years with the highest number of movies released:\n",
      "release_year\n",
      "2019    495\n",
      "2020    465\n",
      "2018    464\n",
      "2021    432\n",
      "2017    376\n",
      "Name: count, dtype: int64\n"
     ]
    }
   ],
   "source": [
    "#Top 5 Highest number of Movies Released By Year.\n",
    "top_5_years_movies = movies['release_year'].value_counts().head(5)\n",
    "\n",
    "print(\"Top 5 years with the highest number of movies released:\")\n",
    "print(top_5_years_movies)"
   ]
  },
  {
   "cell_type": "code",
   "execution_count": 170,
   "id": "3f5d9fd6-8da3-49c1-ab7b-067a6f6e867a",
   "metadata": {},
   "outputs": [
    {
     "name": "stdout",
     "output_type": "stream",
     "text": [
      "Top 5 directors who directed the most number of movies/TV shows:\n",
      "name\n",
      "Raúl Campos     20\n",
      "Jan Suter       19\n",
      "Ryan Polito     17\n",
      "Jay Karas       15\n",
      "Marcus Raboy    14\n",
      "Name: count, dtype: int64\n"
     ]
    }
   ],
   "source": [
    "#Top 5 Director who directed Most number of Movies/TV Show.\n",
    "top_5_directors = credits[credits['role'] == 'DIRECTOR']['name'].value_counts().head(5)\n",
    "\n",
    "print(\"Top 5 directors who directed the most number of movies/TV shows:\")\n",
    "print(top_5_directors)"
   ]
  },
  {
   "cell_type": "code",
   "execution_count": 171,
   "id": "b409104f-2868-4049-a2a8-b4214a87e6e5",
   "metadata": {},
   "outputs": [
    {
     "name": "stdout",
     "output_type": "stream",
     "text": [
      "Top 5 movie ratings that most movies have:\n",
      "imdb_score\n",
      "6.3    142\n",
      "6.5    139\n",
      "6.6    121\n",
      "6.2    120\n",
      "6.4    118\n",
      "Name: count, dtype: int64\n"
     ]
    }
   ],
   "source": [
    "#Top 5 Movie Rating which Most movies have.\n",
    "top_5_movie_ratings = movies['imdb_score'].value_counts().head(5)\n",
    "\n",
    "print(\"Top 5 movie ratings that most movies have:\")\n",
    "print(top_5_movie_ratings)"
   ]
  },
  {
   "cell_type": "code",
   "execution_count": null,
   "id": "5719dfa9-cb1d-4872-ae91-6f61cabfe084",
   "metadata": {},
   "outputs": [],
   "source": []
  }
 ],
 "metadata": {
  "kernelspec": {
   "display_name": "Python 3 (ipykernel)",
   "language": "python",
   "name": "python3"
  },
  "language_info": {
   "codemirror_mode": {
    "name": "ipython",
    "version": 3
   },
   "file_extension": ".py",
   "mimetype": "text/x-python",
   "name": "python",
   "nbconvert_exporter": "python",
   "pygments_lexer": "ipython3",
   "version": "3.9.18"
  }
 },
 "nbformat": 4,
 "nbformat_minor": 5
}
