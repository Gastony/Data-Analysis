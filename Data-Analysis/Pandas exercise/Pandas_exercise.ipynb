{
 "cells": [
  {
   "cell_type": "code",
   "execution_count": 1,
   "id": "2b68d7ad",
   "metadata": {},
   "outputs": [],
   "source": [
    "#Import pandas library\n",
    "import pandas as pd\n",
    "import datetime"
   ]
  },
  {
   "cell_type": "code",
   "execution_count": 2,
   "id": "eb1a397b",
   "metadata": {},
   "outputs": [
    {
     "name": "stderr",
     "output_type": "stream",
     "text": [
      "Backing off send_request(...) for 0.7s (requests.exceptions.ConnectionError: HTTPSConnectionPool(host='api.segment.io', port=443): Max retries exceeded with url: /v1/batch (Caused by NewConnectionError('<urllib3.connection.HTTPSConnection object at 0x0000024DEB4CC9D0>: Failed to establish a new connection: [Errno 11001] getaddrinfo failed')))\n",
      "Backing off send_request(...) for 14.7s (requests.exceptions.ConnectionError: HTTPSConnectionPool(host='api.segment.io', port=443): Max retries exceeded with url: /v1/batch (Caused by NewConnectionError('<urllib3.connection.HTTPSConnection object at 0x0000024DEB4CC100>: Failed to establish a new connection: [Errno 11001] getaddrinfo failed')))\n"
     ]
    }
   ],
   "source": [
    "#Reading the csv files\n",
    "title = pd.read_csv(\"title.csv\")\n",
    "bonus = pd.read_csv(\"bonus.csv\")\n",
    "worker = pd.read_csv(\"worker.csv\")"
   ]
  },
  {
   "cell_type": "code",
   "execution_count": 3,
   "id": "487aea37",
   "metadata": {},
   "outputs": [
    {
     "data": {
      "text/html": [
       "<div><div id=eee244db-d646-4ffa-ba66-108b2b7a4811 style=\"display:none; background-color:#9D6CFF; color:white; width:200px; height:30px; padding-left:5px; border-radius:4px; flex-direction:row; justify-content:space-around; align-items:center;\" onmouseover=\"this.style.backgroundColor='#BA9BF8'\" onmouseout=\"this.style.backgroundColor='#9D6CFF'\" onclick=\"window.commands?.execute('create-mitosheet-from-dataframe-output');\">See Full Dataframe in Mito</div> <script> if (window.commands.hasCommand('create-mitosheet-from-dataframe-output')) document.getElementById('eee244db-d646-4ffa-ba66-108b2b7a4811').style.display = 'flex' </script> <table border=\"1\" class=\"dataframe\">\n",
       "  <thead>\n",
       "    <tr style=\"text-align: right;\">\n",
       "      <th></th>\n",
       "      <th>worker_ref_id</th>\n",
       "      <th>worker_title</th>\n",
       "      <th>affected_from</th>\n",
       "    </tr>\n",
       "  </thead>\n",
       "  <tbody>\n",
       "    <tr>\n",
       "      <th>0</th>\n",
       "      <td>1</td>\n",
       "      <td>Manager</td>\n",
       "      <td>2016-02-20 00:00:00</td>\n",
       "    </tr>\n",
       "    <tr>\n",
       "      <th>1</th>\n",
       "      <td>2</td>\n",
       "      <td>Executive</td>\n",
       "      <td>2016-06-11 00:00:00</td>\n",
       "    </tr>\n",
       "    <tr>\n",
       "      <th>2</th>\n",
       "      <td>8</td>\n",
       "      <td>Executive</td>\n",
       "      <td>2016-06-11 00:00:00</td>\n",
       "    </tr>\n",
       "    <tr>\n",
       "      <th>3</th>\n",
       "      <td>5</td>\n",
       "      <td>Manager</td>\n",
       "      <td>2016-06-11 00:00:00</td>\n",
       "    </tr>\n",
       "    <tr>\n",
       "      <th>4</th>\n",
       "      <td>4</td>\n",
       "      <td>Asst. Manager</td>\n",
       "      <td>2016-06-11 00:00:00</td>\n",
       "    </tr>\n",
       "  </tbody>\n",
       "</table></div>"
      ],
      "text/plain": [
       "   worker_ref_id               worker_title        affected_from\n",
       "0              1  Manager                    2016-02-20 00:00:00\n",
       "1              2  Executive                  2016-06-11 00:00:00\n",
       "2              8  Executive                  2016-06-11 00:00:00\n",
       "3              5  Manager                    2016-06-11 00:00:00\n",
       "4              4  Asst. Manager              2016-06-11 00:00:00"
      ]
     },
     "execution_count": 3,
     "metadata": {},
     "output_type": "execute_result"
    }
   ],
   "source": [
    "#Viewing first five rows\n",
    "title.head()"
   ]
  },
  {
   "cell_type": "code",
   "execution_count": 4,
   "id": "4b141df1",
   "metadata": {},
   "outputs": [
    {
     "data": {
      "text/html": [
       "<div><div id=4d7350fd-df0e-4af3-93b4-4fb33b63dbaf style=\"display:none; background-color:#9D6CFF; color:white; width:200px; height:30px; padding-left:5px; border-radius:4px; flex-direction:row; justify-content:space-around; align-items:center;\" onmouseover=\"this.style.backgroundColor='#BA9BF8'\" onmouseout=\"this.style.backgroundColor='#9D6CFF'\" onclick=\"window.commands?.execute('create-mitosheet-from-dataframe-output');\">See Full Dataframe in Mito</div> <script> if (window.commands.hasCommand('create-mitosheet-from-dataframe-output')) document.getElementById('4d7350fd-df0e-4af3-93b4-4fb33b63dbaf').style.display = 'flex' </script> <table border=\"1\" class=\"dataframe\">\n",
       "  <thead>\n",
       "    <tr style=\"text-align: right;\">\n",
       "      <th></th>\n",
       "      <th>worker_ref_id</th>\n",
       "      <th>bonus_amount</th>\n",
       "      <th>bonus_date</th>\n",
       "    </tr>\n",
       "  </thead>\n",
       "  <tbody>\n",
       "    <tr>\n",
       "      <th>0</th>\n",
       "      <td>1</td>\n",
       "      <td>5000</td>\n",
       "      <td>2020-02-16 00:00:00</td>\n",
       "    </tr>\n",
       "    <tr>\n",
       "      <th>1</th>\n",
       "      <td>2</td>\n",
       "      <td>3000</td>\n",
       "      <td>2011-06-16 00:00:00</td>\n",
       "    </tr>\n",
       "    <tr>\n",
       "      <th>2</th>\n",
       "      <td>3</td>\n",
       "      <td>4000</td>\n",
       "      <td>2020-02-16 00:00:00</td>\n",
       "    </tr>\n",
       "    <tr>\n",
       "      <th>3</th>\n",
       "      <td>1</td>\n",
       "      <td>4500</td>\n",
       "      <td>2020-02-16 00:00:00</td>\n",
       "    </tr>\n",
       "    <tr>\n",
       "      <th>4</th>\n",
       "      <td>2</td>\n",
       "      <td>3500</td>\n",
       "      <td>2011-06-16 00:00:00</td>\n",
       "    </tr>\n",
       "  </tbody>\n",
       "</table></div>"
      ],
      "text/plain": [
       "   worker_ref_id  bonus_amount           bonus_date\n",
       "0              1          5000  2020-02-16 00:00:00\n",
       "1              2          3000  2011-06-16 00:00:00\n",
       "2              3          4000  2020-02-16 00:00:00\n",
       "3              1          4500  2020-02-16 00:00:00\n",
       "4              2          3500  2011-06-16 00:00:00"
      ]
     },
     "execution_count": 4,
     "metadata": {},
     "output_type": "execute_result"
    }
   ],
   "source": [
    "bonus.head()"
   ]
  },
  {
   "cell_type": "code",
   "execution_count": 5,
   "id": "d5c5bbf7",
   "metadata": {},
   "outputs": [
    {
     "data": {
      "text/html": [
       "<div><div id=71993f11-29d7-45a4-b9b5-d04de30c0852 style=\"display:none; background-color:#9D6CFF; color:white; width:200px; height:30px; padding-left:5px; border-radius:4px; flex-direction:row; justify-content:space-around; align-items:center;\" onmouseover=\"this.style.backgroundColor='#BA9BF8'\" onmouseout=\"this.style.backgroundColor='#9D6CFF'\" onclick=\"window.commands?.execute('create-mitosheet-from-dataframe-output');\">See Full Dataframe in Mito</div> <script> if (window.commands.hasCommand('create-mitosheet-from-dataframe-output')) document.getElementById('71993f11-29d7-45a4-b9b5-d04de30c0852').style.display = 'flex' </script> <table border=\"1\" class=\"dataframe\">\n",
       "  <thead>\n",
       "    <tr style=\"text-align: right;\">\n",
       "      <th></th>\n",
       "      <th>worker_id</th>\n",
       "      <th>first_name</th>\n",
       "      <th>last_name</th>\n",
       "      <th>salary</th>\n",
       "      <th>joining_date</th>\n",
       "      <th>department</th>\n",
       "    </tr>\n",
       "  </thead>\n",
       "  <tbody>\n",
       "    <tr>\n",
       "      <th>0</th>\n",
       "      <td>1</td>\n",
       "      <td>Monika</td>\n",
       "      <td>Arora</td>\n",
       "      <td>100000</td>\n",
       "      <td>2014-02-20 09:00:00</td>\n",
       "      <td>HR</td>\n",
       "    </tr>\n",
       "    <tr>\n",
       "      <th>1</th>\n",
       "      <td>2</td>\n",
       "      <td>Niharika</td>\n",
       "      <td>Verma</td>\n",
       "      <td>80000</td>\n",
       "      <td>2014-06-11 09:00:00</td>\n",
       "      <td>Admin</td>\n",
       "    </tr>\n",
       "    <tr>\n",
       "      <th>2</th>\n",
       "      <td>3</td>\n",
       "      <td>Vishal</td>\n",
       "      <td>Singhal</td>\n",
       "      <td>300000</td>\n",
       "      <td>2014-02-20 09:00:00</td>\n",
       "      <td>HR</td>\n",
       "    </tr>\n",
       "    <tr>\n",
       "      <th>3</th>\n",
       "      <td>4</td>\n",
       "      <td>Amitabh</td>\n",
       "      <td>Singh</td>\n",
       "      <td>500000</td>\n",
       "      <td>2014-02-20 09:00:00</td>\n",
       "      <td>Admin</td>\n",
       "    </tr>\n",
       "    <tr>\n",
       "      <th>4</th>\n",
       "      <td>5</td>\n",
       "      <td>Vivek</td>\n",
       "      <td>Bhati</td>\n",
       "      <td>500000</td>\n",
       "      <td>2014-06-11 09:00:00</td>\n",
       "      <td>Admin</td>\n",
       "    </tr>\n",
       "  </tbody>\n",
       "</table></div>"
      ],
      "text/plain": [
       "   worker_id                 first_name                  last_name  salary  \\\n",
       "0          1  Monika                     Arora                      100000   \n",
       "1          2  Niharika                   Verma                       80000   \n",
       "2          3  Vishal                     Singhal                    300000   \n",
       "3          4  Amitabh                    Singh                      500000   \n",
       "4          5  Vivek                      Bhati                      500000   \n",
       "\n",
       "          joining_date                 department  \n",
       "0  2014-02-20 09:00:00  HR                         \n",
       "1  2014-06-11 09:00:00  Admin                      \n",
       "2  2014-02-20 09:00:00  HR                         \n",
       "3  2014-02-20 09:00:00  Admin                      \n",
       "4  2014-06-11 09:00:00  Admin                      "
      ]
     },
     "execution_count": 5,
     "metadata": {},
     "output_type": "execute_result"
    }
   ],
   "source": [
    "worker.head()"
   ]
  },
  {
   "cell_type": "code",
   "execution_count": 6,
   "id": "d72d538f",
   "metadata": {},
   "outputs": [
    {
     "data": {
      "text/plain": [
       "worker_ref_id     int64\n",
       "worker_title     object\n",
       "affected_from    object\n",
       "dtype: object"
      ]
     },
     "execution_count": 6,
     "metadata": {},
     "output_type": "execute_result"
    }
   ],
   "source": [
    "#Checking data types\n",
    "title.dtypes"
   ]
  },
  {
   "cell_type": "code",
   "execution_count": 7,
   "id": "efb1a82f",
   "metadata": {},
   "outputs": [
    {
     "data": {
      "text/plain": [
       "worker_ref_id     int64\n",
       "bonus_amount      int64\n",
       "bonus_date       object\n",
       "dtype: object"
      ]
     },
     "execution_count": 7,
     "metadata": {},
     "output_type": "execute_result"
    }
   ],
   "source": [
    "bonus.dtypes"
   ]
  },
  {
   "cell_type": "code",
   "execution_count": 8,
   "id": "1dc50353",
   "metadata": {},
   "outputs": [
    {
     "data": {
      "text/plain": [
       "worker_id        int64\n",
       "first_name      object\n",
       "last_name       object\n",
       "salary           int64\n",
       "joining_date    object\n",
       "department      object\n",
       "dtype: object"
      ]
     },
     "execution_count": 8,
     "metadata": {},
     "output_type": "execute_result"
    }
   ],
   "source": [
    "worker.dtypes"
   ]
  },
  {
   "cell_type": "code",
   "execution_count": 9,
   "id": "9c1906a6",
   "metadata": {},
   "outputs": [],
   "source": [
    "#Converting to datetime object\n",
    "title['affected_from'] = pd.to_datetime(title['affected_from'])\n",
    "bonus['bonus_date'] = pd.to_datetime(bonus['bonus_date'])\n",
    "worker['joining_date'] = pd.to_datetime(worker['joining_date'])"
   ]
  },
  {
   "cell_type": "code",
   "execution_count": 10,
   "id": "e817f7fa",
   "metadata": {},
   "outputs": [
    {
     "data": {
      "text/plain": [
       "worker_id                int64\n",
       "first_name              object\n",
       "last_name               object\n",
       "salary                   int64\n",
       "joining_date    datetime64[ns]\n",
       "department              object\n",
       "dtype: object"
      ]
     },
     "execution_count": 10,
     "metadata": {},
     "output_type": "execute_result"
    }
   ],
   "source": [
    "#Confirming data type\n",
    "worker.dtypes"
   ]
  },
  {
   "cell_type": "code",
   "execution_count": 11,
   "id": "24229377",
   "metadata": {},
   "outputs": [
    {
     "name": "stderr",
     "output_type": "stream",
     "text": [
      "Backing off send_request(...) for 3.1s (requests.exceptions.ConnectionError: HTTPSConnectionPool(host='api.segment.io', port=443): Max retries exceeded with url: /v1/batch (Caused by NewConnectionError('<urllib3.connection.HTTPSConnection object at 0x0000024DEB4CC8E0>: Failed to establish a new connection: [Errno 11001] getaddrinfo failed')))\n"
     ]
    }
   ],
   "source": [
    "# Add new columns 'year', 'month', and 'day'\n",
    "title['year'] = title['affected_from'].dt.year\n",
    "title['month'] = title['affected_from'].dt.month\n",
    "title['day'] = title['affected_from'].dt.day"
   ]
  },
  {
   "cell_type": "code",
   "execution_count": 12,
   "id": "721554af",
   "metadata": {},
   "outputs": [],
   "source": [
    "# Add new columns 'year', 'month', and 'day'\n",
    "bonus['year'] = bonus['bonus_date'].dt.year\n",
    "bonus['month'] = bonus['bonus_date'].dt.month\n",
    "bonus['day'] = bonus['bonus_date'].dt.day"
   ]
  },
  {
   "cell_type": "code",
   "execution_count": 13,
   "id": "42f82c8f",
   "metadata": {},
   "outputs": [],
   "source": [
    "# Add new columns 'year', 'month', and 'day'\n",
    "worker['year'] = worker['joining_date'].dt.year\n",
    "worker['month'] = worker['joining_date'].dt.month\n",
    "worker['day'] = worker['joining_date'].dt.day"
   ]
  },
  {
   "cell_type": "code",
   "execution_count": 14,
   "id": "ad330a0c",
   "metadata": {},
   "outputs": [
    {
     "data": {
      "text/html": [
       "<div><div id=079841ba-38aa-434d-bf1a-bd5a18b0f999 style=\"display:none; background-color:#9D6CFF; color:white; width:200px; height:30px; padding-left:5px; border-radius:4px; flex-direction:row; justify-content:space-around; align-items:center;\" onmouseover=\"this.style.backgroundColor='#BA9BF8'\" onmouseout=\"this.style.backgroundColor='#9D6CFF'\" onclick=\"window.commands?.execute('create-mitosheet-from-dataframe-output');\">See Full Dataframe in Mito</div> <script> if (window.commands.hasCommand('create-mitosheet-from-dataframe-output')) document.getElementById('079841ba-38aa-434d-bf1a-bd5a18b0f999').style.display = 'flex' </script> <table border=\"1\" class=\"dataframe\">\n",
       "  <thead>\n",
       "    <tr style=\"text-align: right;\">\n",
       "      <th></th>\n",
       "      <th>worker_ref_id</th>\n",
       "      <th>worker_title</th>\n",
       "      <th>affected_from</th>\n",
       "      <th>year</th>\n",
       "      <th>month</th>\n",
       "      <th>day</th>\n",
       "    </tr>\n",
       "  </thead>\n",
       "  <tbody>\n",
       "    <tr>\n",
       "      <th>0</th>\n",
       "      <td>1</td>\n",
       "      <td>Manager</td>\n",
       "      <td>2016-02-20</td>\n",
       "      <td>2016</td>\n",
       "      <td>2</td>\n",
       "      <td>20</td>\n",
       "    </tr>\n",
       "    <tr>\n",
       "      <th>1</th>\n",
       "      <td>2</td>\n",
       "      <td>Executive</td>\n",
       "      <td>2016-06-11</td>\n",
       "      <td>2016</td>\n",
       "      <td>6</td>\n",
       "      <td>11</td>\n",
       "    </tr>\n",
       "    <tr>\n",
       "      <th>2</th>\n",
       "      <td>8</td>\n",
       "      <td>Executive</td>\n",
       "      <td>2016-06-11</td>\n",
       "      <td>2016</td>\n",
       "      <td>6</td>\n",
       "      <td>11</td>\n",
       "    </tr>\n",
       "    <tr>\n",
       "      <th>3</th>\n",
       "      <td>5</td>\n",
       "      <td>Manager</td>\n",
       "      <td>2016-06-11</td>\n",
       "      <td>2016</td>\n",
       "      <td>6</td>\n",
       "      <td>11</td>\n",
       "    </tr>\n",
       "    <tr>\n",
       "      <th>4</th>\n",
       "      <td>4</td>\n",
       "      <td>Asst. Manager</td>\n",
       "      <td>2016-06-11</td>\n",
       "      <td>2016</td>\n",
       "      <td>6</td>\n",
       "      <td>11</td>\n",
       "    </tr>\n",
       "  </tbody>\n",
       "</table></div>"
      ],
      "text/plain": [
       "   worker_ref_id               worker_title affected_from  year  month  day\n",
       "0              1  Manager                      2016-02-20  2016      2   20\n",
       "1              2  Executive                    2016-06-11  2016      6   11\n",
       "2              8  Executive                    2016-06-11  2016      6   11\n",
       "3              5  Manager                      2016-06-11  2016      6   11\n",
       "4              4  Asst. Manager                2016-06-11  2016      6   11"
      ]
     },
     "execution_count": 14,
     "metadata": {},
     "output_type": "execute_result"
    }
   ],
   "source": [
    "title.head()"
   ]
  },
  {
   "cell_type": "code",
   "execution_count": 15,
   "id": "d2e1d26d",
   "metadata": {},
   "outputs": [
    {
     "data": {
      "text/html": [
       "<div><div id=ce036e20-1e05-46f9-a283-6391d9aef9f7 style=\"display:none; background-color:#9D6CFF; color:white; width:200px; height:30px; padding-left:5px; border-radius:4px; flex-direction:row; justify-content:space-around; align-items:center;\" onmouseover=\"this.style.backgroundColor='#BA9BF8'\" onmouseout=\"this.style.backgroundColor='#9D6CFF'\" onclick=\"window.commands?.execute('create-mitosheet-from-dataframe-output');\">See Full Dataframe in Mito</div> <script> if (window.commands.hasCommand('create-mitosheet-from-dataframe-output')) document.getElementById('ce036e20-1e05-46f9-a283-6391d9aef9f7').style.display = 'flex' </script> <table border=\"1\" class=\"dataframe\">\n",
       "  <thead>\n",
       "    <tr style=\"text-align: right;\">\n",
       "      <th></th>\n",
       "      <th>worker_ref_id</th>\n",
       "      <th>bonus_amount</th>\n",
       "      <th>bonus_date</th>\n",
       "      <th>year</th>\n",
       "      <th>month</th>\n",
       "      <th>day</th>\n",
       "    </tr>\n",
       "  </thead>\n",
       "  <tbody>\n",
       "    <tr>\n",
       "      <th>0</th>\n",
       "      <td>1</td>\n",
       "      <td>5000</td>\n",
       "      <td>2020-02-16</td>\n",
       "      <td>2020</td>\n",
       "      <td>2</td>\n",
       "      <td>16</td>\n",
       "    </tr>\n",
       "    <tr>\n",
       "      <th>1</th>\n",
       "      <td>2</td>\n",
       "      <td>3000</td>\n",
       "      <td>2011-06-16</td>\n",
       "      <td>2011</td>\n",
       "      <td>6</td>\n",
       "      <td>16</td>\n",
       "    </tr>\n",
       "    <tr>\n",
       "      <th>2</th>\n",
       "      <td>3</td>\n",
       "      <td>4000</td>\n",
       "      <td>2020-02-16</td>\n",
       "      <td>2020</td>\n",
       "      <td>2</td>\n",
       "      <td>16</td>\n",
       "    </tr>\n",
       "    <tr>\n",
       "      <th>3</th>\n",
       "      <td>1</td>\n",
       "      <td>4500</td>\n",
       "      <td>2020-02-16</td>\n",
       "      <td>2020</td>\n",
       "      <td>2</td>\n",
       "      <td>16</td>\n",
       "    </tr>\n",
       "    <tr>\n",
       "      <th>4</th>\n",
       "      <td>2</td>\n",
       "      <td>3500</td>\n",
       "      <td>2011-06-16</td>\n",
       "      <td>2011</td>\n",
       "      <td>6</td>\n",
       "      <td>16</td>\n",
       "    </tr>\n",
       "  </tbody>\n",
       "</table></div>"
      ],
      "text/plain": [
       "   worker_ref_id  bonus_amount bonus_date  year  month  day\n",
       "0              1          5000 2020-02-16  2020      2   16\n",
       "1              2          3000 2011-06-16  2011      6   16\n",
       "2              3          4000 2020-02-16  2020      2   16\n",
       "3              1          4500 2020-02-16  2020      2   16\n",
       "4              2          3500 2011-06-16  2011      6   16"
      ]
     },
     "execution_count": 15,
     "metadata": {},
     "output_type": "execute_result"
    }
   ],
   "source": [
    "bonus.head()"
   ]
  },
  {
   "cell_type": "code",
   "execution_count": 16,
   "id": "d8c7ee07",
   "metadata": {},
   "outputs": [
    {
     "data": {
      "text/html": [
       "<div><div id=73505c6c-be23-4a09-af27-a020787777ca style=\"display:none; background-color:#9D6CFF; color:white; width:200px; height:30px; padding-left:5px; border-radius:4px; flex-direction:row; justify-content:space-around; align-items:center;\" onmouseover=\"this.style.backgroundColor='#BA9BF8'\" onmouseout=\"this.style.backgroundColor='#9D6CFF'\" onclick=\"window.commands?.execute('create-mitosheet-from-dataframe-output');\">See Full Dataframe in Mito</div> <script> if (window.commands.hasCommand('create-mitosheet-from-dataframe-output')) document.getElementById('73505c6c-be23-4a09-af27-a020787777ca').style.display = 'flex' </script> <table border=\"1\" class=\"dataframe\">\n",
       "  <thead>\n",
       "    <tr style=\"text-align: right;\">\n",
       "      <th></th>\n",
       "      <th>worker_id</th>\n",
       "      <th>first_name</th>\n",
       "      <th>last_name</th>\n",
       "      <th>salary</th>\n",
       "      <th>joining_date</th>\n",
       "      <th>department</th>\n",
       "      <th>year</th>\n",
       "      <th>month</th>\n",
       "      <th>day</th>\n",
       "    </tr>\n",
       "  </thead>\n",
       "  <tbody>\n",
       "    <tr>\n",
       "      <th>0</th>\n",
       "      <td>1</td>\n",
       "      <td>Monika</td>\n",
       "      <td>Arora</td>\n",
       "      <td>100000</td>\n",
       "      <td>2014-02-20 09:00:00</td>\n",
       "      <td>HR</td>\n",
       "      <td>2014</td>\n",
       "      <td>2</td>\n",
       "      <td>20</td>\n",
       "    </tr>\n",
       "    <tr>\n",
       "      <th>1</th>\n",
       "      <td>2</td>\n",
       "      <td>Niharika</td>\n",
       "      <td>Verma</td>\n",
       "      <td>80000</td>\n",
       "      <td>2014-06-11 09:00:00</td>\n",
       "      <td>Admin</td>\n",
       "      <td>2014</td>\n",
       "      <td>6</td>\n",
       "      <td>11</td>\n",
       "    </tr>\n",
       "    <tr>\n",
       "      <th>2</th>\n",
       "      <td>3</td>\n",
       "      <td>Vishal</td>\n",
       "      <td>Singhal</td>\n",
       "      <td>300000</td>\n",
       "      <td>2014-02-20 09:00:00</td>\n",
       "      <td>HR</td>\n",
       "      <td>2014</td>\n",
       "      <td>2</td>\n",
       "      <td>20</td>\n",
       "    </tr>\n",
       "    <tr>\n",
       "      <th>3</th>\n",
       "      <td>4</td>\n",
       "      <td>Amitabh</td>\n",
       "      <td>Singh</td>\n",
       "      <td>500000</td>\n",
       "      <td>2014-02-20 09:00:00</td>\n",
       "      <td>Admin</td>\n",
       "      <td>2014</td>\n",
       "      <td>2</td>\n",
       "      <td>20</td>\n",
       "    </tr>\n",
       "    <tr>\n",
       "      <th>4</th>\n",
       "      <td>5</td>\n",
       "      <td>Vivek</td>\n",
       "      <td>Bhati</td>\n",
       "      <td>500000</td>\n",
       "      <td>2014-06-11 09:00:00</td>\n",
       "      <td>Admin</td>\n",
       "      <td>2014</td>\n",
       "      <td>6</td>\n",
       "      <td>11</td>\n",
       "    </tr>\n",
       "  </tbody>\n",
       "</table></div>"
      ],
      "text/plain": [
       "   worker_id                 first_name                  last_name  salary  \\\n",
       "0          1  Monika                     Arora                      100000   \n",
       "1          2  Niharika                   Verma                       80000   \n",
       "2          3  Vishal                     Singhal                    300000   \n",
       "3          4  Amitabh                    Singh                      500000   \n",
       "4          5  Vivek                      Bhati                      500000   \n",
       "\n",
       "         joining_date                 department  year  month  day  \n",
       "0 2014-02-20 09:00:00  HR                         2014      2   20  \n",
       "1 2014-06-11 09:00:00  Admin                      2014      6   11  \n",
       "2 2014-02-20 09:00:00  HR                         2014      2   20  \n",
       "3 2014-02-20 09:00:00  Admin                      2014      2   20  \n",
       "4 2014-06-11 09:00:00  Admin                      2014      6   11  "
      ]
     },
     "execution_count": 16,
     "metadata": {},
     "output_type": "execute_result"
    }
   ],
   "source": [
    "worker.head()"
   ]
  },
  {
   "cell_type": "code",
   "execution_count": 17,
   "id": "0a0cc529",
   "metadata": {},
   "outputs": [
    {
     "name": "stdout",
     "output_type": "stream",
     "text": [
      "0    Monika                   \n",
      "1    Niharika                 \n",
      "2    Vishal                   \n",
      "3    Amitabh                  \n",
      "4    Vivek                    \n",
      "5    Vipul                    \n",
      "6    Satish                   \n",
      "7    Geetika                  \n",
      "Name: WORKER_NAME, dtype: object\n"
     ]
    }
   ],
   "source": [
    "#  Q-1. Write Pandas code to fetch \"FIRST_NAME\" from Worker table using the alias name as <WORKER_NAME>.\n",
    "result = worker['first_name'].rename('WORKER_NAME')\n",
    "# Displaying the result\n",
    "print(result)"
   ]
  },
  {
   "cell_type": "code",
   "execution_count": 18,
   "id": "73010d06",
   "metadata": {},
   "outputs": [
    {
     "data": {
      "text/plain": [
       "0    MONIKA                   \n",
       "1    NIHARIKA                 \n",
       "2    VISHAL                   \n",
       "3    AMITABH                  \n",
       "4    VIVEK                    \n",
       "5    VIPUL                    \n",
       "6    SATISH                   \n",
       "7    GEETIKA                  \n",
       "Name: first_name, dtype: object"
      ]
     },
     "execution_count": 18,
     "metadata": {},
     "output_type": "execute_result"
    }
   ],
   "source": [
    "#  Q-2. Write Pandas code to fetch \"FIRST_NAME\" from Worker table in upper case.\n",
    "worker.first_name.str.upper()"
   ]
  },
  {
   "cell_type": "code",
   "execution_count": 19,
   "id": "f5418f71",
   "metadata": {},
   "outputs": [
    {
     "data": {
      "text/html": [
       "<div><div id=ee1c53d9-a6c9-461c-a313-dc6cf215a6ed style=\"display:none; background-color:#9D6CFF; color:white; width:200px; height:30px; padding-left:5px; border-radius:4px; flex-direction:row; justify-content:space-around; align-items:center;\" onmouseover=\"this.style.backgroundColor='#BA9BF8'\" onmouseout=\"this.style.backgroundColor='#9D6CFF'\" onclick=\"window.commands?.execute('create-mitosheet-from-dataframe-output');\">See Full Dataframe in Mito</div> <script> if (window.commands.hasCommand('create-mitosheet-from-dataframe-output')) document.getElementById('ee1c53d9-a6c9-461c-a313-dc6cf215a6ed').style.display = 'flex' </script> <table border=\"1\" class=\"dataframe\">\n",
       "  <thead>\n",
       "    <tr style=\"text-align: right;\">\n",
       "      <th></th>\n",
       "      <th>0</th>\n",
       "    </tr>\n",
       "  </thead>\n",
       "  <tbody>\n",
       "    <tr>\n",
       "      <th>0</th>\n",
       "      <td>HR</td>\n",
       "    </tr>\n",
       "    <tr>\n",
       "      <th>1</th>\n",
       "      <td>Admin</td>\n",
       "    </tr>\n",
       "    <tr>\n",
       "      <th>2</th>\n",
       "      <td>Account</td>\n",
       "    </tr>\n",
       "  </tbody>\n",
       "</table></div>"
      ],
      "text/plain": [
       "                           0\n",
       "0  HR                       \n",
       "1  Admin                    \n",
       "2  Account                  "
      ]
     },
     "execution_count": 19,
     "metadata": {},
     "output_type": "execute_result"
    }
   ],
   "source": [
    "# Q-3. Write Pandas code to fetch unique values of DEPARTMENT from Worker table.\n",
    "#worker['department'].unique()\n",
    "pd.DataFrame(worker['department'].unique())\n",
    "#pd.unique(worker['department'])"
   ]
  },
  {
   "cell_type": "code",
   "execution_count": 20,
   "id": "b28adb2c",
   "metadata": {},
   "outputs": [
    {
     "name": "stdout",
     "output_type": "stream",
     "text": [
      "0    Mon\n",
      "1    Nih\n",
      "2    Vis\n",
      "3    Ami\n",
      "4    Viv\n",
      "5    Vip\n",
      "6    Sat\n",
      "7    Gee\n",
      "Name: first_name, dtype: object\n"
     ]
    }
   ],
   "source": [
    "# Q-4. Write Pandas code to print the first three characters of  FIRST_NAME from Worker table.\n",
    "first_three_chars = worker['first_name'].str[:3]\n",
    "print(first_three_chars)"
   ]
  },
  {
   "cell_type": "code",
   "execution_count": 21,
   "id": "a5ba5bfe",
   "metadata": {},
   "outputs": [
    {
     "name": "stdout",
     "output_type": "stream",
     "text": [
      "3    4\n",
      "Name: first_name, dtype: int64\n"
     ]
    }
   ],
   "source": [
    "# Q-5. Write Pandas code to find the position of the alphabet ('a') in the first name column 'Amitabh' from Worker table.\n",
    "\n",
    "filtered_rows = worker[worker['first_name'].str.strip() == 'Amitabh']\n",
    "\n",
    "# Finding the position of 'a' in the 'first_name' column for the filtered rows\n",
    "positions_of_a = filtered_rows['first_name'].str.find('a')\n",
    "\n",
    "print(positions_of_a)"
   ]
  },
  {
   "cell_type": "code",
   "execution_count": 22,
   "id": "d8a9ddfd",
   "metadata": {},
   "outputs": [
    {
     "name": "stdout",
     "output_type": "stream",
     "text": [
      "0      Monika\n",
      "1    Niharika\n",
      "2      Vishal\n",
      "3     Amitabh\n",
      "4       Vivek\n",
      "5       Vipul\n",
      "6      Satish\n",
      "7     Geetika\n",
      "Name: FIRST_NAME_stripped, dtype: object\n"
     ]
    }
   ],
   "source": [
    "#  Q-6. Write Pandas code to print the FIRST_NAME from Worker table after removing white spaces from the right side.\n",
    "\n",
    "worker['FIRST_NAME_stripped'] = worker['first_name'].str.rstrip()\n",
    "\n",
    "# Printing the result\n",
    "print(worker['FIRST_NAME_stripped'])"
   ]
  },
  {
   "cell_type": "code",
   "execution_count": 23,
   "id": "48fa26ae",
   "metadata": {},
   "outputs": [
    {
     "name": "stdout",
     "output_type": "stream",
     "text": [
      "0    Monika                   \n",
      "1    Niharika                 \n",
      "2    Vishal                   \n",
      "3    Amitabh                  \n",
      "4    Vivek                    \n",
      "5    Vipul                    \n",
      "6    Satish                   \n",
      "7    Geetika                  \n",
      "Name: FIRST_NAME_stripped, dtype: object\n"
     ]
    }
   ],
   "source": [
    "#  Q-7. Write Pandas code to print the DEPARTMENT from Worker table after removing white spaces from the left side.\n",
    "\n",
    "worker['FIRST_NAME_stripped'] = worker['first_name'].str.lstrip()\n",
    "\n",
    "# Printing the result\n",
    "print(worker['FIRST_NAME_stripped'])"
   ]
  },
  {
   "cell_type": "code",
   "execution_count": 24,
   "id": "41b5bf0a",
   "metadata": {},
   "outputs": [
    {
     "name": "stdout",
     "output_type": "stream",
     "text": [
      "Unique Departments DataFrame:\n",
      "           Unique_Department  Length\n",
      "0  HR                              2\n",
      "1  Admin                           4\n",
      "2  Account                         2\n"
     ]
    }
   ],
   "source": [
    "#  Q-8. Write Pandas code that fetches the unique values of DEPARTMENT  from Worker  table and prints its length.\n",
    "\n",
    "unique_departments = worker['department'].unique()\n",
    "lengths = [len(worker[worker['department'] == dep]) for dep in unique_departments]\n",
    "\n",
    "# Creating a DataFrame with two columns\n",
    "unique_departments_df = pd.DataFrame({'Unique_Department': unique_departments, 'Length': lengths})\n",
    "\n",
    "# Printing the DataFrame\n",
    "print(\"Unique Departments DataFrame:\")\n",
    "print(unique_departments_df)"
   ]
  },
  {
   "cell_type": "code",
   "execution_count": 25,
   "id": "34b875be",
   "metadata": {},
   "outputs": [
    {
     "data": {
      "text/plain": [
       "0    MonikA                   \n",
       "1    NihArikA                 \n",
       "2    VishAl                   \n",
       "3    AmitAbh                  \n",
       "4    Vivek                    \n",
       "5    Vipul                    \n",
       "6    SAtish                   \n",
       "7    GeetikA                  \n",
       "Name: FIRST_NAME_modified, dtype: object"
      ]
     },
     "execution_count": 25,
     "metadata": {},
     "output_type": "execute_result"
    }
   ],
   "source": [
    "# Q-9. Write Pandas code to print the FIRST_NAME from Worker  table after replacing 'a' with 'A'.\n",
    "\n",
    "worker['FIRST_NAME_modified'] = worker['first_name'].str.replace('a', 'A')\n",
    "worker['FIRST_NAME_modified']"
   ]
  },
  {
   "cell_type": "code",
   "execution_count": 26,
   "id": "d90d7e60",
   "metadata": {},
   "outputs": [
    {
     "data": {
      "text/plain": [
       "0       Monika Arora\n",
       "1     Niharika Verma\n",
       "2     Vishal Singhal\n",
       "3      Amitabh Singh\n",
       "4        Vivek Bhati\n",
       "5        Vipul Diwan\n",
       "6       Satish Kumar\n",
       "7    Geetika Chauhan\n",
       "Name: COMPLETE_NAME, dtype: object"
      ]
     },
     "execution_count": 26,
     "metadata": {},
     "output_type": "execute_result"
    }
   ],
   "source": [
    "#  Q-10. Write Pandas code to print the FIRST_NAME and LAST_NAME from Worker table into a single  column COMPLETE_NAME. \n",
    "#A space char should separate them.\n",
    "\n",
    "worker['COMPLETE_NAME'] = worker['first_name'].str.strip() + ' ' + worker['last_name'].str.strip()\n",
    "worker['COMPLETE_NAME']"
   ]
  },
  {
   "cell_type": "code",
   "execution_count": 27,
   "id": "28ade889",
   "metadata": {},
   "outputs": [
    {
     "name": "stdout",
     "output_type": "stream",
     "text": [
      "Worker details ordered by FIRST_NAME (Ascending):\n",
      "   worker_id                 first_name                  last_name  salary  \\\n",
      "3          4  Amitabh                    Singh                      500000   \n",
      "7          8  Geetika                    Chauhan                     90000   \n",
      "0          1  Monika                     Arora                      100000   \n",
      "1          2  Niharika                   Verma                       80000   \n",
      "6          7  Satish                     Kumar                       75000   \n",
      "5          6  Vipul                      Diwan                      200000   \n",
      "2          3  Vishal                     Singhal                    300000   \n",
      "4          5  Vivek                      Bhati                      500000   \n",
      "\n",
      "         joining_date                 department  year  month  day  \\\n",
      "3 2014-02-20 09:00:00  Admin                      2014      2   20   \n",
      "7 2014-04-11 09:00:00  Admin                      2014      4   11   \n",
      "0 2014-02-20 09:00:00  HR                         2014      2   20   \n",
      "1 2014-06-11 09:00:00  Admin                      2014      6   11   \n",
      "6 2014-01-20 09:00:00  Account                    2014      1   20   \n",
      "5 2014-06-11 09:00:00  Account                    2014      6   11   \n",
      "2 2014-02-20 09:00:00  HR                         2014      2   20   \n",
      "4 2014-06-11 09:00:00  Admin                      2014      6   11   \n",
      "\n",
      "         FIRST_NAME_stripped        FIRST_NAME_modified    COMPLETE_NAME  \n",
      "3  Amitabh                    AmitAbh                      Amitabh Singh  \n",
      "7  Geetika                    GeetikA                    Geetika Chauhan  \n",
      "0  Monika                     MonikA                        Monika Arora  \n",
      "1  Niharika                   NihArikA                    Niharika Verma  \n",
      "6  Satish                     SAtish                        Satish Kumar  \n",
      "5  Vipul                      Vipul                          Vipul Diwan  \n",
      "2  Vishal                     VishAl                      Vishal Singhal  \n",
      "4  Vivek                      Vivek                          Vivek Bhati  \n"
     ]
    }
   ],
   "source": [
    "# Q-11 Write an Pandas code to Print all Worker details from the Worker table ordered by FIRST_NAME Ascending.\n",
    "\n",
    "sorted_worker = worker.sort_values(by='first_name', ascending=True)\n",
    "\n",
    "# Printing the result\n",
    "print(\"Worker details ordered by FIRST_NAME (Ascending):\")\n",
    "print(sorted_worker)"
   ]
  },
  {
   "cell_type": "code",
   "execution_count": 28,
   "id": "6e8ecda0",
   "metadata": {},
   "outputs": [
    {
     "name": "stdout",
     "output_type": "stream",
     "text": [
      "Worker details ordered by FIRST_NAME (Ascending) and DEPARTMENT (Descending):\n",
      "   worker_id                 first_name                  last_name  salary  \\\n",
      "3          4  Amitabh                    Singh                      500000   \n",
      "7          8  Geetika                    Chauhan                     90000   \n",
      "0          1  Monika                     Arora                      100000   \n",
      "1          2  Niharika                   Verma                       80000   \n",
      "6          7  Satish                     Kumar                       75000   \n",
      "5          6  Vipul                      Diwan                      200000   \n",
      "2          3  Vishal                     Singhal                    300000   \n",
      "4          5  Vivek                      Bhati                      500000   \n",
      "\n",
      "         joining_date                 department  year  month  day  \\\n",
      "3 2014-02-20 09:00:00  Admin                      2014      2   20   \n",
      "7 2014-04-11 09:00:00  Admin                      2014      4   11   \n",
      "0 2014-02-20 09:00:00  HR                         2014      2   20   \n",
      "1 2014-06-11 09:00:00  Admin                      2014      6   11   \n",
      "6 2014-01-20 09:00:00  Account                    2014      1   20   \n",
      "5 2014-06-11 09:00:00  Account                    2014      6   11   \n",
      "2 2014-02-20 09:00:00  HR                         2014      2   20   \n",
      "4 2014-06-11 09:00:00  Admin                      2014      6   11   \n",
      "\n",
      "         FIRST_NAME_stripped        FIRST_NAME_modified    COMPLETE_NAME  \n",
      "3  Amitabh                    AmitAbh                      Amitabh Singh  \n",
      "7  Geetika                    GeetikA                    Geetika Chauhan  \n",
      "0  Monika                     MonikA                        Monika Arora  \n",
      "1  Niharika                   NihArikA                    Niharika Verma  \n",
      "6  Satish                     SAtish                        Satish Kumar  \n",
      "5  Vipul                      Vipul                          Vipul Diwan  \n",
      "2  Vishal                     VishAl                      Vishal Singhal  \n",
      "4  Vivek                      Vivek                          Vivek Bhati  \n"
     ]
    }
   ],
   "source": [
    "# Q-12 Write an Pandas code to Print all Worker details from the Worker table ordered by FIRST_NAME Ascending and \n",
    "#DEPARTMENT Descending.\n",
    "\n",
    "sorted_worker = worker.sort_values(by=['first_name', 'department'], ascending=[True, False])\n",
    "\n",
    "# Printing the result\n",
    "print(\"Worker details ordered by FIRST_NAME (Ascending) and DEPARTMENT (Descending):\")\n",
    "print(sorted_worker)"
   ]
  },
  {
   "cell_type": "code",
   "execution_count": 29,
   "id": "57429881",
   "metadata": {},
   "outputs": [
    {
     "name": "stdout",
     "output_type": "stream",
     "text": [
      "Details for Workers with the first names 'Vipul' and 'Satish':\n",
      "   worker_id                 first_name                  last_name  salary  \\\n",
      "5          6  Vipul                      Diwan                      200000   \n",
      "6          7  Satish                     Kumar                       75000   \n",
      "\n",
      "         joining_date                 department  year  month  day  \\\n",
      "5 2014-06-11 09:00:00  Account                    2014      6   11   \n",
      "6 2014-01-20 09:00:00  Account                    2014      1   20   \n",
      "\n",
      "         FIRST_NAME_stripped        FIRST_NAME_modified COMPLETE_NAME  \n",
      "5  Vipul                      Vipul                       Vipul Diwan  \n",
      "6  Satish                     SAtish                     Satish Kumar  \n"
     ]
    }
   ],
   "source": [
    " # Q-13 Write an Pandas code to Print details for Workers with the first names \"Vipul\" and \"Satish\" from the Worker table.\n",
    "\n",
    "selected_workers = worker[worker['first_name'].str.strip().isin(['Vipul', 'Satish'])]\n",
    "\n",
    "# Printing the result\n",
    "print(\"Details for Workers with the first names 'Vipul' and 'Satish':\")\n",
    "print(selected_workers)"
   ]
  },
  {
   "cell_type": "code",
   "execution_count": 30,
   "id": "b91db5e3",
   "metadata": {},
   "outputs": [
    {
     "name": "stdout",
     "output_type": "stream",
     "text": [
      "Details of workers excluding first names 'Vipul' and 'Satish':\n",
      "   worker_id                 first_name                  last_name  salary  \\\n",
      "0          1  Monika                     Arora                      100000   \n",
      "1          2  Niharika                   Verma                       80000   \n",
      "2          3  Vishal                     Singhal                    300000   \n",
      "3          4  Amitabh                    Singh                      500000   \n",
      "4          5  Vivek                      Bhati                      500000   \n",
      "7          8  Geetika                    Chauhan                     90000   \n",
      "\n",
      "         joining_date                 department  year  month  day  \\\n",
      "0 2014-02-20 09:00:00  HR                         2014      2   20   \n",
      "1 2014-06-11 09:00:00  Admin                      2014      6   11   \n",
      "2 2014-02-20 09:00:00  HR                         2014      2   20   \n",
      "3 2014-02-20 09:00:00  Admin                      2014      2   20   \n",
      "4 2014-06-11 09:00:00  Admin                      2014      6   11   \n",
      "7 2014-04-11 09:00:00  Admin                      2014      4   11   \n",
      "\n",
      "         FIRST_NAME_stripped        FIRST_NAME_modified    COMPLETE_NAME  \n",
      "0  Monika                     MonikA                        Monika Arora  \n",
      "1  Niharika                   NihArikA                    Niharika Verma  \n",
      "2  Vishal                     VishAl                      Vishal Singhal  \n",
      "3  Amitabh                    AmitAbh                      Amitabh Singh  \n",
      "4  Vivek                      Vivek                          Vivek Bhati  \n",
      "7  Geetika                    GeetikA                    Geetika Chauhan  \n"
     ]
    }
   ],
   "source": [
    "# Q-14 Write an Pandas code to Print details of workers excluding first names, \"Vipul\" and \"Satish\" from the Worker table.\n",
    "\n",
    "filtered_workers = worker[~worker['first_name'].str.strip().isin(['Vipul', 'Satish'])]\n",
    "\n",
    "# Printing the result\n",
    "print(\"Details of workers excluding first names 'Vipul' and 'Satish':\")\n",
    "print(filtered_workers)"
   ]
  },
  {
   "cell_type": "code",
   "execution_count": 31,
   "id": "deecab8e",
   "metadata": {},
   "outputs": [
    {
     "name": "stdout",
     "output_type": "stream",
     "text": [
      "Details of Workers with DEPARTMENT name starting with 'Admin':\n",
      "   worker_id                 first_name                  last_name  salary  \\\n",
      "1          2  Niharika                   Verma                       80000   \n",
      "3          4  Amitabh                    Singh                      500000   \n",
      "4          5  Vivek                      Bhati                      500000   \n",
      "7          8  Geetika                    Chauhan                     90000   \n",
      "\n",
      "         joining_date                 department  year  month  day  \\\n",
      "1 2014-06-11 09:00:00  Admin                      2014      6   11   \n",
      "3 2014-02-20 09:00:00  Admin                      2014      2   20   \n",
      "4 2014-06-11 09:00:00  Admin                      2014      6   11   \n",
      "7 2014-04-11 09:00:00  Admin                      2014      4   11   \n",
      "\n",
      "         FIRST_NAME_stripped        FIRST_NAME_modified    COMPLETE_NAME  \n",
      "1  Niharika                   NihArikA                    Niharika Verma  \n",
      "3  Amitabh                    AmitAbh                      Amitabh Singh  \n",
      "4  Vivek                      Vivek                          Vivek Bhati  \n",
      "7  Geetika                    GeetikA                    Geetika Chauhan  \n"
     ]
    }
   ],
   "source": [
    "# Q-15 Write an Pandas code to Print details of Workers with DEPARTMENT name starting with \"Admin\".\n",
    "\n",
    "admin_workers = worker[worker['department'].str.startswith('Admin')]\n",
    "\n",
    "# Printing the result\n",
    "print(\"Details of Workers with DEPARTMENT name starting with 'Admin':\")\n",
    "print(admin_workers)"
   ]
  },
  {
   "cell_type": "code",
   "execution_count": 32,
   "id": "4447da27",
   "metadata": {},
   "outputs": [
    {
     "name": "stdout",
     "output_type": "stream",
     "text": [
      "Details of Workers whose FIRST_NAME contains 'a':\n",
      "   worker_id                 first_name                  last_name  salary  \\\n",
      "0          1  Monika                     Arora                      100000   \n",
      "1          2  Niharika                   Verma                       80000   \n",
      "2          3  Vishal                     Singhal                    300000   \n",
      "3          4  Amitabh                    Singh                      500000   \n",
      "6          7  Satish                     Kumar                       75000   \n",
      "7          8  Geetika                    Chauhan                     90000   \n",
      "\n",
      "         joining_date                 department  year  month  day  \\\n",
      "0 2014-02-20 09:00:00  HR                         2014      2   20   \n",
      "1 2014-06-11 09:00:00  Admin                      2014      6   11   \n",
      "2 2014-02-20 09:00:00  HR                         2014      2   20   \n",
      "3 2014-02-20 09:00:00  Admin                      2014      2   20   \n",
      "6 2014-01-20 09:00:00  Account                    2014      1   20   \n",
      "7 2014-04-11 09:00:00  Admin                      2014      4   11   \n",
      "\n",
      "         FIRST_NAME_stripped        FIRST_NAME_modified    COMPLETE_NAME  \n",
      "0  Monika                     MonikA                        Monika Arora  \n",
      "1  Niharika                   NihArikA                    Niharika Verma  \n",
      "2  Vishal                     VishAl                      Vishal Singhal  \n",
      "3  Amitabh                    AmitAbh                      Amitabh Singh  \n",
      "6  Satish                     SAtish                        Satish Kumar  \n",
      "7  Geetika                    GeetikA                    Geetika Chauhan  \n"
     ]
    }
   ],
   "source": [
    "# Q-16 Write an Pandas code to Print details of the Workers whose FIRST_NAME contains 'a'.\n",
    "\n",
    "a_containing_workers = worker[worker['first_name'].str.contains('a', case=False)]\n",
    "\n",
    "# Printing the result\n",
    "print(\"Details of Workers whose FIRST_NAME contains 'a':\")\n",
    "print(a_containing_workers)"
   ]
  },
  {
   "cell_type": "code",
   "execution_count": 33,
   "id": "3c869a71",
   "metadata": {},
   "outputs": [
    {
     "name": "stdout",
     "output_type": "stream",
     "text": [
      "Details of Workers whose FIRST_NAME ends with 'a':\n",
      "   worker_id                 first_name                  last_name  salary  \\\n",
      "0          1  Monika                     Arora                      100000   \n",
      "1          2  Niharika                   Verma                       80000   \n",
      "7          8  Geetika                    Chauhan                     90000   \n",
      "\n",
      "         joining_date                 department  year  month  day  \\\n",
      "0 2014-02-20 09:00:00  HR                         2014      2   20   \n",
      "1 2014-06-11 09:00:00  Admin                      2014      6   11   \n",
      "7 2014-04-11 09:00:00  Admin                      2014      4   11   \n",
      "\n",
      "         FIRST_NAME_stripped        FIRST_NAME_modified    COMPLETE_NAME  \n",
      "0  Monika                     MonikA                        Monika Arora  \n",
      "1  Niharika                   NihArikA                    Niharika Verma  \n",
      "7  Geetika                    GeetikA                    Geetika Chauhan  \n"
     ]
    }
   ],
   "source": [
    "# Q-17 Write an Pandas code to Print details of the Workers whose FIRST_NAME ends with 'a'.\n",
    "\n",
    "a_ending_workers = worker[worker['first_name'].astype(str).str.strip().str.endswith('a')]\n",
    "\n",
    "# Printing the result\n",
    "print(\"Details of Workers whose FIRST_NAME ends with 'a':\")\n",
    "print(a_ending_workers)"
   ]
  },
  {
   "cell_type": "code",
   "execution_count": 34,
   "id": "f2e72a0e",
   "metadata": {},
   "outputs": [
    {
     "name": "stdout",
     "output_type": "stream",
     "text": [
      "Details of Workers whose FIRST_NAME ends with 'h' and has six alphabets:\n",
      "   worker_id                 first_name                  last_name  salary  \\\n",
      "6          7  Satish                     Kumar                       75000   \n",
      "\n",
      "         joining_date                 department  year  month  day  \\\n",
      "6 2014-01-20 09:00:00  Account                    2014      1   20   \n",
      "\n",
      "         FIRST_NAME_stripped        FIRST_NAME_modified COMPLETE_NAME  \n",
      "6  Satish                     SAtish                     Satish Kumar  \n"
     ]
    }
   ],
   "source": [
    "# Q-18 Write an Pandas code to Print details of the Workers whose FIRST_NAME ends with 'h' and contains six alphabets.\n",
    "\n",
    "filtered_workers = worker[worker['first_name'].astype(str).str.strip().str.endswith('h') & (worker['first_name'].astype(str).str.strip().str.len() == 6)]\n",
    "\n",
    "# Printing the result\n",
    "print(\"Details of Workers whose FIRST_NAME ends with 'h' and has six alphabets:\")\n",
    "print(filtered_workers)"
   ]
  },
  {
   "cell_type": "code",
   "execution_count": 35,
   "id": "1e17c249",
   "metadata": {},
   "outputs": [
    {
     "name": "stdout",
     "output_type": "stream",
     "text": [
      "Details of Workers whose SALARY is between 100,000 and 500,000:\n",
      "   worker_id                 first_name                  last_name  salary  \\\n",
      "0          1  Monika                     Arora                      100000   \n",
      "2          3  Vishal                     Singhal                    300000   \n",
      "3          4  Amitabh                    Singh                      500000   \n",
      "4          5  Vivek                      Bhati                      500000   \n",
      "5          6  Vipul                      Diwan                      200000   \n",
      "\n",
      "         joining_date                 department  year  month  day  \\\n",
      "0 2014-02-20 09:00:00  HR                         2014      2   20   \n",
      "2 2014-02-20 09:00:00  HR                         2014      2   20   \n",
      "3 2014-02-20 09:00:00  Admin                      2014      2   20   \n",
      "4 2014-06-11 09:00:00  Admin                      2014      6   11   \n",
      "5 2014-06-11 09:00:00  Account                    2014      6   11   \n",
      "\n",
      "         FIRST_NAME_stripped        FIRST_NAME_modified   COMPLETE_NAME  \n",
      "0  Monika                     MonikA                       Monika Arora  \n",
      "2  Vishal                     VishAl                     Vishal Singhal  \n",
      "3  Amitabh                    AmitAbh                     Amitabh Singh  \n",
      "4  Vivek                      Vivek                         Vivek Bhati  \n",
      "5  Vipul                      Vipul                         Vipul Diwan  \n"
     ]
    }
   ],
   "source": [
    "# Q-19 Write an Pandas code to Print details of the Workers whose SALARY lies between 100,000 and 500,000.\n",
    "\n",
    "filtered_workers = worker[(worker['salary'] >= 100000) & (worker['salary'] <= 500000)]\n",
    "\n",
    "# Printing the result\n",
    "print(\"Details of Workers whose SALARY is between 100,000 and 500,000:\")\n",
    "print(filtered_workers)"
   ]
  },
  {
   "cell_type": "code",
   "execution_count": 36,
   "id": "163c9b42",
   "metadata": {},
   "outputs": [
    {
     "name": "stdout",
     "output_type": "stream",
     "text": [
      "Details of Workers who joined in Feb 2014:\n",
      "   worker_id                 first_name                  last_name  salary  \\\n",
      "0          1  Monika                     Arora                      100000   \n",
      "2          3  Vishal                     Singhal                    300000   \n",
      "3          4  Amitabh                    Singh                      500000   \n",
      "\n",
      "         joining_date                 department  year  month  day  \\\n",
      "0 2014-02-20 09:00:00  HR                         2014      2   20   \n",
      "2 2014-02-20 09:00:00  HR                         2014      2   20   \n",
      "3 2014-02-20 09:00:00  Admin                      2014      2   20   \n",
      "\n",
      "         FIRST_NAME_stripped        FIRST_NAME_modified   COMPLETE_NAME  \n",
      "0  Monika                     MonikA                       Monika Arora  \n",
      "2  Vishal                     VishAl                     Vishal Singhal  \n",
      "3  Amitabh                    AmitAbh                     Amitabh Singh  \n"
     ]
    }
   ],
   "source": [
    "# Q-20 Write an Pandas code to Print details of the Workers who have joined in Feb 2014.\n",
    "\n",
    "feb_2014_workers = worker[(worker['joining_date'].dt.month == 2) & (worker['joining_date'].dt.year == 2014)]\n",
    "\n",
    "# Printing the result\n",
    "print(\"Details of Workers who joined in Feb 2014:\")\n",
    "print(feb_2014_workers)"
   ]
  },
  {
   "cell_type": "code",
   "execution_count": 37,
   "id": "27cc834a",
   "metadata": {},
   "outputs": [
    {
     "name": "stdout",
     "output_type": "stream",
     "text": [
      "Number of employees working in the 'Admin' department after stripping whitespaces: 4\n"
     ]
    },
    {
     "name": "stderr",
     "output_type": "stream",
     "text": [
      "Backing off send_request(...) for 4.8s (requests.exceptions.ConnectionError: HTTPSConnectionPool(host='api.segment.io', port=443): Max retries exceeded with url: /v1/batch (Caused by NewConnectionError('<urllib3.connection.HTTPSConnection object at 0x0000024DEB4CC970>: Failed to establish a new connection: [Errno 11001] getaddrinfo failed')))\n",
      "Backing off send_request(...) for 47.3s (requests.exceptions.ConnectionError: HTTPSConnectionPool(host='api.segment.io', port=443): Max retries exceeded with url: /v1/batch (Caused by NewConnectionError('<urllib3.connection.HTTPSConnection object at 0x0000024DEC584BB0>: Failed to establish a new connection: [Errno 11001] getaddrinfo failed')))\n",
      "Backing off send_request(...) for 233.0s (requests.exceptions.ConnectionError: HTTPSConnectionPool(host='api.segment.io', port=443): Max retries exceeded with url: /v1/batch (Caused by NewConnectionError('<urllib3.connection.HTTPSConnection object at 0x0000024DEC584490>: Failed to establish a new connection: [Errno 11001] getaddrinfo failed')))\n",
      "Backing off send_request(...) for 42.7s (requests.exceptions.ConnectionError: HTTPSConnectionPool(host='api.segment.io', port=443): Max retries exceeded with url: /v1/batch (Caused by NewConnectionError('<urllib3.connection.HTTPSConnection object at 0x0000024DEC584B80>: Failed to establish a new connection: [Errno 11001] getaddrinfo failed')))\n",
      "Giving up send_request(...) after 11 tries (requests.exceptions.ConnectionError: HTTPSConnectionPool(host='api.segment.io', port=443): Max retries exceeded with url: /v1/batch (Caused by NewConnectionError('<urllib3.connection.HTTPSConnection object at 0x0000024DEC584BB0>: Failed to establish a new connection: [Errno 11001] getaddrinfo failed')))\n",
      "error uploading: HTTPSConnectionPool(host='api.segment.io', port=443): Max retries exceeded with url: /v1/batch (Caused by NewConnectionError('<urllib3.connection.HTTPSConnection object at 0x0000024DEC584BB0>: Failed to establish a new connection: [Errno 11001] getaddrinfo failed'))\n"
     ]
    }
   ],
   "source": [
    "#  Q-21. Write Pandas code to fetch the count of employees working in the department 'Admin'.\n",
    "\n",
    "admin_count = worker['department'].str.strip().value_counts().get('Admin', 0)\n",
    "\n",
    "# Printing the result\n",
    "print(\"Number of employees working in the 'Admin' department after stripping whitespaces:\", admin_count)"
   ]
  },
  {
   "cell_type": "code",
   "execution_count": 39,
   "id": "a7f352f2",
   "metadata": {},
   "outputs": [
    {
     "data": {
      "text/plain": [
       "0    Monika                   \n",
       "1    Niharika                 \n",
       "6    Satish                   \n",
       "7    Geetika                  \n",
       "Name: first_name, dtype: object"
      ]
     },
     "execution_count": 39,
     "metadata": {},
     "output_type": "execute_result"
    }
   ],
   "source": [
    "#  Q-22. Write Pandas code to fetch worker names with salaries >=   50000 and <= 100000.\n",
    "\n",
    "filtered_df = worker[(worker['salary'] >= 50000) & (worker['salary'] <= 100000)]\n",
    "\n",
    "# Extracting WorkerNames from the filtered DataFrame\n",
    "selected_worker_names = filtered_df['first_name']\n",
    "selected_worker_names"
   ]
  },
  {
   "cell_type": "code",
   "execution_count": 40,
   "id": "653761e5",
   "metadata": {},
   "outputs": [
    {
     "name": "stdout",
     "output_type": "stream",
     "text": [
      "Admin                        4\n",
      "HR                           2\n",
      "Account                      2\n",
      "Name: department, dtype: int64\n"
     ]
    }
   ],
   "source": [
    "# Q-23. Write Pandas code to fetch the no. of workers  for each department in the descending order.\n",
    "\n",
    "department_counts = worker['department'].value_counts()\n",
    "\n",
    "# Display the counts in descending order\n",
    "department_counts = department_counts.sort_values(ascending=False)\n",
    "\n",
    "print(department_counts)"
   ]
  },
  {
   "cell_type": "code",
   "execution_count": 42,
   "id": "bd2200fa",
   "metadata": {},
   "outputs": [
    {
     "name": "stdout",
     "output_type": "stream",
     "text": [
      "   worker_id                 first_name                  last_name  salary  \\\n",
      "0          1  Monika                     Arora                      100000   \n",
      "4          5  Vivek                      Bhati                      500000   \n",
      "\n",
      "         joining_date                 department  year_x  month_x  day_x  \\\n",
      "0 2014-02-20 09:00:00  HR                           2014        2     20   \n",
      "4 2014-06-11 09:00:00  Admin                        2014        6     11   \n",
      "\n",
      "         FIRST_NAME_stripped        FIRST_NAME_modified COMPLETE_NAME  \\\n",
      "0  Monika                     MonikA                     Monika Arora   \n",
      "4  Vivek                      Vivek                       Vivek Bhati   \n",
      "\n",
      "   worker_ref_id               worker_title affected_from  year_y  month_y  \\\n",
      "0              1  Manager                      2016-02-20    2016        2   \n",
      "4              5  Manager                      2016-06-11    2016        6   \n",
      "\n",
      "   day_y  \n",
      "0     20  \n",
      "4     11  \n"
     ]
    }
   ],
   "source": [
    "# Q-24. Write Pandas code to print details of the Workers  who are also Managers.\n",
    "\n",
    "# Performing an inner join based on worker_id\n",
    "merged_data = pd.merge(worker, title, left_on='worker_id', right_on='worker_ref_id', how='inner')\n",
    "\n",
    "# Filtering the data for workers who are also managers\n",
    "managers_data = merged_data[merged_data['worker_title'].str.strip() == 'Manager']\n",
    "\n",
    "# Printing details of workers who are also managers\n",
    "print(managers_data)"
   ]
  },
  {
   "cell_type": "code",
   "execution_count": 43,
   "id": "40b9ae74",
   "metadata": {},
   "outputs": [
    {
     "name": "stdout",
     "output_type": "stream",
     "text": [
      "Duplicate Records:\n",
      "   worker_id                 first_name                  last_name  salary  \\\n",
      "0          1  Monika                     Arora                      100000   \n",
      "1          1  Monika                     Arora                      100000   \n",
      "2          2  Niharika                   Verma                       80000   \n",
      "3          2  Niharika                   Verma                       80000   \n",
      "\n",
      "         joining_date                 department  year_x  month_x  day_x  \\\n",
      "0 2014-02-20 09:00:00  HR                           2014        2     20   \n",
      "1 2014-02-20 09:00:00  HR                           2014        2     20   \n",
      "2 2014-06-11 09:00:00  Admin                        2014        6     11   \n",
      "3 2014-06-11 09:00:00  Admin                        2014        6     11   \n",
      "\n",
      "         FIRST_NAME_stripped  ...               worker_title affected_from  \\\n",
      "0  Monika                     ...  Manager                      2016-02-20   \n",
      "1  Monika                     ...  Manager                      2016-02-20   \n",
      "2  Niharika                   ...  Executive                    2016-06-11   \n",
      "3  Niharika                   ...  Executive                    2016-06-11   \n",
      "\n",
      "   year_y month_y day_y  bonus_amount  bonus_date  year  month day  \n",
      "0    2016       2    20          5000  2020-02-16  2020      2  16  \n",
      "1    2016       2    20          4500  2020-02-16  2020      2  16  \n",
      "2    2016       6    11          3000  2011-06-16  2011      6  16  \n",
      "3    2016       6    11          3500  2011-06-16  2011      6  16  \n",
      "\n",
      "[4 rows x 23 columns]\n"
     ]
    }
   ],
   "source": [
    "\n",
    "# Q-25. Write Pandas code to fetch duplicate records having matching data  in some fields of a table.\n",
    "\n",
    "# Merge the dataframes\n",
    "merged_data = pd.merge(worker, title, left_on='worker_id', right_on='worker_ref_id', how='inner')\n",
    "merged_data = pd.merge(merged_data, bonus, on='worker_ref_id', how='inner')\n",
    "\n",
    "# Find duplicates based on selected columns\n",
    "duplicate_rows = merged_data[merged_data.duplicated(['first_name', 'last_name', 'joining_date'], keep=False)]\n",
    "\n",
    "# Print the duplicate records\n",
    "print(\"Duplicate Records:\")\n",
    "print(duplicate_rows)"
   ]
  },
  {
   "cell_type": "code",
   "execution_count": 44,
   "id": "96b45613",
   "metadata": {},
   "outputs": [
    {
     "name": "stdout",
     "output_type": "stream",
     "text": [
      "   worker_id                 first_name                  last_name  salary  \\\n",
      "0          1  Monika                     Arora                      100000   \n",
      "2          3  Vishal                     Singhal                    300000   \n",
      "4          5  Vivek                      Bhati                      500000   \n",
      "6          7  Satish                     Kumar                       75000   \n",
      "\n",
      "         joining_date                 department  year  month  day  \\\n",
      "0 2014-02-20 09:00:00  HR                         2014      2   20   \n",
      "2 2014-02-20 09:00:00  HR                         2014      2   20   \n",
      "4 2014-06-11 09:00:00  Admin                      2014      6   11   \n",
      "6 2014-01-20 09:00:00  Account                    2014      1   20   \n",
      "\n",
      "         FIRST_NAME_stripped        FIRST_NAME_modified   COMPLETE_NAME  \n",
      "0  Monika                     MonikA                       Monika Arora  \n",
      "2  Vishal                     VishAl                     Vishal Singhal  \n",
      "4  Vivek                      Vivek                         Vivek Bhati  \n",
      "6  Satish                     SAtish                       Satish Kumar  \n"
     ]
    }
   ],
   "source": [
    "# Q-26. Write Pandas code to show only odd rows from a table.\n",
    "\n",
    "# Display only odd rows\n",
    "odd_rows = worker.iloc[::2]  # Selecting every 2nd row starting from the first row\n",
    "print(odd_rows)"
   ]
  },
  {
   "cell_type": "code",
   "execution_count": 45,
   "id": "8e307f77",
   "metadata": {},
   "outputs": [
    {
     "name": "stdout",
     "output_type": "stream",
     "text": [
      "   worker_id                 first_name                  last_name  salary  \\\n",
      "1          2  Niharika                   Verma                       80000   \n",
      "3          4  Amitabh                    Singh                      500000   \n",
      "5          6  Vipul                      Diwan                      200000   \n",
      "7          8  Geetika                    Chauhan                     90000   \n",
      "\n",
      "         joining_date                 department  year  month  day  \\\n",
      "1 2014-06-11 09:00:00  Admin                      2014      6   11   \n",
      "3 2014-02-20 09:00:00  Admin                      2014      2   20   \n",
      "5 2014-06-11 09:00:00  Account                    2014      6   11   \n",
      "7 2014-04-11 09:00:00  Admin                      2014      4   11   \n",
      "\n",
      "         FIRST_NAME_stripped        FIRST_NAME_modified    COMPLETE_NAME  \n",
      "1  Niharika                   NihArikA                    Niharika Verma  \n",
      "3  Amitabh                    AmitAbh                      Amitabh Singh  \n",
      "5  Vipul                      Vipul                          Vipul Diwan  \n",
      "7  Geetika                    GeetikA                    Geetika Chauhan  \n"
     ]
    }
   ],
   "source": [
    "# Q-27. Write Pandas code to Show only even rows from a table.\n",
    "\n",
    "# Display only even rows\n",
    "even_rows = worker.iloc[1::2]  # Selecting every 2nd row starting from the second row\n",
    "print(even_rows)"
   ]
  },
  {
   "cell_type": "code",
   "execution_count": 47,
   "id": "0df920a0",
   "metadata": {},
   "outputs": [
    {
     "data": {
      "text/html": [
       "<div><div id=b4b216c2-a92d-4e7e-87e0-c0b52bc7c00b style=\"display:none; background-color:#9D6CFF; color:white; width:200px; height:30px; padding-left:5px; border-radius:4px; flex-direction:row; justify-content:space-around; align-items:center;\" onmouseover=\"this.style.backgroundColor='#BA9BF8'\" onmouseout=\"this.style.backgroundColor='#9D6CFF'\" onclick=\"window.commands?.execute('create-mitosheet-from-dataframe-output');\">See Full Dataframe in Mito</div> <script> if (window.commands.hasCommand('create-mitosheet-from-dataframe-output')) document.getElementById('b4b216c2-a92d-4e7e-87e0-c0b52bc7c00b').style.display = 'flex' </script> <table border=\"1\" class=\"dataframe\">\n",
       "  <thead>\n",
       "    <tr style=\"text-align: right;\">\n",
       "      <th></th>\n",
       "      <th>worker_id</th>\n",
       "      <th>first_name</th>\n",
       "      <th>last_name</th>\n",
       "      <th>salary</th>\n",
       "      <th>joining_date</th>\n",
       "      <th>department</th>\n",
       "      <th>year</th>\n",
       "      <th>month</th>\n",
       "      <th>day</th>\n",
       "      <th>FIRST_NAME_stripped</th>\n",
       "      <th>FIRST_NAME_modified</th>\n",
       "      <th>COMPLETE_NAME</th>\n",
       "    </tr>\n",
       "  </thead>\n",
       "  <tbody>\n",
       "    <tr>\n",
       "      <th>0</th>\n",
       "      <td>1</td>\n",
       "      <td>Monika</td>\n",
       "      <td>Arora</td>\n",
       "      <td>100000</td>\n",
       "      <td>2014-02-20 09:00:00</td>\n",
       "      <td>HR</td>\n",
       "      <td>2014</td>\n",
       "      <td>2</td>\n",
       "      <td>20</td>\n",
       "      <td>Monika</td>\n",
       "      <td>MonikA</td>\n",
       "      <td>Monika Arora</td>\n",
       "    </tr>\n",
       "    <tr>\n",
       "      <th>1</th>\n",
       "      <td>2</td>\n",
       "      <td>Niharika</td>\n",
       "      <td>Verma</td>\n",
       "      <td>80000</td>\n",
       "      <td>2014-06-11 09:00:00</td>\n",
       "      <td>Admin</td>\n",
       "      <td>2014</td>\n",
       "      <td>6</td>\n",
       "      <td>11</td>\n",
       "      <td>Niharika</td>\n",
       "      <td>NihArikA</td>\n",
       "      <td>Niharika Verma</td>\n",
       "    </tr>\n",
       "    <tr>\n",
       "      <th>2</th>\n",
       "      <td>3</td>\n",
       "      <td>Vishal</td>\n",
       "      <td>Singhal</td>\n",
       "      <td>300000</td>\n",
       "      <td>2014-02-20 09:00:00</td>\n",
       "      <td>HR</td>\n",
       "      <td>2014</td>\n",
       "      <td>2</td>\n",
       "      <td>20</td>\n",
       "      <td>Vishal</td>\n",
       "      <td>VishAl</td>\n",
       "      <td>Vishal Singhal</td>\n",
       "    </tr>\n",
       "    <tr>\n",
       "      <th>3</th>\n",
       "      <td>4</td>\n",
       "      <td>Amitabh</td>\n",
       "      <td>Singh</td>\n",
       "      <td>500000</td>\n",
       "      <td>2014-02-20 09:00:00</td>\n",
       "      <td>Admin</td>\n",
       "      <td>2014</td>\n",
       "      <td>2</td>\n",
       "      <td>20</td>\n",
       "      <td>Amitabh</td>\n",
       "      <td>AmitAbh</td>\n",
       "      <td>Amitabh Singh</td>\n",
       "    </tr>\n",
       "    <tr>\n",
       "      <th>4</th>\n",
       "      <td>5</td>\n",
       "      <td>Vivek</td>\n",
       "      <td>Bhati</td>\n",
       "      <td>500000</td>\n",
       "      <td>2014-06-11 09:00:00</td>\n",
       "      <td>Admin</td>\n",
       "      <td>2014</td>\n",
       "      <td>6</td>\n",
       "      <td>11</td>\n",
       "      <td>Vivek</td>\n",
       "      <td>Vivek</td>\n",
       "      <td>Vivek Bhati</td>\n",
       "    </tr>\n",
       "  </tbody>\n",
       "</table></div>"
      ],
      "text/plain": [
       "   worker_id                 first_name                  last_name  salary  \\\n",
       "0          1  Monika                     Arora                      100000   \n",
       "1          2  Niharika                   Verma                       80000   \n",
       "2          3  Vishal                     Singhal                    300000   \n",
       "3          4  Amitabh                    Singh                      500000   \n",
       "4          5  Vivek                      Bhati                      500000   \n",
       "\n",
       "         joining_date                 department  year  month  day  \\\n",
       "0 2014-02-20 09:00:00  HR                         2014      2   20   \n",
       "1 2014-06-11 09:00:00  Admin                      2014      6   11   \n",
       "2 2014-02-20 09:00:00  HR                         2014      2   20   \n",
       "3 2014-02-20 09:00:00  Admin                      2014      2   20   \n",
       "4 2014-06-11 09:00:00  Admin                      2014      6   11   \n",
       "\n",
       "         FIRST_NAME_stripped        FIRST_NAME_modified   COMPLETE_NAME  \n",
       "0  Monika                     MonikA                       Monika Arora  \n",
       "1  Niharika                   NihArikA                   Niharika Verma  \n",
       "2  Vishal                     VishAl                     Vishal Singhal  \n",
       "3  Amitabh                    AmitAbh                     Amitabh Singh  \n",
       "4  Vivek                      Vivek                         Vivek Bhati  "
      ]
     },
     "execution_count": 47,
     "metadata": {},
     "output_type": "execute_result"
    }
   ],
   "source": [
    "# Q-28. Write Pandas code to Clone a new table from another table.\n",
    "\n",
    "# Using the copy() method\n",
    "cloned_table_copy = worker.copy()\n",
    "cloned_table_copy.head()"
   ]
  },
  {
   "cell_type": "code",
   "execution_count": 48,
   "id": "5fdbe9ae",
   "metadata": {},
   "outputs": [
    {
     "name": "stdout",
     "output_type": "stream",
     "text": [
      "Intersecting Records:\n",
      "   worker_id                 first_name                  last_name  salary  \\\n",
      "0          1  Monika                     Arora                      100000   \n",
      "1          1  Monika                     Arora                      100000   \n",
      "2          2  Niharika                   Verma                       80000   \n",
      "3          2  Niharika                   Verma                       80000   \n",
      "4          3  Vishal                     Singhal                    300000   \n",
      "\n",
      "         joining_date                 department  year_x  month_x  day_x  \\\n",
      "0 2014-02-20 09:00:00  HR                           2014        2     20   \n",
      "1 2014-02-20 09:00:00  HR                           2014        2     20   \n",
      "2 2014-06-11 09:00:00  Admin                        2014        6     11   \n",
      "3 2014-06-11 09:00:00  Admin                        2014        6     11   \n",
      "4 2014-02-20 09:00:00  HR                           2014        2     20   \n",
      "\n",
      "         FIRST_NAME_stripped  ...               worker_title affected_from  \\\n",
      "0  Monika                     ...  Manager                      2016-02-20   \n",
      "1  Monika                     ...  Manager                      2016-02-20   \n",
      "2  Niharika                   ...  Executive                    2016-06-11   \n",
      "3  Niharika                   ...  Executive                    2016-06-11   \n",
      "4  Vishal                     ...  Lead                         2016-06-11   \n",
      "\n",
      "   year_y month_y day_y  bonus_amount  bonus_date  year  month day  \n",
      "0    2016       2    20          5000  2020-02-16  2020      2  16  \n",
      "1    2016       2    20          4500  2020-02-16  2020      2  16  \n",
      "2    2016       6    11          3000  2011-06-16  2011      6  16  \n",
      "3    2016       6    11          3500  2011-06-16  2011      6  16  \n",
      "4    2016       6    11          4000  2020-02-16  2020      2  16  \n",
      "\n",
      "[5 rows x 23 columns]\n"
     ]
    }
   ],
   "source": [
    "# Q-29. Write Pandas code to Fetch intersecting records of two tables.\n",
    "\n",
    "# Fetching intersecting records based on common columns\n",
    "intersecting_records = pd.merge(worker, title, left_on='worker_id', right_on='worker_ref_id', how='inner')\n",
    "intersecting_records = pd.merge(intersecting_records, bonus, on='worker_ref_id', how='inner')\n",
    "\n",
    "# Displaying the intersecting records\n",
    "print(\"Intersecting Records:\")\n",
    "print(intersecting_records)"
   ]
  },
  {
   "cell_type": "code",
   "execution_count": 54,
   "id": "58ca70cc",
   "metadata": {},
   "outputs": [
    {
     "name": "stdout",
     "output_type": "stream",
     "text": [
      "Records in 'worker' that are not in 'title':\n",
      "Empty DataFrame\n",
      "Columns: [worker_id, first_name, last_name, salary, joining_date, department, year, month, day, FIRST_NAME_stripped, FIRST_NAME_modified, COMPLETE_NAME]\n",
      "Index: []\n"
     ]
    }
   ],
   "source": [
    "# Q-30. Write Pandas code to show records from one table  that another table does not have.\n",
    "\n",
    "records_not_in_title = worker[~worker['worker_id'].astype(str).str.strip().isin(title['worker_ref_id'].astype(str).str.strip())]\n",
    "\n",
    "# Displaying the records not in the 'title' DataFrame\n",
    "print(\"Records in 'worker' that are not in 'title':\")\n",
    "print(records_not_in_title)"
   ]
  },
  {
   "cell_type": "code",
   "execution_count": 56,
   "id": "15fe65a2",
   "metadata": {},
   "outputs": [
    {
     "data": {
      "text/html": [
       "<div><div id=e7201fbe-ef57-4b8c-939f-f714674e5615 style=\"display:none; background-color:#9D6CFF; color:white; width:200px; height:30px; padding-left:5px; border-radius:4px; flex-direction:row; justify-content:space-around; align-items:center;\" onmouseover=\"this.style.backgroundColor='#BA9BF8'\" onmouseout=\"this.style.backgroundColor='#9D6CFF'\" onclick=\"window.commands?.execute('create-mitosheet-from-dataframe-output');\">See Full Dataframe in Mito</div> <script> if (window.commands.hasCommand('create-mitosheet-from-dataframe-output')) document.getElementById('e7201fbe-ef57-4b8c-939f-f714674e5615').style.display = 'flex' </script> <table border=\"1\" class=\"dataframe\">\n",
       "  <thead>\n",
       "    <tr style=\"text-align: right;\">\n",
       "      <th></th>\n",
       "      <th>worker_id</th>\n",
       "      <th>first_name</th>\n",
       "      <th>last_name</th>\n",
       "      <th>salary</th>\n",
       "      <th>joining_date</th>\n",
       "      <th>department</th>\n",
       "      <th>year</th>\n",
       "      <th>month</th>\n",
       "      <th>day</th>\n",
       "      <th>FIRST_NAME_stripped</th>\n",
       "      <th>FIRST_NAME_modified</th>\n",
       "      <th>COMPLETE_NAME</th>\n",
       "    </tr>\n",
       "  </thead>\n",
       "  <tbody>\n",
       "    <tr>\n",
       "      <th>3</th>\n",
       "      <td>4</td>\n",
       "      <td>Amitabh</td>\n",
       "      <td>Singh</td>\n",
       "      <td>500000</td>\n",
       "      <td>2014-02-20 09:00:00</td>\n",
       "      <td>Admin</td>\n",
       "      <td>2014</td>\n",
       "      <td>2</td>\n",
       "      <td>20</td>\n",
       "      <td>Amitabh</td>\n",
       "      <td>AmitAbh</td>\n",
       "      <td>Amitabh Singh</td>\n",
       "    </tr>\n",
       "    <tr>\n",
       "      <th>4</th>\n",
       "      <td>5</td>\n",
       "      <td>Vivek</td>\n",
       "      <td>Bhati</td>\n",
       "      <td>500000</td>\n",
       "      <td>2014-06-11 09:00:00</td>\n",
       "      <td>Admin</td>\n",
       "      <td>2014</td>\n",
       "      <td>6</td>\n",
       "      <td>11</td>\n",
       "      <td>Vivek</td>\n",
       "      <td>Vivek</td>\n",
       "      <td>Vivek Bhati</td>\n",
       "    </tr>\n",
       "    <tr>\n",
       "      <th>2</th>\n",
       "      <td>3</td>\n",
       "      <td>Vishal</td>\n",
       "      <td>Singhal</td>\n",
       "      <td>300000</td>\n",
       "      <td>2014-02-20 09:00:00</td>\n",
       "      <td>HR</td>\n",
       "      <td>2014</td>\n",
       "      <td>2</td>\n",
       "      <td>20</td>\n",
       "      <td>Vishal</td>\n",
       "      <td>VishAl</td>\n",
       "      <td>Vishal Singhal</td>\n",
       "    </tr>\n",
       "    <tr>\n",
       "      <th>5</th>\n",
       "      <td>6</td>\n",
       "      <td>Vipul</td>\n",
       "      <td>Diwan</td>\n",
       "      <td>200000</td>\n",
       "      <td>2014-06-11 09:00:00</td>\n",
       "      <td>Account</td>\n",
       "      <td>2014</td>\n",
       "      <td>6</td>\n",
       "      <td>11</td>\n",
       "      <td>Vipul</td>\n",
       "      <td>Vipul</td>\n",
       "      <td>Vipul Diwan</td>\n",
       "    </tr>\n",
       "    <tr>\n",
       "      <th>0</th>\n",
       "      <td>1</td>\n",
       "      <td>Monika</td>\n",
       "      <td>Arora</td>\n",
       "      <td>100000</td>\n",
       "      <td>2014-02-20 09:00:00</td>\n",
       "      <td>HR</td>\n",
       "      <td>2014</td>\n",
       "      <td>2</td>\n",
       "      <td>20</td>\n",
       "      <td>Monika</td>\n",
       "      <td>MonikA</td>\n",
       "      <td>Monika Arora</td>\n",
       "    </tr>\n",
       "  </tbody>\n",
       "</table></div>"
      ],
      "text/plain": [
       "   worker_id                 first_name                  last_name  salary  \\\n",
       "3          4  Amitabh                    Singh                      500000   \n",
       "4          5  Vivek                      Bhati                      500000   \n",
       "2          3  Vishal                     Singhal                    300000   \n",
       "5          6  Vipul                      Diwan                      200000   \n",
       "0          1  Monika                     Arora                      100000   \n",
       "\n",
       "         joining_date                 department  year  month  day  \\\n",
       "3 2014-02-20 09:00:00  Admin                      2014      2   20   \n",
       "4 2014-06-11 09:00:00  Admin                      2014      6   11   \n",
       "2 2014-02-20 09:00:00  HR                         2014      2   20   \n",
       "5 2014-06-11 09:00:00  Account                    2014      6   11   \n",
       "0 2014-02-20 09:00:00  HR                         2014      2   20   \n",
       "\n",
       "         FIRST_NAME_stripped        FIRST_NAME_modified   COMPLETE_NAME  \n",
       "3  Amitabh                    AmitAbh                     Amitabh Singh  \n",
       "4  Vivek                      Vivek                         Vivek Bhati  \n",
       "2  Vishal                     VishAl                     Vishal Singhal  \n",
       "5  Vipul                      Vipul                         Vipul Diwan  \n",
       "0  Monika                     MonikA                       Monika Arora  "
      ]
     },
     "execution_count": 56,
     "metadata": {},
     "output_type": "execute_result"
    }
   ],
   "source": [
    "# Q-31. Write Pandas code to Show the top n (say 5) records of a table ordered by descending salary.\n",
    "\n",
    "n = 5\n",
    "top_n_records = worker.sort_values(by='salary', ascending=False).head(n)\n",
    "top_n_records"
   ]
  },
  {
   "cell_type": "code",
   "execution_count": 57,
   "id": "a0ee7011",
   "metadata": {},
   "outputs": [
    {
     "name": "stdout",
     "output_type": "stream",
     "text": [
      "The 5th highest salary is: 100000\n"
     ]
    }
   ],
   "source": [
    "# Q-32. Write Pandas code to Determine the nth (say n=5) highest salary from a table.\n",
    "\n",
    "n = 5\n",
    "nth_highest_salary = worker['salary'].nlargest(n).iloc[-1]\n",
    "\n",
    "# Displaying the nth highest salary\n",
    "print(f\"The {n}th highest salary is: {nth_highest_salary}\")"
   ]
  },
  {
   "cell_type": "code",
   "execution_count": 58,
   "id": "a23b8a2f",
   "metadata": {},
   "outputs": [
    {
     "name": "stdout",
     "output_type": "stream",
     "text": [
      "The 5th highest salary is: 100000\n"
     ]
    }
   ],
   "source": [
    "# Q-33. Write Pandas code to Determine the 5th highest salary without using the nlargest keyword.\n",
    "\n",
    "sorted_df = worker.sort_values(by='salary', ascending=False)\n",
    "\n",
    "# Determine the 5th highest salary\n",
    "n = 5\n",
    "fifth_highest_salary = sorted_df.iloc[n - 1]['salary']\n",
    "\n",
    "# Displaying the 5th highest salary\n",
    "print(f\"The {n}th highest salary is: {fifth_highest_salary}\")"
   ]
  },
  {
   "cell_type": "code",
   "execution_count": 63,
   "id": "121d6ec9",
   "metadata": {},
   "outputs": [
    {
     "name": "stdout",
     "output_type": "stream",
     "text": [
      "Employees with the same salary but different worker_id:\n",
      "   worker_id_w1              first_name_w1               last_name_w1  salary  \\\n",
      "4             4  Amitabh                    Singh                      500000   \n",
      "5             5  Vivek                      Bhati                      500000   \n",
      "\n",
      "      joining_date_w1              department_w1  year_w1  month_w1  day_w1  \\\n",
      "4 2014-02-20 09:00:00  Admin                         2014         2      20   \n",
      "5 2014-06-11 09:00:00  Admin                         2014         6      11   \n",
      "\n",
      "      FIRST_NAME_stripped_w1  ...              first_name_w2  \\\n",
      "4  Amitabh                    ...  Vivek                       \n",
      "5  Vivek                      ...  Amitabh                     \n",
      "\n",
      "                last_name_w2     joining_date_w2              department_w2  \\\n",
      "4  Bhati                     2014-06-11 09:00:00  Admin                       \n",
      "5  Singh                     2014-02-20 09:00:00  Admin                       \n",
      "\n",
      "  year_w2 month_w2 day_w2     FIRST_NAME_stripped_w2  \\\n",
      "4    2014        6     11  Vivek                       \n",
      "5    2014        2     20  Amitabh                     \n",
      "\n",
      "      FIRST_NAME_modified_w2  COMPLETE_NAME_w2  \n",
      "4  Vivek                           Vivek Bhati  \n",
      "5  AmitAbh                       Amitabh Singh  \n",
      "\n",
      "[2 rows x 23 columns]\n"
     ]
    }
   ],
   "source": [
    "# Q-34. Write Pandas code to Fetch the list of employees with the same salary.\n",
    "\n",
    "merged_df = pd.merge(worker, worker, on='salary', suffixes=('_w1', '_w2'))\n",
    "\n",
    "# Filter rows where worker_id values are different\n",
    "result = merged_df[(merged_df['worker_id_w1'] != merged_df['worker_id_w2'])]\n",
    "\n",
    "# Displaying the result\n",
    "print(\"Employees with the same salary but different worker_id:\")\n",
    "print(result)"
   ]
  },
  {
   "cell_type": "code",
   "execution_count": 64,
   "id": "2dddcf29",
   "metadata": {},
   "outputs": [
    {
     "name": "stdout",
     "output_type": "stream",
     "text": [
      "The second-highest salary is: 75000\n"
     ]
    }
   ],
   "source": [
    "# Q-35. Write Pandas code to Show the second-highest salary from a worker table\n",
    "\n",
    "second_highest_salary = worker['salary'].unique()[-2]\n",
    "\n",
    "# Displaying the second-highest salary\n",
    "print(f\"The second-highest salary is: {second_highest_salary}\")"
   ]
  },
  {
   "cell_type": "code",
   "execution_count": 66,
   "id": "24884206",
   "metadata": {},
   "outputs": [
    {
     "name": "stdout",
     "output_type": "stream",
     "text": [
      "Worker_id who does not get a bonus:\n",
      "5    4\n",
      "6    5\n",
      "7    6\n",
      "8    7\n",
      "9    8\n",
      "Name: worker_id, dtype: int64\n"
     ]
    }
   ],
   "source": [
    "# Q-36. Write Pandas code to List worker_id who does not get a bonus.\n",
    "\n",
    "merged_data = pd.merge(worker, bonus, left_on='worker_id', right_on='worker_ref_id', how='left', indicator=True)\n",
    "workers_without_bonus = merged_data[merged_data['_merge'] == 'left_only']['worker_id']\n",
    "\n",
    "# Displaying worker_id without a bonus\n",
    "print(\"Worker_id who does not get a bonus:\")\n",
    "print(workers_without_bonus)"
   ]
  },
  {
   "cell_type": "code",
   "execution_count": 67,
   "id": "e98c148a",
   "metadata": {},
   "outputs": [
    {
     "name": "stdout",
     "output_type": "stream",
     "text": [
      "Departments with less than 4 people:\n",
      "                  department\n",
      "0  Account                  \n",
      "2  HR                       \n"
     ]
    }
   ],
   "source": [
    "# Q-37. Write Pandas code to Fetch the departments that have less than 4 people in it.\n",
    "\n",
    "departments_less_than_4_people = worker.groupby('department')['worker_id'].count().reset_index(name='num_people')\n",
    "departments_less_than_4_people = departments_less_than_4_people[departments_less_than_4_people['num_people'] < 4]\n",
    "\n",
    "# Displaying the departments with less than 4 people\n",
    "print(\"Departments with less than 4 people:\")\n",
    "print(departments_less_than_4_people[['department']])"
   ]
  },
  {
   "cell_type": "code",
   "execution_count": 68,
   "id": "97a14613",
   "metadata": {},
   "outputs": [
    {
     "name": "stdout",
     "output_type": "stream",
     "text": [
      "Departments along with the number of people:\n",
      "                  department  num_people\n",
      "0  Account                             2\n",
      "1  Admin                               4\n",
      "2  HR                                  2\n"
     ]
    }
   ],
   "source": [
    "# Q-38. Write Pandas code to Show all departments along with the number of people in there.\n",
    "\n",
    "departments_and_people_count = worker.groupby('department')['worker_id'].count().reset_index(name='num_people')\n",
    "\n",
    "# Displaying all departments along with the number of people\n",
    "print(\"Departments along with the number of people:\")\n",
    "print(departments_and_people_count)"
   ]
  },
  {
   "cell_type": "code",
   "execution_count": 69,
   "id": "6638a850",
   "metadata": {},
   "outputs": [
    {
     "name": "stdout",
     "output_type": "stream",
     "text": [
      "Last record from the table:\n",
      "   worker_id                 first_name                  last_name  salary  \\\n",
      "7          8  Geetika                    Chauhan                     90000   \n",
      "\n",
      "         joining_date                 department  year  month  day  \\\n",
      "7 2014-04-11 09:00:00  Admin                      2014      4   11   \n",
      "\n",
      "         FIRST_NAME_stripped        FIRST_NAME_modified    COMPLETE_NAME  \n",
      "7  Geetika                    GeetikA                    Geetika Chauhan  \n"
     ]
    }
   ],
   "source": [
    "# Q-39. Write Pandas code to Show the last record from a table.\n",
    "\n",
    "last_record = worker.tail(1)\n",
    "\n",
    "# Displaying the last record\n",
    "print(\"Last record from the table:\")\n",
    "print(last_record)"
   ]
  },
  {
   "cell_type": "code",
   "execution_count": 70,
   "id": "4f65bebd",
   "metadata": {},
   "outputs": [
    {
     "name": "stdout",
     "output_type": "stream",
     "text": [
      "Last five records from the table:\n",
      "   worker_id                 first_name                  last_name  salary  \\\n",
      "3          4  Amitabh                    Singh                      500000   \n",
      "4          5  Vivek                      Bhati                      500000   \n",
      "5          6  Vipul                      Diwan                      200000   \n",
      "6          7  Satish                     Kumar                       75000   \n",
      "7          8  Geetika                    Chauhan                     90000   \n",
      "\n",
      "         joining_date                 department  year  month  day  \\\n",
      "3 2014-02-20 09:00:00  Admin                      2014      2   20   \n",
      "4 2014-06-11 09:00:00  Admin                      2014      6   11   \n",
      "5 2014-06-11 09:00:00  Account                    2014      6   11   \n",
      "6 2014-01-20 09:00:00  Account                    2014      1   20   \n",
      "7 2014-04-11 09:00:00  Admin                      2014      4   11   \n",
      "\n",
      "         FIRST_NAME_stripped        FIRST_NAME_modified    COMPLETE_NAME  \n",
      "3  Amitabh                    AmitAbh                      Amitabh Singh  \n",
      "4  Vivek                      Vivek                          Vivek Bhati  \n",
      "5  Vipul                      Vipul                          Vipul Diwan  \n",
      "6  Satish                     SAtish                        Satish Kumar  \n",
      "7  Geetika                    GeetikA                    Geetika Chauhan  \n"
     ]
    }
   ],
   "source": [
    "# Q-40. Write Pandas code to Fetch the last five records from a table.\n",
    "\n",
    "last_five_records = worker.tail(5)\n",
    "\n",
    "# Displaying the last five records\n",
    "print(\"Last five records from the table:\")\n",
    "print(last_five_records)"
   ]
  },
  {
   "cell_type": "code",
   "execution_count": 72,
   "id": "aacae2eb",
   "metadata": {},
   "outputs": [
    {
     "name": "stdout",
     "output_type": "stream",
     "text": [
      "Employees with the highest salary in each department:\n",
      "   worker_id                 first_name                  last_name  salary  \\\n",
      "5          6  Vipul                      Diwan                      200000   \n",
      "3          4  Amitabh                    Singh                      500000   \n",
      "2          3  Vishal                     Singhal                    300000   \n",
      "\n",
      "         joining_date                 department  year  month  day  \\\n",
      "5 2014-06-11 09:00:00  Account                    2014      6   11   \n",
      "3 2014-02-20 09:00:00  Admin                      2014      2   20   \n",
      "2 2014-02-20 09:00:00  HR                         2014      2   20   \n",
      "\n",
      "         FIRST_NAME_stripped        FIRST_NAME_modified   COMPLETE_NAME  \n",
      "5  Vipul                      Vipul                         Vipul Diwan  \n",
      "3  Amitabh                    AmitAbh                     Amitabh Singh  \n",
      "2  Vishal                     VishAl                     Vishal Singhal  \n"
     ]
    }
   ],
   "source": [
    "# Q-41. Write Pandas code to Print the employees with the highest salary in each department.\n",
    "\n",
    "max_salary_indices = worker.groupby('department')['salary'].idxmax()\n",
    "\n",
    "# Extract the corresponding records\n",
    "employees_highest_salary = worker.loc[max_salary_indices]\n",
    "\n",
    "# Displaying employees with the highest salary in each department\n",
    "print(\"Employees with the highest salary in each department:\")\n",
    "print(employees_highest_salary)"
   ]
  },
  {
   "cell_type": "code",
   "execution_count": 73,
   "id": "19f4d576",
   "metadata": {},
   "outputs": [
    {
     "name": "stdout",
     "output_type": "stream",
     "text": [
      "Three max salaries from the table:\n",
      "3    500000\n",
      "4    500000\n",
      "2    300000\n",
      "Name: salary, dtype: int64\n"
     ]
    }
   ],
   "source": [
    "# Q-42. Write Pandas code to  Fetch three max salaries from a table\n",
    "\n",
    "three_max_salaries = worker['salary'].nlargest(3)\n",
    "\n",
    "# Displaying the three max salaries\n",
    "print(\"Three max salaries from the table:\")\n",
    "print(three_max_salaries)"
   ]
  },
  {
   "cell_type": "code",
   "execution_count": 74,
   "id": "15937908",
   "metadata": {},
   "outputs": [
    {
     "name": "stdout",
     "output_type": "stream",
     "text": [
      "The 3rd max salary is: 300000\n"
     ]
    }
   ],
   "source": [
    "# Q-43. Write Pandas code to  Fetch nth max salaries from a table (3 rd max salary).\n",
    "\n",
    "n = 3\n",
    "nth_max_salary = worker['salary'].nlargest(n).iloc[-1]\n",
    "\n",
    "# Displaying the 3rd max salary\n",
    "print(f\"The {n}rd max salary is: {nth_max_salary}\")"
   ]
  },
  {
   "cell_type": "code",
   "execution_count": 75,
   "id": "a52ac7df",
   "metadata": {},
   "outputs": [
    {
     "name": "stdout",
     "output_type": "stream",
     "text": [
      "Departments along with the total salaries paid for each of them:\n",
      "                  department  total_salary\n",
      "0  Account                          275000\n",
      "1  Admin                           1170000\n",
      "2  HR                               400000\n"
     ]
    }
   ],
   "source": [
    "# Q-44. Write Pandas code to   Fetch departments along with the total salaries paid for each of them.\n",
    "\n",
    "total_salaries_per_department = worker.groupby('department')['salary'].sum().reset_index(name='total_salary')\n",
    "\n",
    "# Displaying departments along with total salaries\n",
    "print(\"Departments along with the total salaries paid for each of them:\")\n",
    "print(total_salaries_per_department)"
   ]
  },
  {
   "cell_type": "code",
   "execution_count": 77,
   "id": "fc86c101",
   "metadata": {},
   "outputs": [
    {
     "name": "stdout",
     "output_type": "stream",
     "text": [
      "Names of workers who earn the highest salary:\n",
      "first_name    Amitabh                  \n",
      "last_name     Singh                    \n",
      "Name: 3, dtype: object\n"
     ]
    }
   ],
   "source": [
    "# Q-45. Write Pandas code to   Fetch the names of workers who earn the highest salary.\n",
    "\n",
    "# Find the index of the maximum salary\n",
    "max_salary_index = worker['salary'].idxmax()\n",
    "\n",
    "highest_salary_workers = worker.loc[max_salary_index, ['first_name', 'last_name']]\n",
    "\n",
    "# Displaying the names of workers who earn the highest salary\n",
    "print(\"Names of workers who earn the highest salary:\")\n",
    "print(highest_salary_workers)"
   ]
  },
  {
   "cell_type": "code",
   "execution_count": 78,
   "id": "357d8cd4",
   "metadata": {},
   "outputs": [
    {
     "name": "stdout",
     "output_type": "stream",
     "text": [
      "Names of employees with the highest salary in each department:\n",
      "                                          first_name  \\\n",
      "department                                             \n",
      "Account                    Vipul                       \n",
      "Admin                      Amitabh                     \n",
      "HR                         Vishal                      \n",
      "\n",
      "                                           last_name  \n",
      "department                                            \n",
      "Account                    Diwan                      \n",
      "Admin                      Singh                      \n",
      "HR                         Singhal                    \n"
     ]
    }
   ],
   "source": [
    "# Q-46. Write Pandas code to print the name of employees  having the highest salary in each department.\n",
    "\n",
    "# Define a function to get the employee with the highest salary in each department\n",
    "def get_employee_with_highest_salary(group):\n",
    "    return group.loc[group['salary'].idxmax(), ['first_name', 'last_name']]\n",
    "\n",
    "# Apply the function to each department group\n",
    "result = worker.groupby('department').apply(get_employee_with_highest_salary)\n",
    "\n",
    "# Displaying the names of employees with the highest salary in each department\n",
    "print(\"Names of employees with the highest salary in each department:\")\n",
    "print(result)"
   ]
  },
  {
   "cell_type": "code",
   "execution_count": 79,
   "id": "33fc03d7",
   "metadata": {},
   "outputs": [
    {
     "name": "stdout",
     "output_type": "stream",
     "text": [
      "Three min salaries from the table:\n",
      "6    75000\n",
      "1    80000\n",
      "7    90000\n",
      "Name: salary, dtype: int64\n"
     ]
    }
   ],
   "source": [
    "# Q-47. Write Pandas code to fetch three min salaries from a table.\n",
    "\n",
    "three_min_salaries = worker['salary'].nsmallest(3)\n",
    "\n",
    "# Displaying the three min salaries\n",
    "print(\"Three min salaries from the table:\")\n",
    "print(three_min_salaries)"
   ]
  },
  {
   "cell_type": "code",
   "execution_count": 80,
   "id": "120d6e6b",
   "metadata": {},
   "outputs": [
    {
     "name": "stdout",
     "output_type": "stream",
     "text": [
      "The 3rd max salary is: 300000\n"
     ]
    }
   ],
   "source": [
    "# Q-48. Write Pandas code to fetch nth max salaries from a table.\n",
    "\n",
    "n = 3\n",
    "nth_max_salary = worker['salary'].nlargest(n).iloc[-1]\n",
    "\n",
    "# Displaying the nth max salary\n",
    "print(f\"The {n}rd max salary is: {nth_max_salary}\")"
   ]
  },
  {
   "cell_type": "code",
   "execution_count": 81,
   "id": "ea7376a6",
   "metadata": {},
   "outputs": [
    {
     "name": "stdout",
     "output_type": "stream",
     "text": [
      "Departments along with the total salaries paid for each of them:\n",
      "                  department  total_salary\n",
      "0  Account                          275000\n",
      "1  Admin                           1170000\n",
      "2  HR                               400000\n"
     ]
    }
   ],
   "source": [
    "# Q-49. Write Pandas code to fetch departments along with the total salaries  paid for each of them.\n",
    "\n",
    "total_salaries_per_department = worker.groupby('department')['salary'].sum().reset_index(name='total_salary')\n",
    "\n",
    "# Displaying departments along with total salaries\n",
    "print(\"Departments along with the total salaries paid for each of them:\")\n",
    "print(total_salaries_per_department)"
   ]
  },
  {
   "cell_type": "code",
   "execution_count": 83,
   "id": "edbd3d8e",
   "metadata": {},
   "outputs": [
    {
     "name": "stdout",
     "output_type": "stream",
     "text": [
      "Names of workers who earn the highest salary: Amitabh                   Singh                    \n"
     ]
    }
   ],
   "source": [
    "# Q-50. Write Pandas code To Fetch The Names Of Workers Who Earn The Highest Salary.\n",
    "\n",
    "highest_salary_row = worker.loc[worker['salary'].idxmax()]\n",
    "highest_salary_names = f\"{highest_salary_row['first_name']} {highest_salary_row['last_name']}\"\n",
    "\n",
    "# Displaying the names of workers with the highest salary\n",
    "print(f\"Names of workers who earn the highest salary: {highest_salary_names}\")"
   ]
  },
  {
   "cell_type": "code",
   "execution_count": null,
   "id": "217d037e",
   "metadata": {},
   "outputs": [],
   "source": []
  }
 ],
 "metadata": {
  "kernelspec": {
   "display_name": "Python 3 (ipykernel)",
   "language": "python",
   "name": "python3"
  },
  "language_info": {
   "codemirror_mode": {
    "name": "ipython",
    "version": 3
   },
   "file_extension": ".py",
   "mimetype": "text/x-python",
   "name": "python",
   "nbconvert_exporter": "python",
   "pygments_lexer": "ipython3",
   "version": "3.9.7"
  }
 },
 "nbformat": 4,
 "nbformat_minor": 5
}
